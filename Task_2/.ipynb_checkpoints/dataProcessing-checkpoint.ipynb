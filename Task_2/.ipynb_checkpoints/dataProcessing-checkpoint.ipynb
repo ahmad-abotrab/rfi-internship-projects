{
 "cells": [
  {
   "cell_type": "markdown",
   "id": "4bbe1bd4e10d0573",
   "metadata": {},
   "source": [
    "<h1 style=\"color:#104680\"> Pandas package </h1>\n",
    "Using dataset about border crossing entry in USA"
   ]
  },
  {
   "cell_type": "code",
   "execution_count": 1,
   "id": "fbc121e30a2defb3",
   "metadata": {
    "ExecuteTime": {
     "end_time": "2025-05-09T18:33:18.010968Z",
     "start_time": "2025-05-09T18:33:17.667023Z"
    }
   },
   "outputs": [],
   "source": [
    "import pandas as pd"
   ]
  },
  {
   "cell_type": "code",
   "execution_count": 2,
   "id": "e18e86345be2742b",
   "metadata": {
    "ExecuteTime": {
     "end_time": "2025-05-09T18:33:19.188239Z",
     "start_time": "2025-05-09T18:33:19.183100Z"
    }
   },
   "outputs": [
    {
     "data": {
      "text/plain": [
       "'2.2.3'"
      ]
     },
     "execution_count": 2,
     "metadata": {},
     "output_type": "execute_result"
    }
   ],
   "source": [
    "pd.__version__"
   ]
  },
  {
   "cell_type": "markdown",
   "id": "51ef239963c5bf70",
   "metadata": {},
   "source": [
    "#### Read data from xlsx file"
   ]
  },
  {
   "cell_type": "code",
   "execution_count": 3,
   "id": "91fd47208244ffa5",
   "metadata": {
    "ExecuteTime": {
     "end_time": "2025-05-09T18:35:10.592943Z",
     "start_time": "2025-05-09T18:34:52.628347Z"
    }
   },
   "outputs": [],
   "source": [
    "df = pd.read_excel(\"/Users/ahmad/PyCharmMiscProject/rfi-internship-projects/Task_2/Border_Crossing_Entry_Data.xlsx\")"
   ]
  },
  {
   "cell_type": "markdown",
   "id": "712d725d8c225a88",
   "metadata": {},
   "source": [
    "<h3 style=\"color:#2264AB\"> Data ( Selection , Filtering , Cleaning ,Preparation )</h3>"
   ]
  },
  {
   "cell_type": "markdown",
   "id": "7a8b5b5c517af025",
   "metadata": {},
   "source": [
    "#### Data Brif\n",
    "- col and row count\n",
    "- type of col\n",
    "- number of value not null in col\n",
    "- memory used"
   ]
  },
  {
   "cell_type": "code",
   "execution_count": 9,
   "id": "c2592a234fef0c61",
   "metadata": {
    "ExecuteTime": {
     "end_time": "2025-05-09T18:24:55.113107Z",
     "start_time": "2025-05-09T18:24:55.027754Z"
    }
   },
   "outputs": [
    {
     "name": "stdout",
     "output_type": "stream",
     "text": [
      "<class 'pandas.core.frame.DataFrame'>\n",
      "RangeIndex: 400148 entries, 0 to 400147\n",
      "Data columns (total 10 columns):\n",
      " #   Column     Non-Null Count   Dtype         \n",
      "---  ------     --------------   -----         \n",
      " 0   Port Name  400148 non-null  object        \n",
      " 1   State      400148 non-null  object        \n",
      " 2   Port Code  400148 non-null  int64         \n",
      " 3   Border     400148 non-null  object        \n",
      " 4   Date       400148 non-null  datetime64[ns]\n",
      " 5   Measure    400148 non-null  object        \n",
      " 6   Value      399243 non-null  float64       \n",
      " 7   Latitude   400148 non-null  float64       \n",
      " 8   Longitude  400148 non-null  float64       \n",
      " 9   Point      399798 non-null  object        \n",
      "dtypes: datetime64[ns](1), float64(3), int64(1), object(5)\n",
      "memory usage: 30.5+ MB\n"
     ]
    }
   ],
   "source": [
    "df.info()"
   ]
  },
  {
   "cell_type": "markdown",
   "id": "2a5a5017cd42dda7",
   "metadata": {},
   "source": [
    "#### Description Dataframe\n",
    "used to generate descriptive statistic for numeric or textual"
   ]
  },
  {
   "cell_type": "code",
   "execution_count": 10,
   "id": "859311ef94feb365",
   "metadata": {
    "ExecuteTime": {
     "end_time": "2025-05-09T18:24:58.433077Z",
     "start_time": "2025-05-09T18:24:58.364292Z"
    }
   },
   "outputs": [
    {
     "data": {
      "text/html": [
       "<div>\n",
       "<style scoped>\n",
       "    .dataframe tbody tr th:only-of-type {\n",
       "        vertical-align: middle;\n",
       "    }\n",
       "\n",
       "    .dataframe tbody tr th {\n",
       "        vertical-align: top;\n",
       "    }\n",
       "\n",
       "    .dataframe thead th {\n",
       "        text-align: right;\n",
       "    }\n",
       "</style>\n",
       "<table border=\"1\" class=\"dataframe\">\n",
       "  <thead>\n",
       "    <tr style=\"text-align: right;\">\n",
       "      <th></th>\n",
       "      <th>Port Code</th>\n",
       "      <th>Date</th>\n",
       "      <th>Value</th>\n",
       "      <th>Latitude</th>\n",
       "      <th>Longitude</th>\n",
       "    </tr>\n",
       "  </thead>\n",
       "  <tbody>\n",
       "    <tr>\n",
       "      <th>count</th>\n",
       "      <td>400148.000000</td>\n",
       "      <td>400148</td>\n",
       "      <td>3.992430e+05</td>\n",
       "      <td>400148.000000</td>\n",
       "      <td>400148.000000</td>\n",
       "    </tr>\n",
       "    <tr>\n",
       "      <th>mean</th>\n",
       "      <td>2445.887954</td>\n",
       "      <td>2022-05-05 15:37:15.097014528</td>\n",
       "      <td>2.894774e+04</td>\n",
       "      <td>43.966161</td>\n",
       "      <td>-99.717704</td>\n",
       "    </tr>\n",
       "    <tr>\n",
       "      <th>min</th>\n",
       "      <td>101.000000</td>\n",
       "      <td>2019-05-07 00:00:00</td>\n",
       "      <td>0.000000e+00</td>\n",
       "      <td>25.952000</td>\n",
       "      <td>-141.001000</td>\n",
       "    </tr>\n",
       "    <tr>\n",
       "      <th>25%</th>\n",
       "      <td>2304.000000</td>\n",
       "      <td>2020-11-05 00:00:00</td>\n",
       "      <td>0.000000e+00</td>\n",
       "      <td>42.999000</td>\n",
       "      <td>-114.728000</td>\n",
       "    </tr>\n",
       "    <tr>\n",
       "      <th>50%</th>\n",
       "      <td>3012.000000</td>\n",
       "      <td>2022-05-05 00:00:00</td>\n",
       "      <td>1.470000e+02</td>\n",
       "      <td>48.122000</td>\n",
       "      <td>-101.628000</td>\n",
       "    </tr>\n",
       "    <tr>\n",
       "      <th>75%</th>\n",
       "      <td>3401.000000</td>\n",
       "      <td>2023-11-03 00:00:00</td>\n",
       "      <td>3.028000e+03</td>\n",
       "      <td>49.000000</td>\n",
       "      <td>-84.361000</td>\n",
       "    </tr>\n",
       "    <tr>\n",
       "      <th>max</th>\n",
       "      <td>3814.000000</td>\n",
       "      <td>2025-05-05 00:00:00</td>\n",
       "      <td>4.447374e+06</td>\n",
       "      <td>62.615000</td>\n",
       "      <td>-66.980000</td>\n",
       "    </tr>\n",
       "    <tr>\n",
       "      <th>std</th>\n",
       "      <td>1204.307779</td>\n",
       "      <td>NaN</td>\n",
       "      <td>1.495258e+05</td>\n",
       "      <td>8.152836</td>\n",
       "      <td>18.258529</td>\n",
       "    </tr>\n",
       "  </tbody>\n",
       "</table>\n",
       "</div>"
      ],
      "text/plain": [
       "           Port Code                           Date         Value  \\\n",
       "count  400148.000000                         400148  3.992430e+05   \n",
       "mean     2445.887954  2022-05-05 15:37:15.097014528  2.894774e+04   \n",
       "min       101.000000            2019-05-07 00:00:00  0.000000e+00   \n",
       "25%      2304.000000            2020-11-05 00:00:00  0.000000e+00   \n",
       "50%      3012.000000            2022-05-05 00:00:00  1.470000e+02   \n",
       "75%      3401.000000            2023-11-03 00:00:00  3.028000e+03   \n",
       "max      3814.000000            2025-05-05 00:00:00  4.447374e+06   \n",
       "std      1204.307779                            NaN  1.495258e+05   \n",
       "\n",
       "            Latitude      Longitude  \n",
       "count  400148.000000  400148.000000  \n",
       "mean       43.966161     -99.717704  \n",
       "min        25.952000    -141.001000  \n",
       "25%        42.999000    -114.728000  \n",
       "50%        48.122000    -101.628000  \n",
       "75%        49.000000     -84.361000  \n",
       "max        62.615000     -66.980000  \n",
       "std         8.152836      18.258529  "
      ]
     },
     "execution_count": 10,
     "metadata": {},
     "output_type": "execute_result"
    }
   ],
   "source": [
    "df.describe()"
   ]
  },
  {
   "cell_type": "markdown",
   "id": "8c5b7e6b178d9b5c",
   "metadata": {},
   "source": [
    "#### Description Dataframe\n",
    "That is textual descriptive"
   ]
  },
  {
   "cell_type": "code",
   "execution_count": 11,
   "id": "eb93c2b926775262",
   "metadata": {
    "ExecuteTime": {
     "end_time": "2025-05-09T18:25:05.936260Z",
     "start_time": "2025-05-09T18:25:05.810208Z"
    }
   },
   "outputs": [
    {
     "data": {
      "text/html": [
       "<div>\n",
       "<style scoped>\n",
       "    .dataframe tbody tr th:only-of-type {\n",
       "        vertical-align: middle;\n",
       "    }\n",
       "\n",
       "    .dataframe tbody tr th {\n",
       "        vertical-align: top;\n",
       "    }\n",
       "\n",
       "    .dataframe thead th {\n",
       "        text-align: right;\n",
       "    }\n",
       "</style>\n",
       "<table border=\"1\" class=\"dataframe\">\n",
       "  <thead>\n",
       "    <tr style=\"text-align: right;\">\n",
       "      <th></th>\n",
       "      <th>Port Name</th>\n",
       "      <th>State</th>\n",
       "      <th>Border</th>\n",
       "      <th>Measure</th>\n",
       "      <th>Point</th>\n",
       "    </tr>\n",
       "  </thead>\n",
       "  <tbody>\n",
       "    <tr>\n",
       "      <th>count</th>\n",
       "      <td>400148</td>\n",
       "      <td>400148</td>\n",
       "      <td>400148</td>\n",
       "      <td>400148</td>\n",
       "      <td>399798</td>\n",
       "    </tr>\n",
       "    <tr>\n",
       "      <th>unique</th>\n",
       "      <td>116</td>\n",
       "      <td>14</td>\n",
       "      <td>2</td>\n",
       "      <td>12</td>\n",
       "      <td>116</td>\n",
       "    </tr>\n",
       "    <tr>\n",
       "      <th>top</th>\n",
       "      <td>Eastport</td>\n",
       "      <td>North Dakota</td>\n",
       "      <td>US-Canada Border</td>\n",
       "      <td>Personal Vehicles</td>\n",
       "      <td>POINT (-115.388018 32.673389)</td>\n",
       "    </tr>\n",
       "    <tr>\n",
       "      <th>freq</th>\n",
       "      <td>6755</td>\n",
       "      <td>64464</td>\n",
       "      <td>305723</td>\n",
       "      <td>37901</td>\n",
       "      <td>7433</td>\n",
       "    </tr>\n",
       "  </tbody>\n",
       "</table>\n",
       "</div>"
      ],
      "text/plain": [
       "       Port Name         State            Border            Measure  \\\n",
       "count     400148        400148            400148             400148   \n",
       "unique       116            14                 2                 12   \n",
       "top     Eastport  North Dakota  US-Canada Border  Personal Vehicles   \n",
       "freq        6755         64464            305723              37901   \n",
       "\n",
       "                                Point  \n",
       "count                          399798  \n",
       "unique                            116  \n",
       "top     POINT (-115.388018 32.673389)  \n",
       "freq                             7433  "
      ]
     },
     "execution_count": 11,
     "metadata": {},
     "output_type": "execute_result"
    }
   ],
   "source": [
    "df.describe(include='object')"
   ]
  },
  {
   "cell_type": "markdown",
   "id": "46dd202e7a07836d",
   "metadata": {},
   "source": [
    "#### Tail Function\n",
    "return last 5 row in dataset as default , you can determine number of row you want like df.tail(n)"
   ]
  },
  {
   "cell_type": "code",
   "execution_count": 12,
   "id": "3ad59b87eecec7e6",
   "metadata": {
    "ExecuteTime": {
     "end_time": "2025-05-09T18:25:08.139249Z",
     "start_time": "2025-05-09T18:25:08.123259Z"
    }
   },
   "outputs": [
    {
     "data": {
      "text/html": [
       "<div>\n",
       "<style scoped>\n",
       "    .dataframe tbody tr th:only-of-type {\n",
       "        vertical-align: middle;\n",
       "    }\n",
       "\n",
       "    .dataframe tbody tr th {\n",
       "        vertical-align: top;\n",
       "    }\n",
       "\n",
       "    .dataframe thead th {\n",
       "        text-align: right;\n",
       "    }\n",
       "</style>\n",
       "<table border=\"1\" class=\"dataframe\">\n",
       "  <thead>\n",
       "    <tr style=\"text-align: right;\">\n",
       "      <th></th>\n",
       "      <th>Port Name</th>\n",
       "      <th>State</th>\n",
       "      <th>Port Code</th>\n",
       "      <th>Border</th>\n",
       "      <th>Date</th>\n",
       "      <th>Measure</th>\n",
       "      <th>Value</th>\n",
       "      <th>Latitude</th>\n",
       "      <th>Longitude</th>\n",
       "      <th>Point</th>\n",
       "    </tr>\n",
       "  </thead>\n",
       "  <tbody>\n",
       "    <tr>\n",
       "      <th>400143</th>\n",
       "      <td>Otay Mesa</td>\n",
       "      <td>California</td>\n",
       "      <td>2506</td>\n",
       "      <td>US-Mexico Border</td>\n",
       "      <td>2020-05-19</td>\n",
       "      <td>Personal Vehicle Passengers</td>\n",
       "      <td>872300.0</td>\n",
       "      <td>32.550</td>\n",
       "      <td>-116.939</td>\n",
       "      <td>POINT (-116.938538 32.55033)</td>\n",
       "    </tr>\n",
       "    <tr>\n",
       "      <th>400144</th>\n",
       "      <td>Maida</td>\n",
       "      <td>North Dakota</td>\n",
       "      <td>3416</td>\n",
       "      <td>US-Canada Border</td>\n",
       "      <td>2024-03-28</td>\n",
       "      <td>Trucks</td>\n",
       "      <td>84.0</td>\n",
       "      <td>49.000</td>\n",
       "      <td>-98.365</td>\n",
       "      <td>POINT (-98.36525 49.00025)</td>\n",
       "    </tr>\n",
       "    <tr>\n",
       "      <th>400145</th>\n",
       "      <td>Walhalla</td>\n",
       "      <td>North Dakota</td>\n",
       "      <td>3407</td>\n",
       "      <td>US-Canada Border</td>\n",
       "      <td>2019-12-07</td>\n",
       "      <td>Personal Vehicle Passengers</td>\n",
       "      <td>2891.0</td>\n",
       "      <td>49.000</td>\n",
       "      <td>-97.908</td>\n",
       "      <td>POINT (-97.908416 49.000472)</td>\n",
       "    </tr>\n",
       "    <tr>\n",
       "      <th>400146</th>\n",
       "      <td>Fort Kent</td>\n",
       "      <td>Maine</td>\n",
       "      <td>110</td>\n",
       "      <td>US-Canada Border</td>\n",
       "      <td>2021-06-16</td>\n",
       "      <td>Personal Vehicles</td>\n",
       "      <td>5068.0</td>\n",
       "      <td>47.249</td>\n",
       "      <td>-68.604</td>\n",
       "      <td>POINT (-68.603918 47.249206)</td>\n",
       "    </tr>\n",
       "    <tr>\n",
       "      <th>400147</th>\n",
       "      <td>Calexico East</td>\n",
       "      <td>California</td>\n",
       "      <td>2507</td>\n",
       "      <td>US-Mexico Border</td>\n",
       "      <td>2025-03-18</td>\n",
       "      <td>Rail Containers Empty</td>\n",
       "      <td>1060.0</td>\n",
       "      <td>32.673</td>\n",
       "      <td>-115.388</td>\n",
       "      <td>POINT (-115.388018 32.673389)</td>\n",
       "    </tr>\n",
       "  </tbody>\n",
       "</table>\n",
       "</div>"
      ],
      "text/plain": [
       "            Port Name         State  Port Code            Border       Date  \\\n",
       "400143      Otay Mesa    California       2506  US-Mexico Border 2020-05-19   \n",
       "400144          Maida  North Dakota       3416  US-Canada Border 2024-03-28   \n",
       "400145       Walhalla  North Dakota       3407  US-Canada Border 2019-12-07   \n",
       "400146      Fort Kent         Maine        110  US-Canada Border 2021-06-16   \n",
       "400147  Calexico East    California       2507  US-Mexico Border 2025-03-18   \n",
       "\n",
       "                            Measure     Value  Latitude  Longitude  \\\n",
       "400143  Personal Vehicle Passengers  872300.0    32.550   -116.939   \n",
       "400144                       Trucks      84.0    49.000    -98.365   \n",
       "400145  Personal Vehicle Passengers    2891.0    49.000    -97.908   \n",
       "400146            Personal Vehicles    5068.0    47.249    -68.604   \n",
       "400147        Rail Containers Empty    1060.0    32.673   -115.388   \n",
       "\n",
       "                                Point  \n",
       "400143   POINT (-116.938538 32.55033)  \n",
       "400144     POINT (-98.36525 49.00025)  \n",
       "400145   POINT (-97.908416 49.000472)  \n",
       "400146   POINT (-68.603918 47.249206)  \n",
       "400147  POINT (-115.388018 32.673389)  "
      ]
     },
     "execution_count": 12,
     "metadata": {},
     "output_type": "execute_result"
    }
   ],
   "source": [
    "df.tail()"
   ]
  },
  {
   "cell_type": "markdown",
   "id": "2b6a504ab9be3372",
   "metadata": {},
   "source": [
    "#### Head Function\n",
    "return first 5 row in dataset at default , you can determine number of row you want like df.head(n)"
   ]
  },
  {
   "cell_type": "code",
   "execution_count": 4,
   "id": "9bc908546ca65ddf",
   "metadata": {
    "ExecuteTime": {
     "end_time": "2025-05-09T18:34:30.591127Z",
     "start_time": "2025-05-09T18:34:30.566137Z"
    }
   },
   "outputs": [
    {
     "data": {
      "text/html": [
       "<div>\n",
       "<style scoped>\n",
       "    .dataframe tbody tr th:only-of-type {\n",
       "        vertical-align: middle;\n",
       "    }\n",
       "\n",
       "    .dataframe tbody tr th {\n",
       "        vertical-align: top;\n",
       "    }\n",
       "\n",
       "    .dataframe thead th {\n",
       "        text-align: right;\n",
       "    }\n",
       "</style>\n",
       "<table border=\"1\" class=\"dataframe\">\n",
       "  <thead>\n",
       "    <tr style=\"text-align: right;\">\n",
       "      <th></th>\n",
       "      <th>Port Name</th>\n",
       "      <th>State</th>\n",
       "      <th>Port Code</th>\n",
       "      <th>Border</th>\n",
       "      <th>Date</th>\n",
       "      <th>Measure</th>\n",
       "      <th>Value</th>\n",
       "      <th>Latitude</th>\n",
       "      <th>Longitude</th>\n",
       "      <th>Point</th>\n",
       "    </tr>\n",
       "  </thead>\n",
       "  <tbody>\n",
       "    <tr>\n",
       "      <th>0</th>\n",
       "      <td>Jackman</td>\n",
       "      <td>Maine</td>\n",
       "      <td>104</td>\n",
       "      <td>US-Canada Border</td>\n",
       "      <td>2019-09-12</td>\n",
       "      <td>Trucks</td>\n",
       "      <td>6556.0</td>\n",
       "      <td>45.806</td>\n",
       "      <td>-70.397</td>\n",
       "      <td>POINT (-70.396722 45.805661)</td>\n",
       "    </tr>\n",
       "    <tr>\n",
       "      <th>1</th>\n",
       "      <td>Porthill</td>\n",
       "      <td>Idaho</td>\n",
       "      <td>3308</td>\n",
       "      <td>US-Canada Border</td>\n",
       "      <td>2023-08-23</td>\n",
       "      <td>Trucks</td>\n",
       "      <td>98.0</td>\n",
       "      <td>49.000</td>\n",
       "      <td>-116.499</td>\n",
       "      <td>POINT (-116.49925 48.999861)</td>\n",
       "    </tr>\n",
       "    <tr>\n",
       "      <th>2</th>\n",
       "      <td>San Luis</td>\n",
       "      <td>Arizona</td>\n",
       "      <td>2608</td>\n",
       "      <td>US-Mexico Border</td>\n",
       "      <td>2019-12-23</td>\n",
       "      <td>Buses</td>\n",
       "      <td>10.0</td>\n",
       "      <td>32.485</td>\n",
       "      <td>-114.782</td>\n",
       "      <td>POINT (-114.7822222 32.485)</td>\n",
       "    </tr>\n",
       "    <tr>\n",
       "      <th>3</th>\n",
       "      <td>Willow Creek</td>\n",
       "      <td>Montana</td>\n",
       "      <td>3325</td>\n",
       "      <td>US-Canada Border</td>\n",
       "      <td>2025-01-09</td>\n",
       "      <td>Pedestrians</td>\n",
       "      <td>2.0</td>\n",
       "      <td>49.000</td>\n",
       "      <td>-109.731</td>\n",
       "      <td>POINT (-109.731333 48.999972)</td>\n",
       "    </tr>\n",
       "    <tr>\n",
       "      <th>4</th>\n",
       "      <td>Warroad</td>\n",
       "      <td>Minnesota</td>\n",
       "      <td>3423</td>\n",
       "      <td>US-Canada Border</td>\n",
       "      <td>2022-10-02</td>\n",
       "      <td>Personal Vehicle Passengers</td>\n",
       "      <td>NaN</td>\n",
       "      <td>48.999</td>\n",
       "      <td>-95.377</td>\n",
       "      <td>POINT (-95.376555 48.999)</td>\n",
       "    </tr>\n",
       "  </tbody>\n",
       "</table>\n",
       "</div>"
      ],
      "text/plain": [
       "      Port Name      State  Port Code            Border       Date  \\\n",
       "0       Jackman      Maine        104  US-Canada Border 2019-09-12   \n",
       "1      Porthill      Idaho       3308  US-Canada Border 2023-08-23   \n",
       "2      San Luis    Arizona       2608  US-Mexico Border 2019-12-23   \n",
       "3  Willow Creek    Montana       3325  US-Canada Border 2025-01-09   \n",
       "4       Warroad  Minnesota       3423  US-Canada Border 2022-10-02   \n",
       "\n",
       "                       Measure   Value  Latitude  Longitude  \\\n",
       "0                       Trucks  6556.0    45.806    -70.397   \n",
       "1                       Trucks    98.0    49.000   -116.499   \n",
       "2                        Buses    10.0    32.485   -114.782   \n",
       "3                  Pedestrians     2.0    49.000   -109.731   \n",
       "4  Personal Vehicle Passengers     NaN    48.999    -95.377   \n",
       "\n",
       "                           Point  \n",
       "0   POINT (-70.396722 45.805661)  \n",
       "1   POINT (-116.49925 48.999861)  \n",
       "2    POINT (-114.7822222 32.485)  \n",
       "3  POINT (-109.731333 48.999972)  \n",
       "4      POINT (-95.376555 48.999)  "
      ]
     },
     "execution_count": 4,
     "metadata": {},
     "output_type": "execute_result"
    }
   ],
   "source": [
    "df.head()"
   ]
  },
  {
   "cell_type": "markdown",
   "id": "342acee10cbb12f5",
   "metadata": {},
   "source": [
    "#### Shape function\n",
    "used to know how much size of dataframe number of col and row"
   ]
  },
  {
   "cell_type": "code",
   "execution_count": 14,
   "id": "1002302cb84c07b8",
   "metadata": {
    "ExecuteTime": {
     "end_time": "2025-05-09T18:25:13.773942Z",
     "start_time": "2025-05-09T18:25:13.769908Z"
    }
   },
   "outputs": [
    {
     "data": {
      "text/plain": [
       "(400148, 10)"
      ]
     },
     "execution_count": 14,
     "metadata": {},
     "output_type": "execute_result"
    }
   ],
   "source": [
    "df.shape"
   ]
  },
  {
   "cell_type": "code",
   "execution_count": 15,
   "id": "39ed6c28f3c7f1b9",
   "metadata": {
    "ExecuteTime": {
     "end_time": "2025-05-09T18:25:15.941899Z",
     "start_time": "2025-05-09T18:25:15.936718Z"
    }
   },
   "outputs": [
    {
     "data": {
      "text/plain": [
       "400148"
      ]
     },
     "execution_count": 15,
     "metadata": {},
     "output_type": "execute_result"
    }
   ],
   "source": [
    "len(df) # Just return number of row"
   ]
  },
  {
   "cell_type": "code",
   "execution_count": 16,
   "id": "ed6dcd51680adbb",
   "metadata": {
    "ExecuteTime": {
     "end_time": "2025-05-09T18:25:17.219952Z",
     "start_time": "2025-05-09T18:25:17.214828Z"
    }
   },
   "outputs": [
    {
     "data": {
      "text/plain": [
       "400148"
      ]
     },
     "execution_count": 16,
     "metadata": {},
     "output_type": "execute_result"
    }
   ],
   "source": [
    "df.shape[0]  # number of rows"
   ]
  },
  {
   "cell_type": "code",
   "execution_count": 17,
   "id": "b39cf558b11c0c00",
   "metadata": {
    "ExecuteTime": {
     "end_time": "2025-05-09T18:25:18.545565Z",
     "start_time": "2025-05-09T18:25:18.539437Z"
    }
   },
   "outputs": [
    {
     "data": {
      "text/plain": [
       "10"
      ]
     },
     "execution_count": 17,
     "metadata": {},
     "output_type": "execute_result"
    }
   ],
   "source": [
    "df.shape[1]  # number of col"
   ]
  },
  {
   "cell_type": "code",
   "execution_count": 18,
   "id": "b1980b9b2d652c95",
   "metadata": {
    "ExecuteTime": {
     "end_time": "2025-05-09T18:25:20.401739Z",
     "start_time": "2025-05-09T18:25:20.396Z"
    }
   },
   "outputs": [
    {
     "data": {
      "text/plain": [
       "4001480"
      ]
     },
     "execution_count": 18,
     "metadata": {},
     "output_type": "execute_result"
    }
   ],
   "source": [
    "df.size # number of cells in data frame ( col * row )"
   ]
  },
  {
   "cell_type": "code",
   "execution_count": 19,
   "id": "3350eadecf9c6ddf",
   "metadata": {
    "ExecuteTime": {
     "end_time": "2025-05-09T18:25:22.208255Z",
     "start_time": "2025-05-09T18:25:22.202348Z"
    }
   },
   "outputs": [
    {
     "data": {
      "text/plain": [
       "2"
      ]
     },
     "execution_count": 19,
     "metadata": {},
     "output_type": "execute_result"
    }
   ],
   "source": [
    "df.ndim # number of dimensions"
   ]
  },
  {
   "cell_type": "code",
   "execution_count": 20,
   "id": "b3e886ca76da9273",
   "metadata": {
    "ExecuteTime": {
     "end_time": "2025-05-09T18:25:24.809692Z",
     "start_time": "2025-05-09T18:25:24.800228Z"
    }
   },
   "outputs": [
    {
     "data": {
      "text/plain": [
       "0               Jackman\n",
       "1              Porthill\n",
       "2              San Luis\n",
       "3          Willow Creek\n",
       "4               Warroad\n",
       "              ...      \n",
       "400143        Otay Mesa\n",
       "400144            Maida\n",
       "400145         Walhalla\n",
       "400146        Fort Kent\n",
       "400147    Calexico East\n",
       "Name: Port Name, Length: 400148, dtype: object"
      ]
     },
     "execution_count": 20,
     "metadata": {},
     "output_type": "execute_result"
    }
   ],
   "source": [
    "df['Port Name'] # Select a column"
   ]
  },
  {
   "cell_type": "code",
   "execution_count": 21,
   "id": "b679a5d42dfb8571",
   "metadata": {
    "ExecuteTime": {
     "end_time": "2025-05-09T18:25:28.504819Z",
     "start_time": "2025-05-09T18:25:28.486955Z"
    }
   },
   "outputs": [
    {
     "data": {
      "text/html": [
       "<div>\n",
       "<style scoped>\n",
       "    .dataframe tbody tr th:only-of-type {\n",
       "        vertical-align: middle;\n",
       "    }\n",
       "\n",
       "    .dataframe tbody tr th {\n",
       "        vertical-align: top;\n",
       "    }\n",
       "\n",
       "    .dataframe thead th {\n",
       "        text-align: right;\n",
       "    }\n",
       "</style>\n",
       "<table border=\"1\" class=\"dataframe\">\n",
       "  <thead>\n",
       "    <tr style=\"text-align: right;\">\n",
       "      <th></th>\n",
       "      <th>Port Name</th>\n",
       "      <th>Date</th>\n",
       "    </tr>\n",
       "  </thead>\n",
       "  <tbody>\n",
       "    <tr>\n",
       "      <th>0</th>\n",
       "      <td>Jackman</td>\n",
       "      <td>2022-02-14</td>\n",
       "    </tr>\n",
       "    <tr>\n",
       "      <th>1</th>\n",
       "      <td>Porthill</td>\n",
       "      <td>2019-08-07</td>\n",
       "    </tr>\n",
       "    <tr>\n",
       "      <th>2</th>\n",
       "      <td>San Luis</td>\n",
       "      <td>2021-12-09</td>\n",
       "    </tr>\n",
       "    <tr>\n",
       "      <th>3</th>\n",
       "      <td>Willow Creek</td>\n",
       "      <td>2019-06-05</td>\n",
       "    </tr>\n",
       "    <tr>\n",
       "      <th>4</th>\n",
       "      <td>Warroad</td>\n",
       "      <td>2019-11-04</td>\n",
       "    </tr>\n",
       "    <tr>\n",
       "      <th>...</th>\n",
       "      <td>...</td>\n",
       "      <td>...</td>\n",
       "    </tr>\n",
       "    <tr>\n",
       "      <th>400143</th>\n",
       "      <td>Otay Mesa</td>\n",
       "      <td>2020-05-19</td>\n",
       "    </tr>\n",
       "    <tr>\n",
       "      <th>400144</th>\n",
       "      <td>Maida</td>\n",
       "      <td>2024-03-28</td>\n",
       "    </tr>\n",
       "    <tr>\n",
       "      <th>400145</th>\n",
       "      <td>Walhalla</td>\n",
       "      <td>2019-12-07</td>\n",
       "    </tr>\n",
       "    <tr>\n",
       "      <th>400146</th>\n",
       "      <td>Fort Kent</td>\n",
       "      <td>2021-06-16</td>\n",
       "    </tr>\n",
       "    <tr>\n",
       "      <th>400147</th>\n",
       "      <td>Calexico East</td>\n",
       "      <td>2025-03-18</td>\n",
       "    </tr>\n",
       "  </tbody>\n",
       "</table>\n",
       "<p>400148 rows × 2 columns</p>\n",
       "</div>"
      ],
      "text/plain": [
       "            Port Name       Date\n",
       "0             Jackman 2022-02-14\n",
       "1            Porthill 2019-08-07\n",
       "2            San Luis 2021-12-09\n",
       "3        Willow Creek 2019-06-05\n",
       "4             Warroad 2019-11-04\n",
       "...               ...        ...\n",
       "400143      Otay Mesa 2020-05-19\n",
       "400144          Maida 2024-03-28\n",
       "400145       Walhalla 2019-12-07\n",
       "400146      Fort Kent 2021-06-16\n",
       "400147  Calexico East 2025-03-18\n",
       "\n",
       "[400148 rows x 2 columns]"
      ]
     },
     "execution_count": 21,
     "metadata": {},
     "output_type": "execute_result"
    }
   ],
   "source": [
    "df[['Port Name','Date']] # Select multi columns"
   ]
  },
  {
   "cell_type": "markdown",
   "id": "7ef7ccece155351d",
   "metadata": {},
   "source": [
    "#### Unification of the Format of Date"
   ]
  },
  {
   "cell_type": "code",
   "execution_count": 32,
   "id": "25d49e3e7b04516d",
   "metadata": {
    "ExecuteTime": {
     "end_time": "2025-05-09T18:31:19.531091Z",
     "start_time": "2025-05-09T18:31:19.501802Z"
    }
   },
   "outputs": [],
   "source": [
    "df['Date'] = pd.to_datetime(df['Date'], format='%Y-%m-%d')"
   ]
  },
  {
   "cell_type": "code",
   "execution_count": 30,
   "id": "81e180c00b542a8a",
   "metadata": {
    "ExecuteTime": {
     "end_time": "2025-05-09T18:27:06.323271Z",
     "start_time": "2025-05-09T18:27:06.298146Z"
    }
   },
   "outputs": [
    {
     "data": {
      "text/html": [
       "<div>\n",
       "<style scoped>\n",
       "    .dataframe tbody tr th:only-of-type {\n",
       "        vertical-align: middle;\n",
       "    }\n",
       "\n",
       "    .dataframe tbody tr th {\n",
       "        vertical-align: top;\n",
       "    }\n",
       "\n",
       "    .dataframe thead th {\n",
       "        text-align: right;\n",
       "    }\n",
       "</style>\n",
       "<table border=\"1\" class=\"dataframe\">\n",
       "  <thead>\n",
       "    <tr style=\"text-align: right;\">\n",
       "      <th></th>\n",
       "      <th>Port Name</th>\n",
       "      <th>State</th>\n",
       "      <th>Port Code</th>\n",
       "      <th>Border</th>\n",
       "      <th>Date</th>\n",
       "      <th>Measure</th>\n",
       "      <th>Value</th>\n",
       "      <th>Latitude</th>\n",
       "      <th>Longitude</th>\n",
       "      <th>Point</th>\n",
       "    </tr>\n",
       "  </thead>\n",
       "  <tbody>\n",
       "    <tr>\n",
       "      <th>0</th>\n",
       "      <td>Jackman</td>\n",
       "      <td>Maine</td>\n",
       "      <td>104</td>\n",
       "      <td>US-Canada Border</td>\n",
       "      <td>2022-02-14</td>\n",
       "      <td>Trucks</td>\n",
       "      <td>6556.0</td>\n",
       "      <td>45.806</td>\n",
       "      <td>-70.397</td>\n",
       "      <td>POINT (-70.396722 45.805661)</td>\n",
       "    </tr>\n",
       "    <tr>\n",
       "      <th>1</th>\n",
       "      <td>Porthill</td>\n",
       "      <td>Idaho</td>\n",
       "      <td>3308</td>\n",
       "      <td>US-Canada Border</td>\n",
       "      <td>2019-08-07</td>\n",
       "      <td>Trucks</td>\n",
       "      <td>98.0</td>\n",
       "      <td>49.000</td>\n",
       "      <td>-116.499</td>\n",
       "      <td>POINT (-116.49925 48.999861)</td>\n",
       "    </tr>\n",
       "    <tr>\n",
       "      <th>2</th>\n",
       "      <td>San Luis</td>\n",
       "      <td>Arizona</td>\n",
       "      <td>2608</td>\n",
       "      <td>US-Mexico Border</td>\n",
       "      <td>2021-12-09</td>\n",
       "      <td>Buses</td>\n",
       "      <td>10.0</td>\n",
       "      <td>32.485</td>\n",
       "      <td>-114.782</td>\n",
       "      <td>POINT (-114.7822222 32.485)</td>\n",
       "    </tr>\n",
       "    <tr>\n",
       "      <th>3</th>\n",
       "      <td>Willow Creek</td>\n",
       "      <td>Montana</td>\n",
       "      <td>3325</td>\n",
       "      <td>US-Canada Border</td>\n",
       "      <td>2019-06-05</td>\n",
       "      <td>Pedestrians</td>\n",
       "      <td>2.0</td>\n",
       "      <td>49.000</td>\n",
       "      <td>-109.731</td>\n",
       "      <td>POINT (-109.731333 48.999972)</td>\n",
       "    </tr>\n",
       "    <tr>\n",
       "      <th>367</th>\n",
       "      <td>Naco</td>\n",
       "      <td>Arizona</td>\n",
       "      <td>2603</td>\n",
       "      <td>US-Mexico Border</td>\n",
       "      <td>2023-02-14</td>\n",
       "      <td>Pedestrians</td>\n",
       "      <td>6461.0</td>\n",
       "      <td>31.334</td>\n",
       "      <td>-109.948</td>\n",
       "      <td>POINT (-109.948413 31.334084)</td>\n",
       "    </tr>\n",
       "  </tbody>\n",
       "</table>\n",
       "</div>"
      ],
      "text/plain": [
       "        Port Name    State  Port Code            Border       Date  \\\n",
       "0         Jackman    Maine        104  US-Canada Border 2022-02-14   \n",
       "1        Porthill    Idaho       3308  US-Canada Border 2019-08-07   \n",
       "2        San Luis  Arizona       2608  US-Mexico Border 2021-12-09   \n",
       "3    Willow Creek  Montana       3325  US-Canada Border 2019-06-05   \n",
       "367          Naco  Arizona       2603  US-Mexico Border 2023-02-14   \n",
       "\n",
       "         Measure   Value  Latitude  Longitude                          Point  \n",
       "0         Trucks  6556.0    45.806    -70.397   POINT (-70.396722 45.805661)  \n",
       "1         Trucks    98.0    49.000   -116.499   POINT (-116.49925 48.999861)  \n",
       "2          Buses    10.0    32.485   -114.782    POINT (-114.7822222 32.485)  \n",
       "3    Pedestrians     2.0    49.000   -109.731  POINT (-109.731333 48.999972)  \n",
       "367  Pedestrians  6461.0    31.334   -109.948  POINT (-109.948413 31.334084)  "
      ]
     },
     "execution_count": 30,
     "metadata": {},
     "output_type": "execute_result"
    }
   ],
   "source": [
    "df.head()"
   ]
  },
  {
   "cell_type": "code",
   "execution_count": 19,
   "id": "ddd20ff1e77de785",
   "metadata": {
    "ExecuteTime": {
     "end_time": "2025-05-05T10:55:29.928976Z",
     "start_time": "2025-05-05T10:55:29.921596Z"
    }
   },
   "outputs": [
    {
     "name": "stdout",
     "output_type": "stream",
     "text": [
      "0        2024-06-14\n",
      "1        2020-09-13\n",
      "2        2020-11-26\n",
      "3        2024-03-29\n",
      "4        2023-09-26\n",
      "            ...    \n",
      "400143   2024-08-28\n",
      "400144   2024-12-20\n",
      "400145   2019-09-20\n",
      "400146   2022-11-19\n",
      "400147   2020-03-22\n",
      "Name: Date, Length: 400148, dtype: datetime64[ns]\n"
     ]
    }
   ],
   "source": [
    "print(df['Date'])"
   ]
  },
  {
   "cell_type": "code",
   "execution_count": 23,
   "id": "c93bbcce0befd8d",
   "metadata": {
    "ExecuteTime": {
     "end_time": "2025-05-09T18:25:45.127515Z",
     "start_time": "2025-05-09T18:25:45.042681Z"
    }
   },
   "outputs": [],
   "source": [
    "temp = df.dropna(how='all')"
   ]
  },
  {
   "cell_type": "code",
   "execution_count": 24,
   "id": "15b899d1dcff0f71",
   "metadata": {
    "ExecuteTime": {
     "end_time": "2025-05-09T18:25:46.133048Z",
     "start_time": "2025-05-09T18:25:46.128160Z"
    }
   },
   "outputs": [
    {
     "data": {
      "text/plain": [
       "(400148, 10)"
      ]
     },
     "execution_count": 24,
     "metadata": {},
     "output_type": "execute_result"
    }
   ],
   "source": [
    "temp.shape"
   ]
  },
  {
   "cell_type": "code",
   "execution_count": 25,
   "id": "cb10dcc8ce056159",
   "metadata": {
    "ExecuteTime": {
     "end_time": "2025-05-09T18:25:48.106698Z",
     "start_time": "2025-05-09T18:25:48.022802Z"
    }
   },
   "outputs": [],
   "source": [
    "df.dropna(inplace=True)"
   ]
  },
  {
   "cell_type": "markdown",
   "id": "77aebf8a42d67288",
   "metadata": {},
   "source": [
    "### Duplicated row\n",
    "drop duplicated row"
   ]
  },
  {
   "cell_type": "code",
   "execution_count": 26,
   "id": "47fb3de702f8a226",
   "metadata": {
    "ExecuteTime": {
     "end_time": "2025-05-09T18:25:50.591228Z",
     "start_time": "2025-05-09T18:25:50.430019Z"
    }
   },
   "outputs": [],
   "source": [
    "df.drop_duplicates(inplace = True)"
   ]
  },
  {
   "cell_type": "code",
   "execution_count": 32,
   "id": "12bf99b6f766cce0",
   "metadata": {
    "ExecuteTime": {
     "end_time": "2025-05-05T07:22:03.267244Z",
     "start_time": "2025-05-05T07:22:03.123202Z"
    }
   },
   "outputs": [
    {
     "name": "stdout",
     "output_type": "stream",
     "text": [
      "0         False\n",
      "1         False\n",
      "2         False\n",
      "3         False\n",
      "4         False\n",
      "          ...  \n",
      "400143    False\n",
      "400144    False\n",
      "400145    False\n",
      "400146    False\n",
      "400147    False\n",
      "Length: 394505, dtype: bool\n"
     ]
    }
   ],
   "source": [
    "print(df.duplicated())"
   ]
  },
  {
   "cell_type": "code",
   "execution_count": 27,
   "id": "6c682885bcac5411",
   "metadata": {
    "ExecuteTime": {
     "end_time": "2025-05-09T18:25:54.349753Z",
     "start_time": "2025-05-09T18:25:54.341616Z"
    }
   },
   "outputs": [
    {
     "data": {
      "text/plain": [
       "0        2022-02-14\n",
       "1        2019-08-07\n",
       "2        2021-12-09\n",
       "3        2019-06-05\n",
       "367      2023-02-14\n",
       "            ...    \n",
       "400143   2020-05-19\n",
       "400144   2024-03-28\n",
       "400145   2019-12-07\n",
       "400146   2021-06-16\n",
       "400147   2025-03-18\n",
       "Name: Date, Length: 393561, dtype: datetime64[ns]"
      ]
     },
     "execution_count": 27,
     "metadata": {},
     "output_type": "execute_result"
    }
   ],
   "source": [
    "pd.Series(df['Date'])"
   ]
  },
  {
   "cell_type": "code",
   "execution_count": 36,
   "id": "8019044e35eae5ae",
   "metadata": {
    "ExecuteTime": {
     "end_time": "2025-05-05T07:22:18.761994Z",
     "start_time": "2025-05-05T07:22:18.661575Z"
    }
   },
   "outputs": [],
   "source": [
    "df.dropna(inplace=True)"
   ]
  },
  {
   "cell_type": "markdown",
   "id": "86a2afaba7f328eb",
   "metadata": {},
   "source": [
    "<h1 style=\"color:#2264AB\"> Data Aggregation and Grouping </h1>"
   ]
  },
  {
   "cell_type": "markdown",
   "id": "7bb0f1891422a909",
   "metadata": {},
   "source": [
    "Group data depend on key and enable aggregation"
   ]
  },
  {
   "cell_type": "code",
   "execution_count": 3,
   "id": "37d9746d5c2a6864",
   "metadata": {
    "ExecuteTime": {
     "end_time": "2025-05-05T16:17:26.417410Z",
     "start_time": "2025-05-05T16:17:26.319178Z"
    }
   },
   "outputs": [
    {
     "data": {
      "text/html": [
       "<div>\n",
       "<style scoped>\n",
       "    .dataframe tbody tr th:only-of-type {\n",
       "        vertical-align: middle;\n",
       "    }\n",
       "\n",
       "    .dataframe tbody tr th {\n",
       "        vertical-align: top;\n",
       "    }\n",
       "\n",
       "    .dataframe thead th {\n",
       "        text-align: right;\n",
       "    }\n",
       "</style>\n",
       "<table border=\"1\" class=\"dataframe\">\n",
       "  <thead>\n",
       "    <tr style=\"text-align: right;\">\n",
       "      <th></th>\n",
       "      <th>Port Name</th>\n",
       "      <th>State</th>\n",
       "      <th>Port Code</th>\n",
       "      <th>Border</th>\n",
       "      <th>Measure</th>\n",
       "      <th>Value</th>\n",
       "      <th>Latitude</th>\n",
       "      <th>Longitude</th>\n",
       "      <th>Point</th>\n",
       "    </tr>\n",
       "    <tr>\n",
       "      <th>Date</th>\n",
       "      <th></th>\n",
       "      <th></th>\n",
       "      <th></th>\n",
       "      <th></th>\n",
       "      <th></th>\n",
       "      <th></th>\n",
       "      <th></th>\n",
       "      <th></th>\n",
       "      <th></th>\n",
       "    </tr>\n",
       "  </thead>\n",
       "  <tbody>\n",
       "    <tr>\n",
       "      <th>2019-05-07</th>\n",
       "      <td>176</td>\n",
       "      <td>176</td>\n",
       "      <td>176</td>\n",
       "      <td>176</td>\n",
       "      <td>176</td>\n",
       "      <td>176</td>\n",
       "      <td>176</td>\n",
       "      <td>176</td>\n",
       "      <td>176</td>\n",
       "    </tr>\n",
       "    <tr>\n",
       "      <th>2019-05-08</th>\n",
       "      <td>193</td>\n",
       "      <td>193</td>\n",
       "      <td>193</td>\n",
       "      <td>193</td>\n",
       "      <td>193</td>\n",
       "      <td>193</td>\n",
       "      <td>193</td>\n",
       "      <td>193</td>\n",
       "      <td>193</td>\n",
       "    </tr>\n",
       "    <tr>\n",
       "      <th>2019-05-09</th>\n",
       "      <td>193</td>\n",
       "      <td>193</td>\n",
       "      <td>193</td>\n",
       "      <td>193</td>\n",
       "      <td>193</td>\n",
       "      <td>192</td>\n",
       "      <td>193</td>\n",
       "      <td>193</td>\n",
       "      <td>193</td>\n",
       "    </tr>\n",
       "    <tr>\n",
       "      <th>2019-05-10</th>\n",
       "      <td>169</td>\n",
       "      <td>169</td>\n",
       "      <td>169</td>\n",
       "      <td>169</td>\n",
       "      <td>169</td>\n",
       "      <td>169</td>\n",
       "      <td>169</td>\n",
       "      <td>169</td>\n",
       "      <td>169</td>\n",
       "    </tr>\n",
       "    <tr>\n",
       "      <th>2019-05-11</th>\n",
       "      <td>197</td>\n",
       "      <td>197</td>\n",
       "      <td>197</td>\n",
       "      <td>197</td>\n",
       "      <td>197</td>\n",
       "      <td>196</td>\n",
       "      <td>197</td>\n",
       "      <td>197</td>\n",
       "      <td>196</td>\n",
       "    </tr>\n",
       "    <tr>\n",
       "      <th>...</th>\n",
       "      <td>...</td>\n",
       "      <td>...</td>\n",
       "      <td>...</td>\n",
       "      <td>...</td>\n",
       "      <td>...</td>\n",
       "      <td>...</td>\n",
       "      <td>...</td>\n",
       "      <td>...</td>\n",
       "      <td>...</td>\n",
       "    </tr>\n",
       "    <tr>\n",
       "      <th>2025-05-01</th>\n",
       "      <td>177</td>\n",
       "      <td>177</td>\n",
       "      <td>177</td>\n",
       "      <td>177</td>\n",
       "      <td>177</td>\n",
       "      <td>177</td>\n",
       "      <td>177</td>\n",
       "      <td>177</td>\n",
       "      <td>177</td>\n",
       "    </tr>\n",
       "    <tr>\n",
       "      <th>2025-05-02</th>\n",
       "      <td>179</td>\n",
       "      <td>179</td>\n",
       "      <td>179</td>\n",
       "      <td>179</td>\n",
       "      <td>179</td>\n",
       "      <td>179</td>\n",
       "      <td>179</td>\n",
       "      <td>179</td>\n",
       "      <td>179</td>\n",
       "    </tr>\n",
       "    <tr>\n",
       "      <th>2025-05-03</th>\n",
       "      <td>201</td>\n",
       "      <td>201</td>\n",
       "      <td>201</td>\n",
       "      <td>201</td>\n",
       "      <td>201</td>\n",
       "      <td>200</td>\n",
       "      <td>201</td>\n",
       "      <td>201</td>\n",
       "      <td>201</td>\n",
       "    </tr>\n",
       "    <tr>\n",
       "      <th>2025-05-04</th>\n",
       "      <td>187</td>\n",
       "      <td>187</td>\n",
       "      <td>187</td>\n",
       "      <td>187</td>\n",
       "      <td>187</td>\n",
       "      <td>187</td>\n",
       "      <td>187</td>\n",
       "      <td>187</td>\n",
       "      <td>187</td>\n",
       "    </tr>\n",
       "    <tr>\n",
       "      <th>2025-05-05</th>\n",
       "      <td>165</td>\n",
       "      <td>165</td>\n",
       "      <td>165</td>\n",
       "      <td>165</td>\n",
       "      <td>165</td>\n",
       "      <td>165</td>\n",
       "      <td>165</td>\n",
       "      <td>165</td>\n",
       "      <td>165</td>\n",
       "    </tr>\n",
       "  </tbody>\n",
       "</table>\n",
       "<p>2191 rows × 9 columns</p>\n",
       "</div>"
      ],
      "text/plain": [
       "            Port Name  State  Port Code  Border  Measure  Value  Latitude  \\\n",
       "Date                                                                        \n",
       "2019-05-07        176    176        176     176      176    176       176   \n",
       "2019-05-08        193    193        193     193      193    193       193   \n",
       "2019-05-09        193    193        193     193      193    192       193   \n",
       "2019-05-10        169    169        169     169      169    169       169   \n",
       "2019-05-11        197    197        197     197      197    196       197   \n",
       "...               ...    ...        ...     ...      ...    ...       ...   \n",
       "2025-05-01        177    177        177     177      177    177       177   \n",
       "2025-05-02        179    179        179     179      179    179       179   \n",
       "2025-05-03        201    201        201     201      201    200       201   \n",
       "2025-05-04        187    187        187     187      187    187       187   \n",
       "2025-05-05        165    165        165     165      165    165       165   \n",
       "\n",
       "            Longitude  Point  \n",
       "Date                          \n",
       "2019-05-07        176    176  \n",
       "2019-05-08        193    193  \n",
       "2019-05-09        193    193  \n",
       "2019-05-10        169    169  \n",
       "2019-05-11        197    196  \n",
       "...               ...    ...  \n",
       "2025-05-01        177    177  \n",
       "2025-05-02        179    179  \n",
       "2025-05-03        201    201  \n",
       "2025-05-04        187    187  \n",
       "2025-05-05        165    165  \n",
       "\n",
       "[2191 rows x 9 columns]"
      ]
     },
     "execution_count": 3,
     "metadata": {},
     "output_type": "execute_result"
    }
   ],
   "source": [
    "df.groupby('Date').count()"
   ]
  },
  {
   "cell_type": "code",
   "execution_count": 11,
   "id": "c97f91633ad43df4",
   "metadata": {
    "ExecuteTime": {
     "end_time": "2025-05-05T16:19:03.643584Z",
     "start_time": "2025-05-05T16:18:59.226394Z"
    }
   },
   "outputs": [
    {
     "data": {
      "text/html": [
       "<div>\n",
       "<style scoped>\n",
       "    .dataframe tbody tr th:only-of-type {\n",
       "        vertical-align: middle;\n",
       "    }\n",
       "\n",
       "    .dataframe tbody tr th {\n",
       "        vertical-align: top;\n",
       "    }\n",
       "\n",
       "    .dataframe thead th {\n",
       "        text-align: right;\n",
       "    }\n",
       "</style>\n",
       "<table border=\"1\" class=\"dataframe\">\n",
       "  <thead>\n",
       "    <tr style=\"text-align: right;\">\n",
       "      <th></th>\n",
       "      <th>Port Name</th>\n",
       "      <th>State</th>\n",
       "      <th>Port Code</th>\n",
       "      <th>Border</th>\n",
       "      <th>Date</th>\n",
       "      <th>Measure</th>\n",
       "      <th>Latitude</th>\n",
       "      <th>Longitude</th>\n",
       "      <th>Point</th>\n",
       "    </tr>\n",
       "    <tr>\n",
       "      <th>Value</th>\n",
       "      <th></th>\n",
       "      <th></th>\n",
       "      <th></th>\n",
       "      <th></th>\n",
       "      <th></th>\n",
       "      <th></th>\n",
       "      <th></th>\n",
       "      <th></th>\n",
       "      <th></th>\n",
       "    </tr>\n",
       "  </thead>\n",
       "  <tbody>\n",
       "    <tr>\n",
       "      <th>0.0</th>\n",
       "      <td>Willow Creek</td>\n",
       "      <td>Washington</td>\n",
       "      <td>3803</td>\n",
       "      <td>US-Mexico Border</td>\n",
       "      <td>2025-05-05</td>\n",
       "      <td>Trucks</td>\n",
       "      <td>62.615</td>\n",
       "      <td>-66.980</td>\n",
       "      <td>POINT (-99.659111 48.999277)</td>\n",
       "    </tr>\n",
       "    <tr>\n",
       "      <th>1.0</th>\n",
       "      <td>Ysleta</td>\n",
       "      <td>Washington</td>\n",
       "      <td>3803</td>\n",
       "      <td>US-Mexico Border</td>\n",
       "      <td>2025-05-03</td>\n",
       "      <td>Trucks</td>\n",
       "      <td>62.615</td>\n",
       "      <td>-66.980</td>\n",
       "      <td>POINT (-99.659111 48.999277)</td>\n",
       "    </tr>\n",
       "    <tr>\n",
       "      <th>2.0</th>\n",
       "      <td>Willow Creek</td>\n",
       "      <td>Washington</td>\n",
       "      <td>3803</td>\n",
       "      <td>US-Mexico Border</td>\n",
       "      <td>2025-05-04</td>\n",
       "      <td>Trucks</td>\n",
       "      <td>62.615</td>\n",
       "      <td>-66.980</td>\n",
       "      <td>POINT (-99.659111 48.999277)</td>\n",
       "    </tr>\n",
       "    <tr>\n",
       "      <th>3.0</th>\n",
       "      <td>Willow Creek</td>\n",
       "      <td>Washington</td>\n",
       "      <td>3801</td>\n",
       "      <td>US-Mexico Border</td>\n",
       "      <td>2025-05-05</td>\n",
       "      <td>Trucks</td>\n",
       "      <td>62.615</td>\n",
       "      <td>-66.980</td>\n",
       "      <td>POINT (-99.659111 48.999277)</td>\n",
       "    </tr>\n",
       "    <tr>\n",
       "      <th>4.0</th>\n",
       "      <td>Ysleta</td>\n",
       "      <td>Washington</td>\n",
       "      <td>3803</td>\n",
       "      <td>US-Mexico Border</td>\n",
       "      <td>2025-05-05</td>\n",
       "      <td>Trucks</td>\n",
       "      <td>62.615</td>\n",
       "      <td>-66.980</td>\n",
       "      <td>POINT (-99.659111 48.999277)</td>\n",
       "    </tr>\n",
       "    <tr>\n",
       "      <th>...</th>\n",
       "      <td>...</td>\n",
       "      <td>...</td>\n",
       "      <td>...</td>\n",
       "      <td>...</td>\n",
       "      <td>...</td>\n",
       "      <td>...</td>\n",
       "      <td>...</td>\n",
       "      <td>...</td>\n",
       "      <td>...</td>\n",
       "    </tr>\n",
       "    <tr>\n",
       "      <th>4235244.0</th>\n",
       "      <td>El Paso</td>\n",
       "      <td>Texas</td>\n",
       "      <td>2402</td>\n",
       "      <td>US-Mexico Border</td>\n",
       "      <td>2023-11-13</td>\n",
       "      <td>Personal Vehicle Passengers</td>\n",
       "      <td>31.764</td>\n",
       "      <td>-106.451</td>\n",
       "      <td>POINT (-106.451188 31.764363)</td>\n",
       "    </tr>\n",
       "    <tr>\n",
       "      <th>4252128.0</th>\n",
       "      <td>El Paso</td>\n",
       "      <td>Texas</td>\n",
       "      <td>2402</td>\n",
       "      <td>US-Mexico Border</td>\n",
       "      <td>2019-08-25</td>\n",
       "      <td>Personal Vehicle Passengers</td>\n",
       "      <td>31.764</td>\n",
       "      <td>-106.451</td>\n",
       "      <td>POINT (-106.451188 31.764363)</td>\n",
       "    </tr>\n",
       "    <tr>\n",
       "      <th>4281175.0</th>\n",
       "      <td>El Paso</td>\n",
       "      <td>Texas</td>\n",
       "      <td>2402</td>\n",
       "      <td>US-Mexico Border</td>\n",
       "      <td>2025-04-05</td>\n",
       "      <td>Personal Vehicle Passengers</td>\n",
       "      <td>31.764</td>\n",
       "      <td>-106.451</td>\n",
       "      <td>POINT (-106.451188 31.764363)</td>\n",
       "    </tr>\n",
       "    <tr>\n",
       "      <th>4291774.0</th>\n",
       "      <td>El Paso</td>\n",
       "      <td>Texas</td>\n",
       "      <td>2402</td>\n",
       "      <td>US-Mexico Border</td>\n",
       "      <td>2019-09-17</td>\n",
       "      <td>Personal Vehicle Passengers</td>\n",
       "      <td>31.764</td>\n",
       "      <td>-106.451</td>\n",
       "      <td>POINT (-106.451188 31.764363)</td>\n",
       "    </tr>\n",
       "    <tr>\n",
       "      <th>4447374.0</th>\n",
       "      <td>El Paso</td>\n",
       "      <td>Texas</td>\n",
       "      <td>2402</td>\n",
       "      <td>US-Mexico Border</td>\n",
       "      <td>2021-06-24</td>\n",
       "      <td>Personal Vehicle Passengers</td>\n",
       "      <td>31.764</td>\n",
       "      <td>-106.451</td>\n",
       "      <td>POINT (-106.451188 31.764363)</td>\n",
       "    </tr>\n",
       "  </tbody>\n",
       "</table>\n",
       "<p>61414 rows × 9 columns</p>\n",
       "</div>"
      ],
      "text/plain": [
       "              Port Name       State  Port Code            Border       Date  \\\n",
       "Value                                                                         \n",
       "0.0        Willow Creek  Washington       3803  US-Mexico Border 2025-05-05   \n",
       "1.0              Ysleta  Washington       3803  US-Mexico Border 2025-05-03   \n",
       "2.0        Willow Creek  Washington       3803  US-Mexico Border 2025-05-04   \n",
       "3.0        Willow Creek  Washington       3801  US-Mexico Border 2025-05-05   \n",
       "4.0              Ysleta  Washington       3803  US-Mexico Border 2025-05-05   \n",
       "...                 ...         ...        ...               ...        ...   \n",
       "4235244.0       El Paso       Texas       2402  US-Mexico Border 2023-11-13   \n",
       "4252128.0       El Paso       Texas       2402  US-Mexico Border 2019-08-25   \n",
       "4281175.0       El Paso       Texas       2402  US-Mexico Border 2025-04-05   \n",
       "4291774.0       El Paso       Texas       2402  US-Mexico Border 2019-09-17   \n",
       "4447374.0       El Paso       Texas       2402  US-Mexico Border 2021-06-24   \n",
       "\n",
       "                               Measure  Latitude  Longitude  \\\n",
       "Value                                                         \n",
       "0.0                             Trucks    62.615    -66.980   \n",
       "1.0                             Trucks    62.615    -66.980   \n",
       "2.0                             Trucks    62.615    -66.980   \n",
       "3.0                             Trucks    62.615    -66.980   \n",
       "4.0                             Trucks    62.615    -66.980   \n",
       "...                                ...       ...        ...   \n",
       "4235244.0  Personal Vehicle Passengers    31.764   -106.451   \n",
       "4252128.0  Personal Vehicle Passengers    31.764   -106.451   \n",
       "4281175.0  Personal Vehicle Passengers    31.764   -106.451   \n",
       "4291774.0  Personal Vehicle Passengers    31.764   -106.451   \n",
       "4447374.0  Personal Vehicle Passengers    31.764   -106.451   \n",
       "\n",
       "                                   Point  \n",
       "Value                                     \n",
       "0.0         POINT (-99.659111 48.999277)  \n",
       "1.0         POINT (-99.659111 48.999277)  \n",
       "2.0         POINT (-99.659111 48.999277)  \n",
       "3.0         POINT (-99.659111 48.999277)  \n",
       "4.0         POINT (-99.659111 48.999277)  \n",
       "...                                  ...  \n",
       "4235244.0  POINT (-106.451188 31.764363)  \n",
       "4252128.0  POINT (-106.451188 31.764363)  \n",
       "4281175.0  POINT (-106.451188 31.764363)  \n",
       "4291774.0  POINT (-106.451188 31.764363)  \n",
       "4447374.0  POINT (-106.451188 31.764363)  \n",
       "\n",
       "[61414 rows x 9 columns]"
      ]
     },
     "execution_count": 11,
     "metadata": {},
     "output_type": "execute_result"
    }
   ],
   "source": [
    "df.groupby('Value').max()"
   ]
  },
  {
   "cell_type": "code",
   "execution_count": 15,
   "id": "f4f711d40aca55ff",
   "metadata": {
    "ExecuteTime": {
     "end_time": "2025-05-05T16:22:57.238881Z",
     "start_time": "2025-05-05T16:22:57.152153Z"
    }
   },
   "outputs": [
    {
     "data": {
      "text/html": [
       "<div>\n",
       "<style scoped>\n",
       "    .dataframe tbody tr th:only-of-type {\n",
       "        vertical-align: middle;\n",
       "    }\n",
       "\n",
       "    .dataframe tbody tr th {\n",
       "        vertical-align: top;\n",
       "    }\n",
       "\n",
       "    .dataframe thead th {\n",
       "        text-align: right;\n",
       "    }\n",
       "</style>\n",
       "<table border=\"1\" class=\"dataframe\">\n",
       "  <thead>\n",
       "    <tr style=\"text-align: right;\">\n",
       "      <th></th>\n",
       "      <th>Port Name</th>\n",
       "      <th>State</th>\n",
       "      <th>Port Code</th>\n",
       "      <th>Border</th>\n",
       "      <th>Date</th>\n",
       "      <th>Measure</th>\n",
       "      <th>Value</th>\n",
       "      <th>Latitude</th>\n",
       "      <th>Longitude</th>\n",
       "      <th>Point</th>\n",
       "    </tr>\n",
       "  </thead>\n",
       "  <tbody>\n",
       "    <tr>\n",
       "      <th>49791</th>\n",
       "      <td>Beecher Falls</td>\n",
       "      <td>Vermont</td>\n",
       "      <td>206</td>\n",
       "      <td>US-Canada Border</td>\n",
       "      <td>2019-05-07</td>\n",
       "      <td>Truck Containers Loaded</td>\n",
       "      <td>328.0</td>\n",
       "      <td>45.013</td>\n",
       "      <td>-71.505</td>\n",
       "      <td>POINT (-71.505309 45.013411)</td>\n",
       "    </tr>\n",
       "    <tr>\n",
       "      <th>100966</th>\n",
       "      <td>Portal</td>\n",
       "      <td>North Dakota</td>\n",
       "      <td>3403</td>\n",
       "      <td>US-Canada Border</td>\n",
       "      <td>2019-05-07</td>\n",
       "      <td>Trains</td>\n",
       "      <td>146.0</td>\n",
       "      <td>48.999</td>\n",
       "      <td>-102.552</td>\n",
       "      <td>POINT (-102.551944 48.998944)</td>\n",
       "    </tr>\n",
       "    <tr>\n",
       "      <th>120469</th>\n",
       "      <td>Naco</td>\n",
       "      <td>Arizona</td>\n",
       "      <td>2603</td>\n",
       "      <td>US-Mexico Border</td>\n",
       "      <td>2019-05-07</td>\n",
       "      <td>Train Passengers</td>\n",
       "      <td>0.0</td>\n",
       "      <td>31.334</td>\n",
       "      <td>-109.948</td>\n",
       "      <td>POINT (-109.948413 31.334084)</td>\n",
       "    </tr>\n",
       "    <tr>\n",
       "      <th>265814</th>\n",
       "      <td>Noonan</td>\n",
       "      <td>North Dakota</td>\n",
       "      <td>3420</td>\n",
       "      <td>US-Canada Border</td>\n",
       "      <td>2019-05-07</td>\n",
       "      <td>Trucks</td>\n",
       "      <td>159.0</td>\n",
       "      <td>48.999</td>\n",
       "      <td>-103.004</td>\n",
       "      <td>POINT (-103.004361 48.999333)</td>\n",
       "    </tr>\n",
       "    <tr>\n",
       "      <th>340745</th>\n",
       "      <td>Detroit</td>\n",
       "      <td>Michigan</td>\n",
       "      <td>3801</td>\n",
       "      <td>US-Canada Border</td>\n",
       "      <td>2019-05-07</td>\n",
       "      <td>Rail Containers Loaded</td>\n",
       "      <td>17288.0</td>\n",
       "      <td>42.332</td>\n",
       "      <td>-83.048</td>\n",
       "      <td>POINT (-83.047924 42.331685)</td>\n",
       "    </tr>\n",
       "    <tr>\n",
       "      <th>...</th>\n",
       "      <td>...</td>\n",
       "      <td>...</td>\n",
       "      <td>...</td>\n",
       "      <td>...</td>\n",
       "      <td>...</td>\n",
       "      <td>...</td>\n",
       "      <td>...</td>\n",
       "      <td>...</td>\n",
       "      <td>...</td>\n",
       "      <td>...</td>\n",
       "    </tr>\n",
       "    <tr>\n",
       "      <th>27743</th>\n",
       "      <td>Derby Line</td>\n",
       "      <td>Vermont</td>\n",
       "      <td>209</td>\n",
       "      <td>US-Canada Border</td>\n",
       "      <td>2025-05-05</td>\n",
       "      <td>Personal Vehicles</td>\n",
       "      <td>2710.0</td>\n",
       "      <td>45.006</td>\n",
       "      <td>-72.099</td>\n",
       "      <td>POINT (-72.099279 45.005739)</td>\n",
       "    </tr>\n",
       "    <tr>\n",
       "      <th>109998</th>\n",
       "      <td>Alexandria Bay</td>\n",
       "      <td>New York</td>\n",
       "      <td>708</td>\n",
       "      <td>US-Canada Border</td>\n",
       "      <td>2025-05-05</td>\n",
       "      <td>Buses</td>\n",
       "      <td>58.0</td>\n",
       "      <td>44.347</td>\n",
       "      <td>-75.984</td>\n",
       "      <td>POINT (-75.983592 44.347229)</td>\n",
       "    </tr>\n",
       "    <tr>\n",
       "      <th>221824</th>\n",
       "      <td>Hidalgo</td>\n",
       "      <td>Texas</td>\n",
       "      <td>2305</td>\n",
       "      <td>US-Mexico Border</td>\n",
       "      <td>2025-05-05</td>\n",
       "      <td>Pedestrians</td>\n",
       "      <td>138357.0</td>\n",
       "      <td>26.095</td>\n",
       "      <td>-98.271</td>\n",
       "      <td>POINT (-98.271092 26.095032)</td>\n",
       "    </tr>\n",
       "    <tr>\n",
       "      <th>359110</th>\n",
       "      <td>Roseau</td>\n",
       "      <td>Minnesota</td>\n",
       "      <td>3426</td>\n",
       "      <td>US-Canada Border</td>\n",
       "      <td>2025-05-05</td>\n",
       "      <td>Buses</td>\n",
       "      <td>4.0</td>\n",
       "      <td>49.000</td>\n",
       "      <td>-95.766</td>\n",
       "      <td>POINT (-95.766469 48.999538)</td>\n",
       "    </tr>\n",
       "    <tr>\n",
       "      <th>321602</th>\n",
       "      <td>Bridgewater</td>\n",
       "      <td>Maine</td>\n",
       "      <td>127</td>\n",
       "      <td>US-Canada Border</td>\n",
       "      <td>2025-05-05</td>\n",
       "      <td>Bus Passengers</td>\n",
       "      <td>58.0</td>\n",
       "      <td>46.450</td>\n",
       "      <td>-67.785</td>\n",
       "      <td>POINT (-67.78484 46.450335)</td>\n",
       "    </tr>\n",
       "  </tbody>\n",
       "</table>\n",
       "<p>400148 rows × 10 columns</p>\n",
       "</div>"
      ],
      "text/plain": [
       "             Port Name         State  Port Code            Border       Date  \\\n",
       "49791    Beecher Falls       Vermont        206  US-Canada Border 2019-05-07   \n",
       "100966          Portal  North Dakota       3403  US-Canada Border 2019-05-07   \n",
       "120469            Naco       Arizona       2603  US-Mexico Border 2019-05-07   \n",
       "265814          Noonan  North Dakota       3420  US-Canada Border 2019-05-07   \n",
       "340745         Detroit      Michigan       3801  US-Canada Border 2019-05-07   \n",
       "...                ...           ...        ...               ...        ...   \n",
       "27743       Derby Line       Vermont        209  US-Canada Border 2025-05-05   \n",
       "109998  Alexandria Bay      New York        708  US-Canada Border 2025-05-05   \n",
       "221824         Hidalgo         Texas       2305  US-Mexico Border 2025-05-05   \n",
       "359110          Roseau     Minnesota       3426  US-Canada Border 2025-05-05   \n",
       "321602     Bridgewater         Maine        127  US-Canada Border 2025-05-05   \n",
       "\n",
       "                        Measure     Value  Latitude  Longitude  \\\n",
       "49791   Truck Containers Loaded     328.0    45.013    -71.505   \n",
       "100966                   Trains     146.0    48.999   -102.552   \n",
       "120469         Train Passengers       0.0    31.334   -109.948   \n",
       "265814                   Trucks     159.0    48.999   -103.004   \n",
       "340745   Rail Containers Loaded   17288.0    42.332    -83.048   \n",
       "...                         ...       ...       ...        ...   \n",
       "27743         Personal Vehicles    2710.0    45.006    -72.099   \n",
       "109998                    Buses      58.0    44.347    -75.984   \n",
       "221824              Pedestrians  138357.0    26.095    -98.271   \n",
       "359110                    Buses       4.0    49.000    -95.766   \n",
       "321602           Bus Passengers      58.0    46.450    -67.785   \n",
       "\n",
       "                                Point  \n",
       "49791    POINT (-71.505309 45.013411)  \n",
       "100966  POINT (-102.551944 48.998944)  \n",
       "120469  POINT (-109.948413 31.334084)  \n",
       "265814  POINT (-103.004361 48.999333)  \n",
       "340745   POINT (-83.047924 42.331685)  \n",
       "...                               ...  \n",
       "27743    POINT (-72.099279 45.005739)  \n",
       "109998   POINT (-75.983592 44.347229)  \n",
       "221824   POINT (-98.271092 26.095032)  \n",
       "359110   POINT (-95.766469 48.999538)  \n",
       "321602    POINT (-67.78484 46.450335)  \n",
       "\n",
       "[400148 rows x 10 columns]"
      ]
     },
     "execution_count": 15,
     "metadata": {},
     "output_type": "execute_result"
    }
   ],
   "source": [
    "df.sort_values(by='Date', ascending=True)"
   ]
  },
  {
   "cell_type": "code",
   "execution_count": 20,
   "id": "a10fca75eb9ca94c",
   "metadata": {
    "ExecuteTime": {
     "end_time": "2025-05-05T16:24:26.554778Z",
     "start_time": "2025-05-05T16:24:26.472390Z"
    }
   },
   "outputs": [
    {
     "data": {
      "text/html": [
       "<div>\n",
       "<style scoped>\n",
       "    .dataframe tbody tr th:only-of-type {\n",
       "        vertical-align: middle;\n",
       "    }\n",
       "\n",
       "    .dataframe tbody tr th {\n",
       "        vertical-align: top;\n",
       "    }\n",
       "\n",
       "    .dataframe thead th {\n",
       "        text-align: right;\n",
       "    }\n",
       "</style>\n",
       "<table border=\"1\" class=\"dataframe\">\n",
       "  <thead>\n",
       "    <tr style=\"text-align: right;\">\n",
       "      <th></th>\n",
       "      <th>Port Name</th>\n",
       "      <th>State</th>\n",
       "      <th>Port Code</th>\n",
       "      <th>Border</th>\n",
       "      <th>Date</th>\n",
       "      <th>Measure</th>\n",
       "      <th>Value</th>\n",
       "      <th>Latitude</th>\n",
       "      <th>Longitude</th>\n",
       "      <th>Point</th>\n",
       "    </tr>\n",
       "  </thead>\n",
       "  <tbody>\n",
       "    <tr>\n",
       "      <th>133109</th>\n",
       "      <td>Limestone</td>\n",
       "      <td>Maine</td>\n",
       "      <td>118</td>\n",
       "      <td>US-Canada Border</td>\n",
       "      <td>2021-10-19</td>\n",
       "      <td>Rail Containers Empty</td>\n",
       "      <td>0.0</td>\n",
       "      <td>46.925</td>\n",
       "      <td>-67.790</td>\n",
       "      <td>POINT (-67.789597 46.924555)</td>\n",
       "    </tr>\n",
       "    <tr>\n",
       "      <th>316511</th>\n",
       "      <td>Douglas</td>\n",
       "      <td>Arizona</td>\n",
       "      <td>2601</td>\n",
       "      <td>US-Mexico Border</td>\n",
       "      <td>2024-03-10</td>\n",
       "      <td>Rail Containers Empty</td>\n",
       "      <td>0.0</td>\n",
       "      <td>31.334</td>\n",
       "      <td>-109.560</td>\n",
       "      <td>POINT (-109.560344 31.334043)</td>\n",
       "    </tr>\n",
       "    <tr>\n",
       "      <th>149724</th>\n",
       "      <td>Calexico</td>\n",
       "      <td>California</td>\n",
       "      <td>2503</td>\n",
       "      <td>US-Mexico Border</td>\n",
       "      <td>2019-05-21</td>\n",
       "      <td>Rail Containers Loaded</td>\n",
       "      <td>0.0</td>\n",
       "      <td>32.673</td>\n",
       "      <td>-115.388</td>\n",
       "      <td>POINT (-115.388018 32.673389)</td>\n",
       "    </tr>\n",
       "    <tr>\n",
       "      <th>149727</th>\n",
       "      <td>Hansboro</td>\n",
       "      <td>North Dakota</td>\n",
       "      <td>3415</td>\n",
       "      <td>US-Canada Border</td>\n",
       "      <td>2020-01-14</td>\n",
       "      <td>Trains</td>\n",
       "      <td>0.0</td>\n",
       "      <td>49.000</td>\n",
       "      <td>-99.347</td>\n",
       "      <td>POINT (-99.346527 48.999583)</td>\n",
       "    </tr>\n",
       "    <tr>\n",
       "      <th>149728</th>\n",
       "      <td>Maida</td>\n",
       "      <td>North Dakota</td>\n",
       "      <td>3416</td>\n",
       "      <td>US-Canada Border</td>\n",
       "      <td>2020-04-22</td>\n",
       "      <td>Trains</td>\n",
       "      <td>0.0</td>\n",
       "      <td>49.000</td>\n",
       "      <td>-98.365</td>\n",
       "      <td>POINT (-98.36525 49.00025)</td>\n",
       "    </tr>\n",
       "    <tr>\n",
       "      <th>...</th>\n",
       "      <td>...</td>\n",
       "      <td>...</td>\n",
       "      <td>...</td>\n",
       "      <td>...</td>\n",
       "      <td>...</td>\n",
       "      <td>...</td>\n",
       "      <td>...</td>\n",
       "      <td>...</td>\n",
       "      <td>...</td>\n",
       "      <td>...</td>\n",
       "    </tr>\n",
       "    <tr>\n",
       "      <th>327342</th>\n",
       "      <td>El Paso</td>\n",
       "      <td>Texas</td>\n",
       "      <td>2402</td>\n",
       "      <td>US-Mexico Border</td>\n",
       "      <td>2023-11-13</td>\n",
       "      <td>Personal Vehicle Passengers</td>\n",
       "      <td>4235244.0</td>\n",
       "      <td>31.764</td>\n",
       "      <td>-106.451</td>\n",
       "      <td>POINT (-106.451188 31.764363)</td>\n",
       "    </tr>\n",
       "    <tr>\n",
       "      <th>313943</th>\n",
       "      <td>El Paso</td>\n",
       "      <td>Texas</td>\n",
       "      <td>2402</td>\n",
       "      <td>US-Mexico Border</td>\n",
       "      <td>2019-08-25</td>\n",
       "      <td>Personal Vehicle Passengers</td>\n",
       "      <td>4252128.0</td>\n",
       "      <td>31.764</td>\n",
       "      <td>-106.451</td>\n",
       "      <td>POINT (-106.451188 31.764363)</td>\n",
       "    </tr>\n",
       "    <tr>\n",
       "      <th>319032</th>\n",
       "      <td>El Paso</td>\n",
       "      <td>Texas</td>\n",
       "      <td>2402</td>\n",
       "      <td>US-Mexico Border</td>\n",
       "      <td>2025-04-05</td>\n",
       "      <td>Personal Vehicle Passengers</td>\n",
       "      <td>4281175.0</td>\n",
       "      <td>31.764</td>\n",
       "      <td>-106.451</td>\n",
       "      <td>POINT (-106.451188 31.764363)</td>\n",
       "    </tr>\n",
       "    <tr>\n",
       "      <th>309297</th>\n",
       "      <td>El Paso</td>\n",
       "      <td>Texas</td>\n",
       "      <td>2402</td>\n",
       "      <td>US-Mexico Border</td>\n",
       "      <td>2019-09-17</td>\n",
       "      <td>Personal Vehicle Passengers</td>\n",
       "      <td>4291774.0</td>\n",
       "      <td>31.764</td>\n",
       "      <td>-106.451</td>\n",
       "      <td>POINT (-106.451188 31.764363)</td>\n",
       "    </tr>\n",
       "    <tr>\n",
       "      <th>306098</th>\n",
       "      <td>El Paso</td>\n",
       "      <td>Texas</td>\n",
       "      <td>2402</td>\n",
       "      <td>US-Mexico Border</td>\n",
       "      <td>2021-06-24</td>\n",
       "      <td>Personal Vehicle Passengers</td>\n",
       "      <td>4447374.0</td>\n",
       "      <td>31.764</td>\n",
       "      <td>-106.451</td>\n",
       "      <td>POINT (-106.451188 31.764363)</td>\n",
       "    </tr>\n",
       "  </tbody>\n",
       "</table>\n",
       "<p>399243 rows × 10 columns</p>\n",
       "</div>"
      ],
      "text/plain": [
       "        Port Name         State  Port Code            Border       Date  \\\n",
       "133109  Limestone         Maine        118  US-Canada Border 2021-10-19   \n",
       "316511    Douglas       Arizona       2601  US-Mexico Border 2024-03-10   \n",
       "149724   Calexico    California       2503  US-Mexico Border 2019-05-21   \n",
       "149727   Hansboro  North Dakota       3415  US-Canada Border 2020-01-14   \n",
       "149728      Maida  North Dakota       3416  US-Canada Border 2020-04-22   \n",
       "...           ...           ...        ...               ...        ...   \n",
       "327342    El Paso         Texas       2402  US-Mexico Border 2023-11-13   \n",
       "313943    El Paso         Texas       2402  US-Mexico Border 2019-08-25   \n",
       "319032    El Paso         Texas       2402  US-Mexico Border 2025-04-05   \n",
       "309297    El Paso         Texas       2402  US-Mexico Border 2019-09-17   \n",
       "306098    El Paso         Texas       2402  US-Mexico Border 2021-06-24   \n",
       "\n",
       "                            Measure      Value  Latitude  Longitude  \\\n",
       "133109        Rail Containers Empty        0.0    46.925    -67.790   \n",
       "316511        Rail Containers Empty        0.0    31.334   -109.560   \n",
       "149724       Rail Containers Loaded        0.0    32.673   -115.388   \n",
       "149727                       Trains        0.0    49.000    -99.347   \n",
       "149728                       Trains        0.0    49.000    -98.365   \n",
       "...                             ...        ...       ...        ...   \n",
       "327342  Personal Vehicle Passengers  4235244.0    31.764   -106.451   \n",
       "313943  Personal Vehicle Passengers  4252128.0    31.764   -106.451   \n",
       "319032  Personal Vehicle Passengers  4281175.0    31.764   -106.451   \n",
       "309297  Personal Vehicle Passengers  4291774.0    31.764   -106.451   \n",
       "306098  Personal Vehicle Passengers  4447374.0    31.764   -106.451   \n",
       "\n",
       "                                Point  \n",
       "133109   POINT (-67.789597 46.924555)  \n",
       "316511  POINT (-109.560344 31.334043)  \n",
       "149724  POINT (-115.388018 32.673389)  \n",
       "149727   POINT (-99.346527 48.999583)  \n",
       "149728     POINT (-98.36525 49.00025)  \n",
       "...                               ...  \n",
       "327342  POINT (-106.451188 31.764363)  \n",
       "313943  POINT (-106.451188 31.764363)  \n",
       "319032  POINT (-106.451188 31.764363)  \n",
       "309297  POINT (-106.451188 31.764363)  \n",
       "306098  POINT (-106.451188 31.764363)  \n",
       "\n",
       "[399243 rows x 10 columns]"
      ]
     },
     "execution_count": 20,
     "metadata": {},
     "output_type": "execute_result"
    }
   ],
   "source": [
    "df.sort_values(by='Value', ascending=True)"
   ]
  },
  {
   "cell_type": "code",
   "execution_count": 33,
   "id": "24f0165a8714e981",
   "metadata": {
    "ExecuteTime": {
     "end_time": "2025-05-09T18:31:26.648858Z",
     "start_time": "2025-05-09T18:31:26.642349Z"
    }
   },
   "outputs": [],
   "source": [
    "import matplotlib.pyplot as plt"
   ]
  },
  {
   "cell_type": "code",
   "execution_count": 34,
   "id": "674c5b9e6a7d6c6f",
   "metadata": {
    "ExecuteTime": {
     "end_time": "2025-05-09T18:31:28.099752Z",
     "start_time": "2025-05-09T18:31:27.855800Z"
    }
   },
   "outputs": [
    {
     "ename": "ValueError",
     "evalue": "Date ordinal 4669749.75005 converts to 14755-05-05T18:00:04.320000 (using epoch 1970-01-01T00:00:00), but Matplotlib dates must be between year 0001 and 9999.",
     "output_type": "error",
     "traceback": [
      "\u001b[31m---------------------------------------------------------------------------\u001b[39m",
      "\u001b[31mValueError\u001b[39m                                Traceback (most recent call last)",
      "\u001b[36mFile \u001b[39m\u001b[32m~/PyCharmMiscProject/.venv/lib/python3.13/site-packages/IPython/core/formatters.py:402\u001b[39m, in \u001b[36mBaseFormatter.__call__\u001b[39m\u001b[34m(self, obj)\u001b[39m\n\u001b[32m    400\u001b[39m     \u001b[38;5;28;01mpass\u001b[39;00m\n\u001b[32m    401\u001b[39m \u001b[38;5;28;01melse\u001b[39;00m:\n\u001b[32m--> \u001b[39m\u001b[32m402\u001b[39m     \u001b[38;5;28;01mreturn\u001b[39;00m \u001b[43mprinter\u001b[49m\u001b[43m(\u001b[49m\u001b[43mobj\u001b[49m\u001b[43m)\u001b[49m\n\u001b[32m    403\u001b[39m \u001b[38;5;66;03m# Finally look for special method names\u001b[39;00m\n\u001b[32m    404\u001b[39m method = get_real_method(obj, \u001b[38;5;28mself\u001b[39m.print_method)\n",
      "\u001b[36mFile \u001b[39m\u001b[32m~/PyCharmMiscProject/.venv/lib/python3.13/site-packages/IPython/core/pylabtools.py:170\u001b[39m, in \u001b[36mprint_figure\u001b[39m\u001b[34m(fig, fmt, bbox_inches, base64, **kwargs)\u001b[39m\n\u001b[32m    167\u001b[39m     \u001b[38;5;28;01mfrom\u001b[39;00m\u001b[38;5;250m \u001b[39m\u001b[34;01mmatplotlib\u001b[39;00m\u001b[34;01m.\u001b[39;00m\u001b[34;01mbackend_bases\u001b[39;00m\u001b[38;5;250m \u001b[39m\u001b[38;5;28;01mimport\u001b[39;00m FigureCanvasBase\n\u001b[32m    168\u001b[39m     FigureCanvasBase(fig)\n\u001b[32m--> \u001b[39m\u001b[32m170\u001b[39m \u001b[43mfig\u001b[49m\u001b[43m.\u001b[49m\u001b[43mcanvas\u001b[49m\u001b[43m.\u001b[49m\u001b[43mprint_figure\u001b[49m\u001b[43m(\u001b[49m\u001b[43mbytes_io\u001b[49m\u001b[43m,\u001b[49m\u001b[43m \u001b[49m\u001b[43m*\u001b[49m\u001b[43m*\u001b[49m\u001b[43mkw\u001b[49m\u001b[43m)\u001b[49m\n\u001b[32m    171\u001b[39m data = bytes_io.getvalue()\n\u001b[32m    172\u001b[39m \u001b[38;5;28;01mif\u001b[39;00m fmt == \u001b[33m'\u001b[39m\u001b[33msvg\u001b[39m\u001b[33m'\u001b[39m:\n",
      "\u001b[36mFile \u001b[39m\u001b[32m~/PyCharmMiscProject/.venv/lib/python3.13/site-packages/matplotlib/backend_bases.py:2155\u001b[39m, in \u001b[36mFigureCanvasBase.print_figure\u001b[39m\u001b[34m(self, filename, dpi, facecolor, edgecolor, orientation, format, bbox_inches, pad_inches, bbox_extra_artists, backend, **kwargs)\u001b[39m\n\u001b[32m   2152\u001b[39m     \u001b[38;5;66;03m# we do this instead of `self.figure.draw_without_rendering`\u001b[39;00m\n\u001b[32m   2153\u001b[39m     \u001b[38;5;66;03m# so that we can inject the orientation\u001b[39;00m\n\u001b[32m   2154\u001b[39m     \u001b[38;5;28;01mwith\u001b[39;00m \u001b[38;5;28mgetattr\u001b[39m(renderer, \u001b[33m\"\u001b[39m\u001b[33m_draw_disabled\u001b[39m\u001b[33m\"\u001b[39m, nullcontext)():\n\u001b[32m-> \u001b[39m\u001b[32m2155\u001b[39m         \u001b[38;5;28;43mself\u001b[39;49m\u001b[43m.\u001b[49m\u001b[43mfigure\u001b[49m\u001b[43m.\u001b[49m\u001b[43mdraw\u001b[49m\u001b[43m(\u001b[49m\u001b[43mrenderer\u001b[49m\u001b[43m)\u001b[49m\n\u001b[32m   2156\u001b[39m \u001b[38;5;28;01mif\u001b[39;00m bbox_inches:\n\u001b[32m   2157\u001b[39m     \u001b[38;5;28;01mif\u001b[39;00m bbox_inches == \u001b[33m\"\u001b[39m\u001b[33mtight\u001b[39m\u001b[33m\"\u001b[39m:\n",
      "\u001b[36mFile \u001b[39m\u001b[32m~/PyCharmMiscProject/.venv/lib/python3.13/site-packages/matplotlib/artist.py:94\u001b[39m, in \u001b[36m_finalize_rasterization.<locals>.draw_wrapper\u001b[39m\u001b[34m(artist, renderer, *args, **kwargs)\u001b[39m\n\u001b[32m     92\u001b[39m \u001b[38;5;129m@wraps\u001b[39m(draw)\n\u001b[32m     93\u001b[39m \u001b[38;5;28;01mdef\u001b[39;00m\u001b[38;5;250m \u001b[39m\u001b[34mdraw_wrapper\u001b[39m(artist, renderer, *args, **kwargs):\n\u001b[32m---> \u001b[39m\u001b[32m94\u001b[39m     result = \u001b[43mdraw\u001b[49m\u001b[43m(\u001b[49m\u001b[43martist\u001b[49m\u001b[43m,\u001b[49m\u001b[43m \u001b[49m\u001b[43mrenderer\u001b[49m\u001b[43m,\u001b[49m\u001b[43m \u001b[49m\u001b[43m*\u001b[49m\u001b[43margs\u001b[49m\u001b[43m,\u001b[49m\u001b[43m \u001b[49m\u001b[43m*\u001b[49m\u001b[43m*\u001b[49m\u001b[43mkwargs\u001b[49m\u001b[43m)\u001b[49m\n\u001b[32m     95\u001b[39m     \u001b[38;5;28;01mif\u001b[39;00m renderer._rasterizing:\n\u001b[32m     96\u001b[39m         renderer.stop_rasterizing()\n",
      "\u001b[36mFile \u001b[39m\u001b[32m~/PyCharmMiscProject/.venv/lib/python3.13/site-packages/matplotlib/artist.py:71\u001b[39m, in \u001b[36mallow_rasterization.<locals>.draw_wrapper\u001b[39m\u001b[34m(artist, renderer)\u001b[39m\n\u001b[32m     68\u001b[39m     \u001b[38;5;28;01mif\u001b[39;00m artist.get_agg_filter() \u001b[38;5;129;01mis\u001b[39;00m \u001b[38;5;129;01mnot\u001b[39;00m \u001b[38;5;28;01mNone\u001b[39;00m:\n\u001b[32m     69\u001b[39m         renderer.start_filter()\n\u001b[32m---> \u001b[39m\u001b[32m71\u001b[39m     \u001b[38;5;28;01mreturn\u001b[39;00m \u001b[43mdraw\u001b[49m\u001b[43m(\u001b[49m\u001b[43martist\u001b[49m\u001b[43m,\u001b[49m\u001b[43m \u001b[49m\u001b[43mrenderer\u001b[49m\u001b[43m)\u001b[49m\n\u001b[32m     72\u001b[39m \u001b[38;5;28;01mfinally\u001b[39;00m:\n\u001b[32m     73\u001b[39m     \u001b[38;5;28;01mif\u001b[39;00m artist.get_agg_filter() \u001b[38;5;129;01mis\u001b[39;00m \u001b[38;5;129;01mnot\u001b[39;00m \u001b[38;5;28;01mNone\u001b[39;00m:\n",
      "\u001b[36mFile \u001b[39m\u001b[32m~/PyCharmMiscProject/.venv/lib/python3.13/site-packages/matplotlib/figure.py:3257\u001b[39m, in \u001b[36mFigure.draw\u001b[39m\u001b[34m(self, renderer)\u001b[39m\n\u001b[32m   3254\u001b[39m             \u001b[38;5;66;03m# ValueError can occur when resizing a window.\u001b[39;00m\n\u001b[32m   3256\u001b[39m     \u001b[38;5;28mself\u001b[39m.patch.draw(renderer)\n\u001b[32m-> \u001b[39m\u001b[32m3257\u001b[39m     \u001b[43mmimage\u001b[49m\u001b[43m.\u001b[49m\u001b[43m_draw_list_compositing_images\u001b[49m\u001b[43m(\u001b[49m\n\u001b[32m   3258\u001b[39m \u001b[43m        \u001b[49m\u001b[43mrenderer\u001b[49m\u001b[43m,\u001b[49m\u001b[43m \u001b[49m\u001b[38;5;28;43mself\u001b[39;49m\u001b[43m,\u001b[49m\u001b[43m \u001b[49m\u001b[43martists\u001b[49m\u001b[43m,\u001b[49m\u001b[43m \u001b[49m\u001b[38;5;28;43mself\u001b[39;49m\u001b[43m.\u001b[49m\u001b[43msuppressComposite\u001b[49m\u001b[43m)\u001b[49m\n\u001b[32m   3260\u001b[39m     renderer.close_group(\u001b[33m'\u001b[39m\u001b[33mfigure\u001b[39m\u001b[33m'\u001b[39m)\n\u001b[32m   3261\u001b[39m \u001b[38;5;28;01mfinally\u001b[39;00m:\n",
      "\u001b[36mFile \u001b[39m\u001b[32m~/PyCharmMiscProject/.venv/lib/python3.13/site-packages/matplotlib/image.py:134\u001b[39m, in \u001b[36m_draw_list_compositing_images\u001b[39m\u001b[34m(renderer, parent, artists, suppress_composite)\u001b[39m\n\u001b[32m    132\u001b[39m \u001b[38;5;28;01mif\u001b[39;00m not_composite \u001b[38;5;129;01mor\u001b[39;00m \u001b[38;5;129;01mnot\u001b[39;00m has_images:\n\u001b[32m    133\u001b[39m     \u001b[38;5;28;01mfor\u001b[39;00m a \u001b[38;5;129;01min\u001b[39;00m artists:\n\u001b[32m--> \u001b[39m\u001b[32m134\u001b[39m         \u001b[43ma\u001b[49m\u001b[43m.\u001b[49m\u001b[43mdraw\u001b[49m\u001b[43m(\u001b[49m\u001b[43mrenderer\u001b[49m\u001b[43m)\u001b[49m\n\u001b[32m    135\u001b[39m \u001b[38;5;28;01melse\u001b[39;00m:\n\u001b[32m    136\u001b[39m     \u001b[38;5;66;03m# Composite any adjacent images together\u001b[39;00m\n\u001b[32m    137\u001b[39m     image_group = []\n",
      "\u001b[36mFile \u001b[39m\u001b[32m~/PyCharmMiscProject/.venv/lib/python3.13/site-packages/matplotlib/artist.py:71\u001b[39m, in \u001b[36mallow_rasterization.<locals>.draw_wrapper\u001b[39m\u001b[34m(artist, renderer)\u001b[39m\n\u001b[32m     68\u001b[39m     \u001b[38;5;28;01mif\u001b[39;00m artist.get_agg_filter() \u001b[38;5;129;01mis\u001b[39;00m \u001b[38;5;129;01mnot\u001b[39;00m \u001b[38;5;28;01mNone\u001b[39;00m:\n\u001b[32m     69\u001b[39m         renderer.start_filter()\n\u001b[32m---> \u001b[39m\u001b[32m71\u001b[39m     \u001b[38;5;28;01mreturn\u001b[39;00m \u001b[43mdraw\u001b[49m\u001b[43m(\u001b[49m\u001b[43martist\u001b[49m\u001b[43m,\u001b[49m\u001b[43m \u001b[49m\u001b[43mrenderer\u001b[49m\u001b[43m)\u001b[49m\n\u001b[32m     72\u001b[39m \u001b[38;5;28;01mfinally\u001b[39;00m:\n\u001b[32m     73\u001b[39m     \u001b[38;5;28;01mif\u001b[39;00m artist.get_agg_filter() \u001b[38;5;129;01mis\u001b[39;00m \u001b[38;5;129;01mnot\u001b[39;00m \u001b[38;5;28;01mNone\u001b[39;00m:\n",
      "\u001b[36mFile \u001b[39m\u001b[32m~/PyCharmMiscProject/.venv/lib/python3.13/site-packages/matplotlib/axes/_base.py:3210\u001b[39m, in \u001b[36m_AxesBase.draw\u001b[39m\u001b[34m(self, renderer)\u001b[39m\n\u001b[32m   3207\u001b[39m \u001b[38;5;28;01mif\u001b[39;00m artists_rasterized:\n\u001b[32m   3208\u001b[39m     _draw_rasterized(\u001b[38;5;28mself\u001b[39m.get_figure(root=\u001b[38;5;28;01mTrue\u001b[39;00m), artists_rasterized, renderer)\n\u001b[32m-> \u001b[39m\u001b[32m3210\u001b[39m \u001b[43mmimage\u001b[49m\u001b[43m.\u001b[49m\u001b[43m_draw_list_compositing_images\u001b[49m\u001b[43m(\u001b[49m\n\u001b[32m   3211\u001b[39m \u001b[43m    \u001b[49m\u001b[43mrenderer\u001b[49m\u001b[43m,\u001b[49m\u001b[43m \u001b[49m\u001b[38;5;28;43mself\u001b[39;49m\u001b[43m,\u001b[49m\u001b[43m \u001b[49m\u001b[43martists\u001b[49m\u001b[43m,\u001b[49m\u001b[43m \u001b[49m\u001b[38;5;28;43mself\u001b[39;49m\u001b[43m.\u001b[49m\u001b[43mget_figure\u001b[49m\u001b[43m(\u001b[49m\u001b[43mroot\u001b[49m\u001b[43m=\u001b[49m\u001b[38;5;28;43;01mTrue\u001b[39;49;00m\u001b[43m)\u001b[49m\u001b[43m.\u001b[49m\u001b[43msuppressComposite\u001b[49m\u001b[43m)\u001b[49m\n\u001b[32m   3213\u001b[39m renderer.close_group(\u001b[33m'\u001b[39m\u001b[33maxes\u001b[39m\u001b[33m'\u001b[39m)\n\u001b[32m   3214\u001b[39m \u001b[38;5;28mself\u001b[39m.stale = \u001b[38;5;28;01mFalse\u001b[39;00m\n",
      "\u001b[36mFile \u001b[39m\u001b[32m~/PyCharmMiscProject/.venv/lib/python3.13/site-packages/matplotlib/image.py:134\u001b[39m, in \u001b[36m_draw_list_compositing_images\u001b[39m\u001b[34m(renderer, parent, artists, suppress_composite)\u001b[39m\n\u001b[32m    132\u001b[39m \u001b[38;5;28;01mif\u001b[39;00m not_composite \u001b[38;5;129;01mor\u001b[39;00m \u001b[38;5;129;01mnot\u001b[39;00m has_images:\n\u001b[32m    133\u001b[39m     \u001b[38;5;28;01mfor\u001b[39;00m a \u001b[38;5;129;01min\u001b[39;00m artists:\n\u001b[32m--> \u001b[39m\u001b[32m134\u001b[39m         \u001b[43ma\u001b[49m\u001b[43m.\u001b[49m\u001b[43mdraw\u001b[49m\u001b[43m(\u001b[49m\u001b[43mrenderer\u001b[49m\u001b[43m)\u001b[49m\n\u001b[32m    135\u001b[39m \u001b[38;5;28;01melse\u001b[39;00m:\n\u001b[32m    136\u001b[39m     \u001b[38;5;66;03m# Composite any adjacent images together\u001b[39;00m\n\u001b[32m    137\u001b[39m     image_group = []\n",
      "\u001b[36mFile \u001b[39m\u001b[32m~/PyCharmMiscProject/.venv/lib/python3.13/site-packages/matplotlib/artist.py:71\u001b[39m, in \u001b[36mallow_rasterization.<locals>.draw_wrapper\u001b[39m\u001b[34m(artist, renderer)\u001b[39m\n\u001b[32m     68\u001b[39m     \u001b[38;5;28;01mif\u001b[39;00m artist.get_agg_filter() \u001b[38;5;129;01mis\u001b[39;00m \u001b[38;5;129;01mnot\u001b[39;00m \u001b[38;5;28;01mNone\u001b[39;00m:\n\u001b[32m     69\u001b[39m         renderer.start_filter()\n\u001b[32m---> \u001b[39m\u001b[32m71\u001b[39m     \u001b[38;5;28;01mreturn\u001b[39;00m \u001b[43mdraw\u001b[49m\u001b[43m(\u001b[49m\u001b[43martist\u001b[49m\u001b[43m,\u001b[49m\u001b[43m \u001b[49m\u001b[43mrenderer\u001b[49m\u001b[43m)\u001b[49m\n\u001b[32m     72\u001b[39m \u001b[38;5;28;01mfinally\u001b[39;00m:\n\u001b[32m     73\u001b[39m     \u001b[38;5;28;01mif\u001b[39;00m artist.get_agg_filter() \u001b[38;5;129;01mis\u001b[39;00m \u001b[38;5;129;01mnot\u001b[39;00m \u001b[38;5;28;01mNone\u001b[39;00m:\n",
      "\u001b[36mFile \u001b[39m\u001b[32m~/PyCharmMiscProject/.venv/lib/python3.13/site-packages/matplotlib/axis.py:1404\u001b[39m, in \u001b[36mAxis.draw\u001b[39m\u001b[34m(self, renderer)\u001b[39m\n\u001b[32m   1401\u001b[39m     \u001b[38;5;28;01mreturn\u001b[39;00m\n\u001b[32m   1402\u001b[39m renderer.open_group(\u001b[34m__name__\u001b[39m, gid=\u001b[38;5;28mself\u001b[39m.get_gid())\n\u001b[32m-> \u001b[39m\u001b[32m1404\u001b[39m ticks_to_draw = \u001b[38;5;28;43mself\u001b[39;49m\u001b[43m.\u001b[49m\u001b[43m_update_ticks\u001b[49m\u001b[43m(\u001b[49m\u001b[43m)\u001b[49m\n\u001b[32m   1405\u001b[39m tlb1, tlb2 = \u001b[38;5;28mself\u001b[39m._get_ticklabel_bboxes(ticks_to_draw, renderer)\n\u001b[32m   1407\u001b[39m \u001b[38;5;28;01mfor\u001b[39;00m tick \u001b[38;5;129;01min\u001b[39;00m ticks_to_draw:\n",
      "\u001b[36mFile \u001b[39m\u001b[32m~/PyCharmMiscProject/.venv/lib/python3.13/site-packages/matplotlib/axis.py:1281\u001b[39m, in \u001b[36mAxis._update_ticks\u001b[39m\u001b[34m(self)\u001b[39m\n\u001b[32m   1276\u001b[39m \u001b[38;5;28;01mdef\u001b[39;00m\u001b[38;5;250m \u001b[39m\u001b[34m_update_ticks\u001b[39m(\u001b[38;5;28mself\u001b[39m):\n\u001b[32m   1277\u001b[39m \u001b[38;5;250m    \u001b[39m\u001b[33;03m\"\"\"\u001b[39;00m\n\u001b[32m   1278\u001b[39m \u001b[33;03m    Update ticks (position and labels) using the current data interval of\u001b[39;00m\n\u001b[32m   1279\u001b[39m \u001b[33;03m    the axes.  Return the list of ticks that will be drawn.\u001b[39;00m\n\u001b[32m   1280\u001b[39m \u001b[33;03m    \"\"\"\u001b[39;00m\n\u001b[32m-> \u001b[39m\u001b[32m1281\u001b[39m     major_locs = \u001b[38;5;28;43mself\u001b[39;49m\u001b[43m.\u001b[49m\u001b[43mget_majorticklocs\u001b[49m\u001b[43m(\u001b[49m\u001b[43m)\u001b[49m\n\u001b[32m   1282\u001b[39m     major_labels = \u001b[38;5;28mself\u001b[39m.major.formatter.format_ticks(major_locs)\n\u001b[32m   1283\u001b[39m     major_ticks = \u001b[38;5;28mself\u001b[39m.get_major_ticks(\u001b[38;5;28mlen\u001b[39m(major_locs))\n",
      "\u001b[36mFile \u001b[39m\u001b[32m~/PyCharmMiscProject/.venv/lib/python3.13/site-packages/matplotlib/axis.py:1525\u001b[39m, in \u001b[36mAxis.get_majorticklocs\u001b[39m\u001b[34m(self)\u001b[39m\n\u001b[32m   1523\u001b[39m \u001b[38;5;28;01mdef\u001b[39;00m\u001b[38;5;250m \u001b[39m\u001b[34mget_majorticklocs\u001b[39m(\u001b[38;5;28mself\u001b[39m):\n\u001b[32m   1524\u001b[39m \u001b[38;5;250m    \u001b[39m\u001b[33;03m\"\"\"Return this Axis' major tick locations in data coordinates.\"\"\"\u001b[39;00m\n\u001b[32m-> \u001b[39m\u001b[32m1525\u001b[39m     \u001b[38;5;28;01mreturn\u001b[39;00m \u001b[38;5;28;43mself\u001b[39;49m\u001b[43m.\u001b[49m\u001b[43mmajor\u001b[49m\u001b[43m.\u001b[49m\u001b[43mlocator\u001b[49m\u001b[43m(\u001b[49m\u001b[43m)\u001b[49m\n",
      "\u001b[36mFile \u001b[39m\u001b[32m~/PyCharmMiscProject/.venv/lib/python3.13/site-packages/matplotlib/dates.py:1319\u001b[39m, in \u001b[36mAutoDateLocator.__call__\u001b[39m\u001b[34m(self)\u001b[39m\n\u001b[32m   1317\u001b[39m \u001b[38;5;28;01mdef\u001b[39;00m\u001b[38;5;250m \u001b[39m\u001b[34m__call__\u001b[39m(\u001b[38;5;28mself\u001b[39m):\n\u001b[32m   1318\u001b[39m     \u001b[38;5;66;03m# docstring inherited\u001b[39;00m\n\u001b[32m-> \u001b[39m\u001b[32m1319\u001b[39m     dmin, dmax = \u001b[38;5;28;43mself\u001b[39;49m\u001b[43m.\u001b[49m\u001b[43mviewlim_to_dt\u001b[49m\u001b[43m(\u001b[49m\u001b[43m)\u001b[49m\n\u001b[32m   1320\u001b[39m     locator = \u001b[38;5;28mself\u001b[39m.get_locator(dmin, dmax)\n\u001b[32m   1321\u001b[39m     \u001b[38;5;28;01mreturn\u001b[39;00m locator()\n",
      "\u001b[36mFile \u001b[39m\u001b[32m~/PyCharmMiscProject/.venv/lib/python3.13/site-packages/matplotlib/dates.py:1104\u001b[39m, in \u001b[36mDateLocator.viewlim_to_dt\u001b[39m\u001b[34m(self)\u001b[39m\n\u001b[32m   1102\u001b[39m \u001b[38;5;28;01mif\u001b[39;00m vmin > vmax:\n\u001b[32m   1103\u001b[39m     vmin, vmax = vmax, vmin\n\u001b[32m-> \u001b[39m\u001b[32m1104\u001b[39m \u001b[38;5;28;01mreturn\u001b[39;00m num2date(vmin, \u001b[38;5;28mself\u001b[39m.tz), \u001b[43mnum2date\u001b[49m\u001b[43m(\u001b[49m\u001b[43mvmax\u001b[49m\u001b[43m,\u001b[49m\u001b[43m \u001b[49m\u001b[38;5;28;43mself\u001b[39;49m\u001b[43m.\u001b[49m\u001b[43mtz\u001b[49m\u001b[43m)\u001b[49m\n",
      "\u001b[36mFile \u001b[39m\u001b[32m~/PyCharmMiscProject/.venv/lib/python3.13/site-packages/matplotlib/dates.py:484\u001b[39m, in \u001b[36mnum2date\u001b[39m\u001b[34m(x, tz)\u001b[39m\n\u001b[32m    458\u001b[39m \u001b[38;5;250m\u001b[39m\u001b[33;03m\"\"\"\u001b[39;00m\n\u001b[32m    459\u001b[39m \u001b[33;03mConvert Matplotlib dates to `~datetime.datetime` objects.\u001b[39;00m\n\u001b[32m    460\u001b[39m \n\u001b[32m   (...)\u001b[39m\u001b[32m    481\u001b[39m \u001b[33;03mFor details, see the module docstring.\u001b[39;00m\n\u001b[32m    482\u001b[39m \u001b[33;03m\"\"\"\u001b[39;00m\n\u001b[32m    483\u001b[39m tz = _get_tzinfo(tz)\n\u001b[32m--> \u001b[39m\u001b[32m484\u001b[39m \u001b[38;5;28;01mreturn\u001b[39;00m \u001b[43m_from_ordinalf_np_vectorized\u001b[49m\u001b[43m(\u001b[49m\u001b[43mx\u001b[49m\u001b[43m,\u001b[49m\u001b[43m \u001b[49m\u001b[43mtz\u001b[49m\u001b[43m)\u001b[49m.tolist()\n",
      "\u001b[36mFile \u001b[39m\u001b[32m~/PyCharmMiscProject/.venv/lib/python3.13/site-packages/numpy/lib/_function_base_impl.py:2522\u001b[39m, in \u001b[36mvectorize.__call__\u001b[39m\u001b[34m(self, *args, **kwargs)\u001b[39m\n\u001b[32m   2519\u001b[39m     \u001b[38;5;28mself\u001b[39m._init_stage_2(*args, **kwargs)\n\u001b[32m   2520\u001b[39m     \u001b[38;5;28;01mreturn\u001b[39;00m \u001b[38;5;28mself\u001b[39m\n\u001b[32m-> \u001b[39m\u001b[32m2522\u001b[39m \u001b[38;5;28;01mreturn\u001b[39;00m \u001b[38;5;28;43mself\u001b[39;49m\u001b[43m.\u001b[49m\u001b[43m_call_as_normal\u001b[49m\u001b[43m(\u001b[49m\u001b[43m*\u001b[49m\u001b[43margs\u001b[49m\u001b[43m,\u001b[49m\u001b[43m \u001b[49m\u001b[43m*\u001b[49m\u001b[43m*\u001b[49m\u001b[43mkwargs\u001b[49m\u001b[43m)\u001b[49m\n",
      "\u001b[36mFile \u001b[39m\u001b[32m~/PyCharmMiscProject/.venv/lib/python3.13/site-packages/numpy/lib/_function_base_impl.py:2515\u001b[39m, in \u001b[36mvectorize._call_as_normal\u001b[39m\u001b[34m(self, *args, **kwargs)\u001b[39m\n\u001b[32m   2512\u001b[39m     vargs = [args[_i] \u001b[38;5;28;01mfor\u001b[39;00m _i \u001b[38;5;129;01min\u001b[39;00m inds]\n\u001b[32m   2513\u001b[39m     vargs.extend([kwargs[_n] \u001b[38;5;28;01mfor\u001b[39;00m _n \u001b[38;5;129;01min\u001b[39;00m names])\n\u001b[32m-> \u001b[39m\u001b[32m2515\u001b[39m \u001b[38;5;28;01mreturn\u001b[39;00m \u001b[38;5;28;43mself\u001b[39;49m\u001b[43m.\u001b[49m\u001b[43m_vectorize_call\u001b[49m\u001b[43m(\u001b[49m\u001b[43mfunc\u001b[49m\u001b[43m=\u001b[49m\u001b[43mfunc\u001b[49m\u001b[43m,\u001b[49m\u001b[43m \u001b[49m\u001b[43margs\u001b[49m\u001b[43m=\u001b[49m\u001b[43mvargs\u001b[49m\u001b[43m)\u001b[49m\n",
      "\u001b[36mFile \u001b[39m\u001b[32m~/PyCharmMiscProject/.venv/lib/python3.13/site-packages/numpy/lib/_function_base_impl.py:2605\u001b[39m, in \u001b[36mvectorize._vectorize_call\u001b[39m\u001b[34m(self, func, args)\u001b[39m\n\u001b[32m   2602\u001b[39m \u001b[38;5;66;03m# Convert args to object arrays first\u001b[39;00m\n\u001b[32m   2603\u001b[39m inputs = [asanyarray(a, dtype=\u001b[38;5;28mobject\u001b[39m) \u001b[38;5;28;01mfor\u001b[39;00m a \u001b[38;5;129;01min\u001b[39;00m args]\n\u001b[32m-> \u001b[39m\u001b[32m2605\u001b[39m outputs = \u001b[43mufunc\u001b[49m\u001b[43m(\u001b[49m\u001b[43m*\u001b[49m\u001b[43minputs\u001b[49m\u001b[43m)\u001b[49m\n\u001b[32m   2607\u001b[39m \u001b[38;5;28;01mif\u001b[39;00m ufunc.nout == \u001b[32m1\u001b[39m:\n\u001b[32m   2608\u001b[39m     res = asanyarray(outputs, dtype=otypes[\u001b[32m0\u001b[39m])\n",
      "\u001b[36mFile \u001b[39m\u001b[32m~/PyCharmMiscProject/.venv/lib/python3.13/site-packages/matplotlib/dates.py:350\u001b[39m, in \u001b[36m_from_ordinalf\u001b[39m\u001b[34m(x, tz)\u001b[39m\n\u001b[32m    347\u001b[39m dt = (np.datetime64(get_epoch()) +\n\u001b[32m    348\u001b[39m       np.timedelta64(\u001b[38;5;28mint\u001b[39m(np.round(x * MUSECONDS_PER_DAY)), \u001b[33m'\u001b[39m\u001b[33mus\u001b[39m\u001b[33m'\u001b[39m))\n\u001b[32m    349\u001b[39m \u001b[38;5;28;01mif\u001b[39;00m dt < np.datetime64(\u001b[33m'\u001b[39m\u001b[33m0001-01-01\u001b[39m\u001b[33m'\u001b[39m) \u001b[38;5;129;01mor\u001b[39;00m dt >= np.datetime64(\u001b[33m'\u001b[39m\u001b[33m10000-01-01\u001b[39m\u001b[33m'\u001b[39m):\n\u001b[32m--> \u001b[39m\u001b[32m350\u001b[39m     \u001b[38;5;28;01mraise\u001b[39;00m \u001b[38;5;167;01mValueError\u001b[39;00m(\u001b[33mf\u001b[39m\u001b[33m'\u001b[39m\u001b[33mDate ordinal \u001b[39m\u001b[38;5;132;01m{\u001b[39;00mx\u001b[38;5;132;01m}\u001b[39;00m\u001b[33m converts to \u001b[39m\u001b[38;5;132;01m{\u001b[39;00mdt\u001b[38;5;132;01m}\u001b[39;00m\u001b[33m (using \u001b[39m\u001b[33m'\u001b[39m\n\u001b[32m    351\u001b[39m                      \u001b[33mf\u001b[39m\u001b[33m'\u001b[39m\u001b[33mepoch \u001b[39m\u001b[38;5;132;01m{\u001b[39;00mget_epoch()\u001b[38;5;132;01m}\u001b[39;00m\u001b[33m), but Matplotlib dates must be \u001b[39m\u001b[33m'\u001b[39m\n\u001b[32m    352\u001b[39m                       \u001b[33m'\u001b[39m\u001b[33mbetween year 0001 and 9999.\u001b[39m\u001b[33m'\u001b[39m)\n\u001b[32m    353\u001b[39m \u001b[38;5;66;03m# convert from datetime64 to datetime:\u001b[39;00m\n\u001b[32m    354\u001b[39m dt = dt.tolist()\n",
      "\u001b[31mValueError\u001b[39m: Date ordinal 4669749.75005 converts to 14755-05-05T18:00:04.320000 (using epoch 1970-01-01T00:00:00), but Matplotlib dates must be between year 0001 and 9999."
     ]
    },
    {
     "data": {
      "text/plain": [
       "<Figure size 640x480 with 1 Axes>"
      ]
     },
     "metadata": {},
     "output_type": "display_data"
    }
   ],
   "source": [
    "df.plot()\n",
    "\n",
    "plt.show()"
   ]
  },
  {
   "cell_type": "code",
   "execution_count": null,
   "id": "fe593286f59f734c",
   "metadata": {},
   "outputs": [],
   "source": []
  }
 ],
 "metadata": {
  "kernelspec": {
   "display_name": "Python 3 (ipykernel)",
   "language": "python",
   "name": "python3"
  },
  "language_info": {
   "codemirror_mode": {
    "name": "ipython",
    "version": 3
   },
   "file_extension": ".py",
   "mimetype": "text/x-python",
   "name": "python",
   "nbconvert_exporter": "python",
   "pygments_lexer": "ipython3",
   "version": "3.13.0"
  }
 },
 "nbformat": 4,
 "nbformat_minor": 5
}
