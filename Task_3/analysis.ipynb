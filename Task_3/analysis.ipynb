{
 "cells": [
  {
   "cell_type": "markdown",
   "id": "74a766ec",
   "metadata": {},
   "source": [
    "## General Education School analysis"
   ]
  },
  {
   "cell_type": "code",
   "execution_count": 63,
   "id": "af636519",
   "metadata": {
    "ExecuteTime": {
     "end_time": "2025-05-12T10:44:54.099135Z",
     "start_time": "2025-05-12T10:44:53.496695Z"
    }
   },
   "outputs": [],
   "source": [
    "import pandas as pd\n",
    "import numpy as np\n",
    "import matplotlib.pyplot as plt\n",
    "import seaborn as sns"
   ]
  },
  {
   "cell_type": "code",
   "execution_count": 64,
   "id": "82e8a1a0",
   "metadata": {
    "ExecuteTime": {
     "end_time": "2025-05-12T10:44:55.787340Z",
     "start_time": "2025-05-12T10:44:55.594806Z"
    }
   },
   "outputs": [],
   "source": [
    "# df id a Date frame\n",
    "df = pd.read_excel(\"/Users/ahmad/PyCharmMiscProject/rfi-internship-projects/Task_3/General_Education_School.xlsx\")"
   ]
  },
  {
   "cell_type": "code",
   "execution_count": 65,
   "id": "c24e0431",
   "metadata": {},
   "outputs": [
    {
     "name": "stdout",
     "output_type": "stream",
     "text": [
      "<class 'pandas.core.frame.DataFrame'>\n",
      "RangeIndex: 1672 entries, 0 to 1671\n",
      "Data columns (total 10 columns):\n",
      " #   Column                             Non-Null Count  Dtype \n",
      "---  ------                             --------------  ----- \n",
      " 0   DBN                                1671 non-null   object\n",
      " 1   School Name                        1671 non-null   object\n",
      " 2   School Type                        1670 non-null   object\n",
      " 3   Parent Response Rate               1671 non-null   object\n",
      " 4   Teacher Response Rate              1672 non-null   object\n",
      " 5   Student Response Rate              997 non-null    object\n",
      " 6   Total Safety and Respect Score     1672 non-null   object\n",
      " 7   Total Communication Score          1672 non-null   object\n",
      " 8   Total Engagement Score             1672 non-null   object\n",
      " 9   Total Academic Expectations Score  1672 non-null   object\n",
      "dtypes: object(10)\n",
      "memory usage: 130.8+ KB\n"
     ]
    }
   ],
   "source": [
    "df.info()"
   ]
  },
  {
   "cell_type": "markdown",
   "id": "c7871391",
   "metadata": {},
   "source": [
    "تحويل جميع الأعمدة الرقمية إلى float"
   ]
  },
  {
   "cell_type": "code",
   "execution_count": 66,
   "id": "5b1d6947",
   "metadata": {},
   "outputs": [],
   "source": [
    "cols_to_convert = [\n",
    "    \"Parent Response Rate\", \"Teacher Response Rate\", \"Student Response Rate\",\n",
    "    \"Total Safety and Respect Score\", \"Total Communication Score\",\n",
    "    \"Total Engagement Score\", \"Total Academic Expectations Score\"\n",
    "]\n",
    "\n",
    "for col in cols_to_convert:\n",
    "    df[col] = pd.to_numeric(df[col], errors=\"coerce\")"
   ]
  },
  {
   "cell_type": "markdown",
   "id": "8098d1ad",
   "metadata": {},
   "source": [
    "### Desription\n",
    "- There are 5 duplicate rows in the school name.\n",
    "- The most frequently repeated type of school is `Elementary school`, with an average of `617` times."
   ]
  },
  {
   "cell_type": "code",
   "execution_count": 67,
   "id": "722b9253",
   "metadata": {},
   "outputs": [
    {
     "name": "stdout",
     "output_type": "stream",
     "text": [
      "<class 'pandas.core.frame.DataFrame'>\n",
      "RangeIndex: 1672 entries, 0 to 1671\n",
      "Data columns (total 10 columns):\n",
      " #   Column                             Non-Null Count  Dtype  \n",
      "---  ------                             --------------  -----  \n",
      " 0   DBN                                1671 non-null   object \n",
      " 1   School Name                        1671 non-null   object \n",
      " 2   School Type                        1670 non-null   object \n",
      " 3   Parent Response Rate               1670 non-null   float64\n",
      " 4   Teacher Response Rate              1671 non-null   float64\n",
      " 5   Student Response Rate              996 non-null    float64\n",
      " 6   Total Safety and Respect Score     1671 non-null   float64\n",
      " 7   Total Communication Score          1671 non-null   float64\n",
      " 8   Total Engagement Score             1671 non-null   float64\n",
      " 9   Total Academic Expectations Score  1671 non-null   float64\n",
      "dtypes: float64(7), object(3)\n",
      "memory usage: 130.8+ KB\n"
     ]
    }
   ],
   "source": [
    "df.info()"
   ]
  },
  {
   "cell_type": "code",
   "execution_count": 68,
   "id": "ad7406c9",
   "metadata": {},
   "outputs": [
    {
     "data": {
      "application/vnd.microsoft.datawrangler.viewer.v0+json": {
       "columns": [
        {
         "name": "index",
         "rawType": "int64",
         "type": "integer"
        },
        {
         "name": "DBN",
         "rawType": "object",
         "type": "string"
        },
        {
         "name": "School Name",
         "rawType": "object",
         "type": "string"
        },
        {
         "name": "School Type",
         "rawType": "object",
         "type": "string"
        },
        {
         "name": "Parent Response Rate",
         "rawType": "float64",
         "type": "float"
        },
        {
         "name": "Teacher Response Rate",
         "rawType": "float64",
         "type": "float"
        },
        {
         "name": "Student Response Rate",
         "rawType": "float64",
         "type": "float"
        },
        {
         "name": "Total Safety and Respect Score",
         "rawType": "float64",
         "type": "float"
        },
        {
         "name": "Total Communication Score",
         "rawType": "float64",
         "type": "float"
        },
        {
         "name": "Total Engagement Score",
         "rawType": "float64",
         "type": "float"
        },
        {
         "name": "Total Academic Expectations Score",
         "rawType": "float64",
         "type": "float"
        }
       ],
       "conversionMethod": "pd.DataFrame",
       "ref": "baeb28a3-ea74-4be9-a153-7408eeafcd2c",
       "rows": [
        [
         "0",
         "12X245",
         "New Day Academy",
         "Middle/High School",
         "0.11",
         "0.0",
         "0.0",
         "7.3",
         "6.8",
         "7.0",
         "7.4"
        ],
        [
         "1",
         "08X540",
         "School For Community Research And Learning",
         "High School",
         "0.02",
         "0.5",
         "0.0",
         "5.8",
         "6.4",
         "6.6",
         "6.8"
        ],
        [
         "2",
         "84X378",
         "Icahn Charter School 2",
         "Elementary School",
         "0.66",
         "1.0",
         "0.0",
         "9.2",
         "8.7",
         "8.3",
         "9.1"
        ],
        [
         "3",
         "02M425",
         "Leadership And Public Service High School",
         "High School",
         "0.06",
         "0.75",
         "0.04",
         "6.8",
         "6.7",
         "7.0",
         "7.2"
        ],
        [
         "4",
         "27Q400",
         "August Martin High School",
         "High School",
         "0.17",
         "0.02",
         "0.13",
         "8.1",
         "7.5",
         "7.8",
         "8.0"
        ],
        [
         "5",
         "16K455",
         "Boys And Girls High School",
         "High School",
         "0.15",
         "0.46",
         "0.18",
         "6.8",
         "7.1",
         "7.2",
         "7.2"
        ],
        [
         "6",
         "24Q485",
         "Grover Cleveland High School",
         "High School",
         "0.17",
         "0.51",
         "0.2",
         "8.2",
         "7.5",
         "8.0",
         "8.1"
        ],
        [
         "7",
         "26Q495",
         "Bayside High School",
         "High School",
         "0.14",
         "0.94",
         "0.2",
         "8.1",
         "7.3",
         "7.8",
         "7.9"
        ],
        [
         "8",
         "28Q440",
         "Forest Hills High School",
         "High School",
         "0.11",
         "0.81",
         "0.23",
         "7.4",
         "7.1",
         "7.6",
         "7.9"
        ],
        [
         "9",
         "23K643",
         "Brooklyn Democracy Academy",
         "Transfer High School",
         "0.02",
         "0.87",
         "0.26",
         "6.9",
         "6.2",
         "7.3",
         "7.3"
        ],
        [
         "10",
         "05M410",
         "The Urban Assembly Institute For New Technologies",
         "Middle School",
         "0.01",
         "0.23",
         "0.27",
         "6.7",
         "6.8",
         "7.5",
         "8.2"
        ],
        [
         "11",
         "25Q460",
         "Flushing High School",
         "High School",
         "0.17",
         "0.87",
         "0.28",
         "6.9",
         "6.6",
         "7.1",
         "7.3"
        ],
        [
         "12",
         "03M402",
         "The Urban Assembly School For Green Careers",
         "High School",
         "0.33",
         "0.92",
         "0.28",
         "6.9",
         "6.5",
         "6.9",
         "7.0"
        ],
        [
         "13",
         "21K411",
         "Abraham Lincoln Yabc",
         "YABC",
         "0.17",
         "1.0",
         "0.28",
         "8.6",
         "7.9",
         "8.2",
         "8.3"
        ],
        [
         "14",
         "02M560",
         "High School M560 - City As School",
         "Transfer High School",
         "0.04",
         "0.73",
         "0.29",
         "8.3",
         "7.1",
         "7.8",
         "8.0"
        ],
        [
         "15",
         "03M505",
         "Edward A. Reynolds West Side High School",
         "Transfer High School",
         "0.14",
         "0.93",
         "0.29",
         "7.9",
         "6.7",
         "7.5",
         "7.7"
        ],
        [
         "16",
         "02M544",
         "Independence High School",
         "Transfer High School",
         "0.19",
         "0.68",
         "0.34",
         "8.1",
         "6.8",
         "7.6",
         "7.5"
        ],
        [
         "17",
         "03M165",
         "P.S. 165 Robert E. Simon",
         "Elementary/Middle School",
         "0.23",
         "0.24",
         "0.37",
         "7.6",
         "6.9",
         "7.1",
         "7.6"
        ],
        [
         "18",
         "03M283",
         "Manhattan Theatre Lab High School",
         "High School",
         "0.06",
         "0.75",
         "0.37",
         "6.2",
         "5.0",
         "5.3",
         "5.5"
        ],
        [
         "19",
         "02M620",
         "Norman Thomas High School",
         "High School",
         "0.41",
         "0.91",
         "0.38",
         "6.6",
         "6.0",
         "6.2",
         "6.5"
        ]
       ],
       "shape": {
        "columns": 10,
        "rows": 20
       }
      },
      "text/html": [
       "<div>\n",
       "<style scoped>\n",
       "    .dataframe tbody tr th:only-of-type {\n",
       "        vertical-align: middle;\n",
       "    }\n",
       "\n",
       "    .dataframe tbody tr th {\n",
       "        vertical-align: top;\n",
       "    }\n",
       "\n",
       "    .dataframe thead th {\n",
       "        text-align: right;\n",
       "    }\n",
       "</style>\n",
       "<table border=\"1\" class=\"dataframe\">\n",
       "  <thead>\n",
       "    <tr style=\"text-align: right;\">\n",
       "      <th></th>\n",
       "      <th>DBN</th>\n",
       "      <th>School Name</th>\n",
       "      <th>School Type</th>\n",
       "      <th>Parent Response Rate</th>\n",
       "      <th>Teacher Response Rate</th>\n",
       "      <th>Student Response Rate</th>\n",
       "      <th>Total Safety and Respect Score</th>\n",
       "      <th>Total Communication Score</th>\n",
       "      <th>Total Engagement Score</th>\n",
       "      <th>Total Academic Expectations Score</th>\n",
       "    </tr>\n",
       "  </thead>\n",
       "  <tbody>\n",
       "    <tr>\n",
       "      <th>0</th>\n",
       "      <td>12X245</td>\n",
       "      <td>New Day Academy</td>\n",
       "      <td>Middle/High School</td>\n",
       "      <td>0.11</td>\n",
       "      <td>0.00</td>\n",
       "      <td>0.00</td>\n",
       "      <td>7.3</td>\n",
       "      <td>6.8</td>\n",
       "      <td>7.0</td>\n",
       "      <td>7.4</td>\n",
       "    </tr>\n",
       "    <tr>\n",
       "      <th>1</th>\n",
       "      <td>08X540</td>\n",
       "      <td>School For Community Research And Learning</td>\n",
       "      <td>High School</td>\n",
       "      <td>0.02</td>\n",
       "      <td>0.50</td>\n",
       "      <td>0.00</td>\n",
       "      <td>5.8</td>\n",
       "      <td>6.4</td>\n",
       "      <td>6.6</td>\n",
       "      <td>6.8</td>\n",
       "    </tr>\n",
       "    <tr>\n",
       "      <th>2</th>\n",
       "      <td>84X378</td>\n",
       "      <td>Icahn Charter School 2</td>\n",
       "      <td>Elementary School</td>\n",
       "      <td>0.66</td>\n",
       "      <td>1.00</td>\n",
       "      <td>0.00</td>\n",
       "      <td>9.2</td>\n",
       "      <td>8.7</td>\n",
       "      <td>8.3</td>\n",
       "      <td>9.1</td>\n",
       "    </tr>\n",
       "    <tr>\n",
       "      <th>3</th>\n",
       "      <td>02M425</td>\n",
       "      <td>Leadership And Public Service High School</td>\n",
       "      <td>High School</td>\n",
       "      <td>0.06</td>\n",
       "      <td>0.75</td>\n",
       "      <td>0.04</td>\n",
       "      <td>6.8</td>\n",
       "      <td>6.7</td>\n",
       "      <td>7.0</td>\n",
       "      <td>7.2</td>\n",
       "    </tr>\n",
       "    <tr>\n",
       "      <th>4</th>\n",
       "      <td>27Q400</td>\n",
       "      <td>August Martin High School</td>\n",
       "      <td>High School</td>\n",
       "      <td>0.17</td>\n",
       "      <td>0.02</td>\n",
       "      <td>0.13</td>\n",
       "      <td>8.1</td>\n",
       "      <td>7.5</td>\n",
       "      <td>7.8</td>\n",
       "      <td>8.0</td>\n",
       "    </tr>\n",
       "    <tr>\n",
       "      <th>5</th>\n",
       "      <td>16K455</td>\n",
       "      <td>Boys And Girls High School</td>\n",
       "      <td>High School</td>\n",
       "      <td>0.15</td>\n",
       "      <td>0.46</td>\n",
       "      <td>0.18</td>\n",
       "      <td>6.8</td>\n",
       "      <td>7.1</td>\n",
       "      <td>7.2</td>\n",
       "      <td>7.2</td>\n",
       "    </tr>\n",
       "    <tr>\n",
       "      <th>6</th>\n",
       "      <td>24Q485</td>\n",
       "      <td>Grover Cleveland High School</td>\n",
       "      <td>High School</td>\n",
       "      <td>0.17</td>\n",
       "      <td>0.51</td>\n",
       "      <td>0.20</td>\n",
       "      <td>8.2</td>\n",
       "      <td>7.5</td>\n",
       "      <td>8.0</td>\n",
       "      <td>8.1</td>\n",
       "    </tr>\n",
       "    <tr>\n",
       "      <th>7</th>\n",
       "      <td>26Q495</td>\n",
       "      <td>Bayside High School</td>\n",
       "      <td>High School</td>\n",
       "      <td>0.14</td>\n",
       "      <td>0.94</td>\n",
       "      <td>0.20</td>\n",
       "      <td>8.1</td>\n",
       "      <td>7.3</td>\n",
       "      <td>7.8</td>\n",
       "      <td>7.9</td>\n",
       "    </tr>\n",
       "    <tr>\n",
       "      <th>8</th>\n",
       "      <td>28Q440</td>\n",
       "      <td>Forest Hills High School</td>\n",
       "      <td>High School</td>\n",
       "      <td>0.11</td>\n",
       "      <td>0.81</td>\n",
       "      <td>0.23</td>\n",
       "      <td>7.4</td>\n",
       "      <td>7.1</td>\n",
       "      <td>7.6</td>\n",
       "      <td>7.9</td>\n",
       "    </tr>\n",
       "    <tr>\n",
       "      <th>9</th>\n",
       "      <td>23K643</td>\n",
       "      <td>Brooklyn Democracy Academy</td>\n",
       "      <td>Transfer High School</td>\n",
       "      <td>0.02</td>\n",
       "      <td>0.87</td>\n",
       "      <td>0.26</td>\n",
       "      <td>6.9</td>\n",
       "      <td>6.2</td>\n",
       "      <td>7.3</td>\n",
       "      <td>7.3</td>\n",
       "    </tr>\n",
       "    <tr>\n",
       "      <th>10</th>\n",
       "      <td>05M410</td>\n",
       "      <td>The Urban Assembly Institute For New Technologies</td>\n",
       "      <td>Middle School</td>\n",
       "      <td>0.01</td>\n",
       "      <td>0.23</td>\n",
       "      <td>0.27</td>\n",
       "      <td>6.7</td>\n",
       "      <td>6.8</td>\n",
       "      <td>7.5</td>\n",
       "      <td>8.2</td>\n",
       "    </tr>\n",
       "    <tr>\n",
       "      <th>11</th>\n",
       "      <td>25Q460</td>\n",
       "      <td>Flushing High School</td>\n",
       "      <td>High School</td>\n",
       "      <td>0.17</td>\n",
       "      <td>0.87</td>\n",
       "      <td>0.28</td>\n",
       "      <td>6.9</td>\n",
       "      <td>6.6</td>\n",
       "      <td>7.1</td>\n",
       "      <td>7.3</td>\n",
       "    </tr>\n",
       "    <tr>\n",
       "      <th>12</th>\n",
       "      <td>03M402</td>\n",
       "      <td>The Urban Assembly School For Green Careers</td>\n",
       "      <td>High School</td>\n",
       "      <td>0.33</td>\n",
       "      <td>0.92</td>\n",
       "      <td>0.28</td>\n",
       "      <td>6.9</td>\n",
       "      <td>6.5</td>\n",
       "      <td>6.9</td>\n",
       "      <td>7.0</td>\n",
       "    </tr>\n",
       "    <tr>\n",
       "      <th>13</th>\n",
       "      <td>21K411</td>\n",
       "      <td>Abraham Lincoln Yabc</td>\n",
       "      <td>YABC</td>\n",
       "      <td>0.17</td>\n",
       "      <td>1.00</td>\n",
       "      <td>0.28</td>\n",
       "      <td>8.6</td>\n",
       "      <td>7.9</td>\n",
       "      <td>8.2</td>\n",
       "      <td>8.3</td>\n",
       "    </tr>\n",
       "    <tr>\n",
       "      <th>14</th>\n",
       "      <td>02M560</td>\n",
       "      <td>High School M560 - City As School</td>\n",
       "      <td>Transfer High School</td>\n",
       "      <td>0.04</td>\n",
       "      <td>0.73</td>\n",
       "      <td>0.29</td>\n",
       "      <td>8.3</td>\n",
       "      <td>7.1</td>\n",
       "      <td>7.8</td>\n",
       "      <td>8.0</td>\n",
       "    </tr>\n",
       "    <tr>\n",
       "      <th>15</th>\n",
       "      <td>03M505</td>\n",
       "      <td>Edward A. Reynolds West Side High School</td>\n",
       "      <td>Transfer High School</td>\n",
       "      <td>0.14</td>\n",
       "      <td>0.93</td>\n",
       "      <td>0.29</td>\n",
       "      <td>7.9</td>\n",
       "      <td>6.7</td>\n",
       "      <td>7.5</td>\n",
       "      <td>7.7</td>\n",
       "    </tr>\n",
       "    <tr>\n",
       "      <th>16</th>\n",
       "      <td>02M544</td>\n",
       "      <td>Independence High School</td>\n",
       "      <td>Transfer High School</td>\n",
       "      <td>0.19</td>\n",
       "      <td>0.68</td>\n",
       "      <td>0.34</td>\n",
       "      <td>8.1</td>\n",
       "      <td>6.8</td>\n",
       "      <td>7.6</td>\n",
       "      <td>7.5</td>\n",
       "    </tr>\n",
       "    <tr>\n",
       "      <th>17</th>\n",
       "      <td>03M165</td>\n",
       "      <td>P.S. 165 Robert E. Simon</td>\n",
       "      <td>Elementary/Middle School</td>\n",
       "      <td>0.23</td>\n",
       "      <td>0.24</td>\n",
       "      <td>0.37</td>\n",
       "      <td>7.6</td>\n",
       "      <td>6.9</td>\n",
       "      <td>7.1</td>\n",
       "      <td>7.6</td>\n",
       "    </tr>\n",
       "    <tr>\n",
       "      <th>18</th>\n",
       "      <td>03M283</td>\n",
       "      <td>Manhattan Theatre Lab High School</td>\n",
       "      <td>High School</td>\n",
       "      <td>0.06</td>\n",
       "      <td>0.75</td>\n",
       "      <td>0.37</td>\n",
       "      <td>6.2</td>\n",
       "      <td>5.0</td>\n",
       "      <td>5.3</td>\n",
       "      <td>5.5</td>\n",
       "    </tr>\n",
       "    <tr>\n",
       "      <th>19</th>\n",
       "      <td>02M620</td>\n",
       "      <td>Norman Thomas High School</td>\n",
       "      <td>High School</td>\n",
       "      <td>0.41</td>\n",
       "      <td>0.91</td>\n",
       "      <td>0.38</td>\n",
       "      <td>6.6</td>\n",
       "      <td>6.0</td>\n",
       "      <td>6.2</td>\n",
       "      <td>6.5</td>\n",
       "    </tr>\n",
       "  </tbody>\n",
       "</table>\n",
       "</div>"
      ],
      "text/plain": [
       "       DBN                                        School Name  \\\n",
       "0   12X245                                    New Day Academy   \n",
       "1   08X540         School For Community Research And Learning   \n",
       "2   84X378                             Icahn Charter School 2   \n",
       "3   02M425          Leadership And Public Service High School   \n",
       "4   27Q400                          August Martin High School   \n",
       "5   16K455                         Boys And Girls High School   \n",
       "6   24Q485                       Grover Cleveland High School   \n",
       "7   26Q495                                Bayside High School   \n",
       "8   28Q440                           Forest Hills High School   \n",
       "9   23K643                         Brooklyn Democracy Academy   \n",
       "10  05M410  The Urban Assembly Institute For New Technologies   \n",
       "11  25Q460                               Flushing High School   \n",
       "12  03M402        The Urban Assembly School For Green Careers   \n",
       "13  21K411                               Abraham Lincoln Yabc   \n",
       "14  02M560                  High School M560 - City As School   \n",
       "15  03M505           Edward A. Reynolds West Side High School   \n",
       "16  02M544                           Independence High School   \n",
       "17  03M165                           P.S. 165 Robert E. Simon   \n",
       "18  03M283                  Manhattan Theatre Lab High School   \n",
       "19  02M620                          Norman Thomas High School   \n",
       "\n",
       "                 School Type  Parent Response Rate  Teacher Response Rate  \\\n",
       "0         Middle/High School                  0.11                   0.00   \n",
       "1                High School                  0.02                   0.50   \n",
       "2          Elementary School                  0.66                   1.00   \n",
       "3                High School                  0.06                   0.75   \n",
       "4                High School                  0.17                   0.02   \n",
       "5                High School                  0.15                   0.46   \n",
       "6                High School                  0.17                   0.51   \n",
       "7                High School                  0.14                   0.94   \n",
       "8                High School                  0.11                   0.81   \n",
       "9       Transfer High School                  0.02                   0.87   \n",
       "10             Middle School                  0.01                   0.23   \n",
       "11               High School                  0.17                   0.87   \n",
       "12               High School                  0.33                   0.92   \n",
       "13                      YABC                  0.17                   1.00   \n",
       "14      Transfer High School                  0.04                   0.73   \n",
       "15      Transfer High School                  0.14                   0.93   \n",
       "16      Transfer High School                  0.19                   0.68   \n",
       "17  Elementary/Middle School                  0.23                   0.24   \n",
       "18               High School                  0.06                   0.75   \n",
       "19               High School                  0.41                   0.91   \n",
       "\n",
       "    Student Response Rate  Total Safety and Respect Score  \\\n",
       "0                    0.00                             7.3   \n",
       "1                    0.00                             5.8   \n",
       "2                    0.00                             9.2   \n",
       "3                    0.04                             6.8   \n",
       "4                    0.13                             8.1   \n",
       "5                    0.18                             6.8   \n",
       "6                    0.20                             8.2   \n",
       "7                    0.20                             8.1   \n",
       "8                    0.23                             7.4   \n",
       "9                    0.26                             6.9   \n",
       "10                   0.27                             6.7   \n",
       "11                   0.28                             6.9   \n",
       "12                   0.28                             6.9   \n",
       "13                   0.28                             8.6   \n",
       "14                   0.29                             8.3   \n",
       "15                   0.29                             7.9   \n",
       "16                   0.34                             8.1   \n",
       "17                   0.37                             7.6   \n",
       "18                   0.37                             6.2   \n",
       "19                   0.38                             6.6   \n",
       "\n",
       "    Total Communication Score  Total Engagement Score  \\\n",
       "0                         6.8                     7.0   \n",
       "1                         6.4                     6.6   \n",
       "2                         8.7                     8.3   \n",
       "3                         6.7                     7.0   \n",
       "4                         7.5                     7.8   \n",
       "5                         7.1                     7.2   \n",
       "6                         7.5                     8.0   \n",
       "7                         7.3                     7.8   \n",
       "8                         7.1                     7.6   \n",
       "9                         6.2                     7.3   \n",
       "10                        6.8                     7.5   \n",
       "11                        6.6                     7.1   \n",
       "12                        6.5                     6.9   \n",
       "13                        7.9                     8.2   \n",
       "14                        7.1                     7.8   \n",
       "15                        6.7                     7.5   \n",
       "16                        6.8                     7.6   \n",
       "17                        6.9                     7.1   \n",
       "18                        5.0                     5.3   \n",
       "19                        6.0                     6.2   \n",
       "\n",
       "    Total Academic Expectations Score  \n",
       "0                                 7.4  \n",
       "1                                 6.8  \n",
       "2                                 9.1  \n",
       "3                                 7.2  \n",
       "4                                 8.0  \n",
       "5                                 7.2  \n",
       "6                                 8.1  \n",
       "7                                 7.9  \n",
       "8                                 7.9  \n",
       "9                                 7.3  \n",
       "10                                8.2  \n",
       "11                                7.3  \n",
       "12                                7.0  \n",
       "13                                8.3  \n",
       "14                                8.0  \n",
       "15                                7.7  \n",
       "16                                7.5  \n",
       "17                                7.6  \n",
       "18                                5.5  \n",
       "19                                6.5  "
      ]
     },
     "execution_count": 68,
     "metadata": {},
     "output_type": "execute_result"
    }
   ],
   "source": [
    "df.head(20)"
   ]
  },
  {
   "cell_type": "code",
   "execution_count": 69,
   "id": "7f84ed79",
   "metadata": {},
   "outputs": [
    {
     "data": {
      "application/vnd.microsoft.datawrangler.viewer.v0+json": {
       "columns": [
        {
         "name": "index",
         "rawType": "object",
         "type": "string"
        },
        {
         "name": "Parent Response Rate",
         "rawType": "float64",
         "type": "float"
        },
        {
         "name": "Teacher Response Rate",
         "rawType": "float64",
         "type": "float"
        },
        {
         "name": "Student Response Rate",
         "rawType": "float64",
         "type": "float"
        },
        {
         "name": "Total Safety and Respect Score",
         "rawType": "float64",
         "type": "float"
        },
        {
         "name": "Total Communication Score",
         "rawType": "float64",
         "type": "float"
        },
        {
         "name": "Total Engagement Score",
         "rawType": "float64",
         "type": "float"
        },
        {
         "name": "Total Academic Expectations Score",
         "rawType": "float64",
         "type": "float"
        }
       ],
       "conversionMethod": "pd.DataFrame",
       "ref": "b62a89e3-9c7e-43d5-af75-3031c0ed9ee1",
       "rows": [
        [
         "count",
         "1670.0",
         "1671.0",
         "996.0",
         "1671.0",
         "1671.0",
         "1671.0",
         "1671.0"
        ],
        [
         "mean",
         "0.56",
         "0.83",
         "0.84",
         "7.85",
         "7.3",
         "7.58",
         "7.88"
        ],
        [
         "std",
         "0.25",
         "0.17",
         "0.16",
         "0.75",
         "0.7",
         "0.66",
         "0.63"
        ],
        [
         "min",
         "0.01",
         "0.0",
         "0.0",
         "4.7",
         "4.7",
         "4.8",
         "5.3"
        ],
        [
         "25%",
         "0.37",
         "0.75",
         "0.79",
         "7.3",
         "6.8",
         "7.1",
         "7.5"
        ],
        [
         "50%",
         "0.57",
         "0.88",
         "0.9",
         "7.9",
         "7.3",
         "7.6",
         "7.9"
        ],
        [
         "75%",
         "0.76",
         "0.97",
         "0.96",
         "8.4",
         "7.8",
         "8.0",
         "8.3"
        ],
        [
         "max",
         "1.0",
         "1.0",
         "1.0",
         "9.6",
         "9.2",
         "9.3",
         "9.5"
        ]
       ],
       "shape": {
        "columns": 7,
        "rows": 8
       }
      },
      "text/html": [
       "<div>\n",
       "<style scoped>\n",
       "    .dataframe tbody tr th:only-of-type {\n",
       "        vertical-align: middle;\n",
       "    }\n",
       "\n",
       "    .dataframe tbody tr th {\n",
       "        vertical-align: top;\n",
       "    }\n",
       "\n",
       "    .dataframe thead th {\n",
       "        text-align: right;\n",
       "    }\n",
       "</style>\n",
       "<table border=\"1\" class=\"dataframe\">\n",
       "  <thead>\n",
       "    <tr style=\"text-align: right;\">\n",
       "      <th></th>\n",
       "      <th>Parent Response Rate</th>\n",
       "      <th>Teacher Response Rate</th>\n",
       "      <th>Student Response Rate</th>\n",
       "      <th>Total Safety and Respect Score</th>\n",
       "      <th>Total Communication Score</th>\n",
       "      <th>Total Engagement Score</th>\n",
       "      <th>Total Academic Expectations Score</th>\n",
       "    </tr>\n",
       "  </thead>\n",
       "  <tbody>\n",
       "    <tr>\n",
       "      <th>count</th>\n",
       "      <td>1670.00</td>\n",
       "      <td>1671.00</td>\n",
       "      <td>996.00</td>\n",
       "      <td>1671.00</td>\n",
       "      <td>1671.0</td>\n",
       "      <td>1671.00</td>\n",
       "      <td>1671.00</td>\n",
       "    </tr>\n",
       "    <tr>\n",
       "      <th>mean</th>\n",
       "      <td>0.56</td>\n",
       "      <td>0.83</td>\n",
       "      <td>0.84</td>\n",
       "      <td>7.85</td>\n",
       "      <td>7.3</td>\n",
       "      <td>7.58</td>\n",
       "      <td>7.88</td>\n",
       "    </tr>\n",
       "    <tr>\n",
       "      <th>std</th>\n",
       "      <td>0.25</td>\n",
       "      <td>0.17</td>\n",
       "      <td>0.16</td>\n",
       "      <td>0.75</td>\n",
       "      <td>0.7</td>\n",
       "      <td>0.66</td>\n",
       "      <td>0.63</td>\n",
       "    </tr>\n",
       "    <tr>\n",
       "      <th>min</th>\n",
       "      <td>0.01</td>\n",
       "      <td>0.00</td>\n",
       "      <td>0.00</td>\n",
       "      <td>4.70</td>\n",
       "      <td>4.7</td>\n",
       "      <td>4.80</td>\n",
       "      <td>5.30</td>\n",
       "    </tr>\n",
       "    <tr>\n",
       "      <th>25%</th>\n",
       "      <td>0.37</td>\n",
       "      <td>0.75</td>\n",
       "      <td>0.79</td>\n",
       "      <td>7.30</td>\n",
       "      <td>6.8</td>\n",
       "      <td>7.10</td>\n",
       "      <td>7.50</td>\n",
       "    </tr>\n",
       "    <tr>\n",
       "      <th>50%</th>\n",
       "      <td>0.57</td>\n",
       "      <td>0.88</td>\n",
       "      <td>0.90</td>\n",
       "      <td>7.90</td>\n",
       "      <td>7.3</td>\n",
       "      <td>7.60</td>\n",
       "      <td>7.90</td>\n",
       "    </tr>\n",
       "    <tr>\n",
       "      <th>75%</th>\n",
       "      <td>0.76</td>\n",
       "      <td>0.97</td>\n",
       "      <td>0.96</td>\n",
       "      <td>8.40</td>\n",
       "      <td>7.8</td>\n",
       "      <td>8.00</td>\n",
       "      <td>8.30</td>\n",
       "    </tr>\n",
       "    <tr>\n",
       "      <th>max</th>\n",
       "      <td>1.00</td>\n",
       "      <td>1.00</td>\n",
       "      <td>1.00</td>\n",
       "      <td>9.60</td>\n",
       "      <td>9.2</td>\n",
       "      <td>9.30</td>\n",
       "      <td>9.50</td>\n",
       "    </tr>\n",
       "  </tbody>\n",
       "</table>\n",
       "</div>"
      ],
      "text/plain": [
       "       Parent Response Rate  Teacher Response Rate  Student Response Rate  \\\n",
       "count               1670.00                1671.00                 996.00   \n",
       "mean                   0.56                   0.83                   0.84   \n",
       "std                    0.25                   0.17                   0.16   \n",
       "min                    0.01                   0.00                   0.00   \n",
       "25%                    0.37                   0.75                   0.79   \n",
       "50%                    0.57                   0.88                   0.90   \n",
       "75%                    0.76                   0.97                   0.96   \n",
       "max                    1.00                   1.00                   1.00   \n",
       "\n",
       "       Total Safety and Respect Score  Total Communication Score  \\\n",
       "count                         1671.00                     1671.0   \n",
       "mean                             7.85                        7.3   \n",
       "std                              0.75                        0.7   \n",
       "min                              4.70                        4.7   \n",
       "25%                              7.30                        6.8   \n",
       "50%                              7.90                        7.3   \n",
       "75%                              8.40                        7.8   \n",
       "max                              9.60                        9.2   \n",
       "\n",
       "       Total Engagement Score  Total Academic Expectations Score  \n",
       "count                 1671.00                            1671.00  \n",
       "mean                     7.58                               7.88  \n",
       "std                      0.66                               0.63  \n",
       "min                      4.80                               5.30  \n",
       "25%                      7.10                               7.50  \n",
       "50%                      7.60                               7.90  \n",
       "75%                      8.00                               8.30  \n",
       "max                      9.30                               9.50  "
      ]
     },
     "execution_count": 69,
     "metadata": {},
     "output_type": "execute_result"
    }
   ],
   "source": [
    "df.describe().round(2)"
   ]
  },
  {
   "cell_type": "markdown",
   "id": "8a35fe58",
   "metadata": {},
   "source": [
    "#### عدد وأنواع المدارس\n",
    "\n",
    "في هذه الخطوة، سنقوم بتحليل أولي لعدد المدارس المشاركة وتصنيفها حسب نوع المدرسة.'''\n",
    "\n",
    "الأهداف:\n",
    "- معرفة العدد الإجمالي للمدارس المشاركة في الاستبيان\n",
    "- توزيع المدارس حسب النوع '''"
   ]
  },
  {
   "cell_type": "code",
   "execution_count": 70,
   "id": "b40f40b6",
   "metadata": {},
   "outputs": [
    {
     "name": "stdout",
     "output_type": "stream",
     "text": [
      " عدد المدارس الفريدة المشاركة في الاستبيان: 1666\n"
     ]
    }
   ],
   "source": [
    "num_unique_schools = df['School Name'].dropna().nunique()\n",
    "print(f\" عدد المدارس الفريدة المشاركة في الاستبيان: {num_unique_schools}\")"
   ]
  },
  {
   "cell_type": "code",
   "execution_count": 71,
   "id": "6c4e0986",
   "metadata": {},
   "outputs": [
    {
     "data": {
      "application/vnd.microsoft.datawrangler.viewer.v0+json": {
       "columns": [
        {
         "name": "index",
         "rawType": "int64",
         "type": "integer"
        },
        {
         "name": "DBN",
         "rawType": "object",
         "type": "string"
        },
        {
         "name": "School Name",
         "rawType": "object",
         "type": "string"
        },
        {
         "name": "School Type",
         "rawType": "object",
         "type": "string"
        },
        {
         "name": "Parent Response Rate",
         "rawType": "float64",
         "type": "float"
        },
        {
         "name": "Teacher Response Rate",
         "rawType": "float64",
         "type": "float"
        },
        {
         "name": "Student Response Rate",
         "rawType": "float64",
         "type": "float"
        },
        {
         "name": "Total Safety and Respect Score",
         "rawType": "float64",
         "type": "float"
        },
        {
         "name": "Total Communication Score",
         "rawType": "float64",
         "type": "float"
        },
        {
         "name": "Total Engagement Score",
         "rawType": "float64",
         "type": "float"
        },
        {
         "name": "Total Academic Expectations Score",
         "rawType": "float64",
         "type": "float"
        }
       ],
       "conversionMethod": "pd.DataFrame",
       "ref": "4ac7cd29-7af2-43bb-94f6-39c9287a0317",
       "rows": [
        [
         "769",
         "84M481",
         "Democracy Preparatory Harlem Charter School",
         "Middle School",
         "0.7",
         "1.0",
         "0.96",
         "8.1",
         "7.7",
         "7.6",
         "8.5"
        ],
        [
         "770",
         "84M481",
         "Democracy Preparatory Harlem Charter School",
         "Middle School",
         "0.7",
         "1.0",
         "0.96",
         "8.1",
         "7.7",
         "7.6",
         "8.5"
        ],
        [
         "1651",
         "84M482",
         "Harlem Success Academy Charter School 5",
         "Early Childhood School",
         "0.98",
         "1.0",
         null,
         "8.4",
         "7.8",
         "7.8",
         "8.5"
        ],
        [
         "1653",
         "84M482",
         "Harlem Success Academy Charter School 5",
         "Early Childhood School",
         "0.98",
         "1.0",
         null,
         "8.4",
         "7.8",
         "7.8",
         "8.5"
        ],
        [
         "1074",
         "84M483",
         "New York French American Charter School",
         "Early Childhood School",
         "0.5",
         "0.62",
         null,
         "7.1",
         "6.4",
         "5.9",
         "6.1"
        ],
        [
         "1075",
         "84M483",
         "New York French American Charter School",
         "Early Childhood School",
         "0.5",
         "0.62",
         null,
         "7.1",
         "6.4",
         "5.9",
         "6.1"
        ],
        [
         "904",
         "12X212",
         "P.S. 212",
         "Elementary/Middle School",
         "0.33",
         "0.84",
         "0.99",
         "7.6",
         "7.0",
         "7.5",
         "7.9"
        ],
        [
         "1091",
         "30Q212",
         "P.S. 212",
         "Elementary School",
         "0.86",
         "0.64",
         null,
         "8.5",
         "7.4",
         "7.8",
         "8.0"
        ],
        [
         "1409",
         "27Q253",
         "P.S. 253",
         "Elementary School",
         "0.7",
         "0.93",
         null,
         "8.7",
         "8.2",
         "8.4",
         "8.5"
        ],
        [
         "1479",
         "21K253",
         "P.S. 253",
         "Elementary School",
         "1.0",
         "0.96",
         null,
         "9.3",
         "8.8",
         "8.9",
         "9.0"
        ]
       ],
       "shape": {
        "columns": 10,
        "rows": 10
       }
      },
      "text/html": [
       "<div>\n",
       "<style scoped>\n",
       "    .dataframe tbody tr th:only-of-type {\n",
       "        vertical-align: middle;\n",
       "    }\n",
       "\n",
       "    .dataframe tbody tr th {\n",
       "        vertical-align: top;\n",
       "    }\n",
       "\n",
       "    .dataframe thead th {\n",
       "        text-align: right;\n",
       "    }\n",
       "</style>\n",
       "<table border=\"1\" class=\"dataframe\">\n",
       "  <thead>\n",
       "    <tr style=\"text-align: right;\">\n",
       "      <th></th>\n",
       "      <th>DBN</th>\n",
       "      <th>School Name</th>\n",
       "      <th>School Type</th>\n",
       "      <th>Parent Response Rate</th>\n",
       "      <th>Teacher Response Rate</th>\n",
       "      <th>Student Response Rate</th>\n",
       "      <th>Total Safety and Respect Score</th>\n",
       "      <th>Total Communication Score</th>\n",
       "      <th>Total Engagement Score</th>\n",
       "      <th>Total Academic Expectations Score</th>\n",
       "    </tr>\n",
       "  </thead>\n",
       "  <tbody>\n",
       "    <tr>\n",
       "      <th>769</th>\n",
       "      <td>84M481</td>\n",
       "      <td>Democracy Preparatory Harlem Charter School</td>\n",
       "      <td>Middle School</td>\n",
       "      <td>0.70</td>\n",
       "      <td>1.00</td>\n",
       "      <td>0.96</td>\n",
       "      <td>8.1</td>\n",
       "      <td>7.7</td>\n",
       "      <td>7.6</td>\n",
       "      <td>8.5</td>\n",
       "    </tr>\n",
       "    <tr>\n",
       "      <th>770</th>\n",
       "      <td>84M481</td>\n",
       "      <td>Democracy Preparatory Harlem Charter School</td>\n",
       "      <td>Middle School</td>\n",
       "      <td>0.70</td>\n",
       "      <td>1.00</td>\n",
       "      <td>0.96</td>\n",
       "      <td>8.1</td>\n",
       "      <td>7.7</td>\n",
       "      <td>7.6</td>\n",
       "      <td>8.5</td>\n",
       "    </tr>\n",
       "    <tr>\n",
       "      <th>1651</th>\n",
       "      <td>84M482</td>\n",
       "      <td>Harlem Success Academy Charter School 5</td>\n",
       "      <td>Early Childhood School</td>\n",
       "      <td>0.98</td>\n",
       "      <td>1.00</td>\n",
       "      <td>NaN</td>\n",
       "      <td>8.4</td>\n",
       "      <td>7.8</td>\n",
       "      <td>7.8</td>\n",
       "      <td>8.5</td>\n",
       "    </tr>\n",
       "    <tr>\n",
       "      <th>1653</th>\n",
       "      <td>84M482</td>\n",
       "      <td>Harlem Success Academy Charter School 5</td>\n",
       "      <td>Early Childhood School</td>\n",
       "      <td>0.98</td>\n",
       "      <td>1.00</td>\n",
       "      <td>NaN</td>\n",
       "      <td>8.4</td>\n",
       "      <td>7.8</td>\n",
       "      <td>7.8</td>\n",
       "      <td>8.5</td>\n",
       "    </tr>\n",
       "    <tr>\n",
       "      <th>1074</th>\n",
       "      <td>84M483</td>\n",
       "      <td>New York French American Charter School</td>\n",
       "      <td>Early Childhood School</td>\n",
       "      <td>0.50</td>\n",
       "      <td>0.62</td>\n",
       "      <td>NaN</td>\n",
       "      <td>7.1</td>\n",
       "      <td>6.4</td>\n",
       "      <td>5.9</td>\n",
       "      <td>6.1</td>\n",
       "    </tr>\n",
       "    <tr>\n",
       "      <th>1075</th>\n",
       "      <td>84M483</td>\n",
       "      <td>New York French American Charter School</td>\n",
       "      <td>Early Childhood School</td>\n",
       "      <td>0.50</td>\n",
       "      <td>0.62</td>\n",
       "      <td>NaN</td>\n",
       "      <td>7.1</td>\n",
       "      <td>6.4</td>\n",
       "      <td>5.9</td>\n",
       "      <td>6.1</td>\n",
       "    </tr>\n",
       "    <tr>\n",
       "      <th>904</th>\n",
       "      <td>12X212</td>\n",
       "      <td>P.S. 212</td>\n",
       "      <td>Elementary/Middle School</td>\n",
       "      <td>0.33</td>\n",
       "      <td>0.84</td>\n",
       "      <td>0.99</td>\n",
       "      <td>7.6</td>\n",
       "      <td>7.0</td>\n",
       "      <td>7.5</td>\n",
       "      <td>7.9</td>\n",
       "    </tr>\n",
       "    <tr>\n",
       "      <th>1091</th>\n",
       "      <td>30Q212</td>\n",
       "      <td>P.S. 212</td>\n",
       "      <td>Elementary School</td>\n",
       "      <td>0.86</td>\n",
       "      <td>0.64</td>\n",
       "      <td>NaN</td>\n",
       "      <td>8.5</td>\n",
       "      <td>7.4</td>\n",
       "      <td>7.8</td>\n",
       "      <td>8.0</td>\n",
       "    </tr>\n",
       "    <tr>\n",
       "      <th>1409</th>\n",
       "      <td>27Q253</td>\n",
       "      <td>P.S. 253</td>\n",
       "      <td>Elementary School</td>\n",
       "      <td>0.70</td>\n",
       "      <td>0.93</td>\n",
       "      <td>NaN</td>\n",
       "      <td>8.7</td>\n",
       "      <td>8.2</td>\n",
       "      <td>8.4</td>\n",
       "      <td>8.5</td>\n",
       "    </tr>\n",
       "    <tr>\n",
       "      <th>1479</th>\n",
       "      <td>21K253</td>\n",
       "      <td>P.S. 253</td>\n",
       "      <td>Elementary School</td>\n",
       "      <td>1.00</td>\n",
       "      <td>0.96</td>\n",
       "      <td>NaN</td>\n",
       "      <td>9.3</td>\n",
       "      <td>8.8</td>\n",
       "      <td>8.9</td>\n",
       "      <td>9.0</td>\n",
       "    </tr>\n",
       "  </tbody>\n",
       "</table>\n",
       "</div>"
      ],
      "text/plain": [
       "         DBN                                  School Name  \\\n",
       "769   84M481  Democracy Preparatory Harlem Charter School   \n",
       "770   84M481  Democracy Preparatory Harlem Charter School   \n",
       "1651  84M482      Harlem Success Academy Charter School 5   \n",
       "1653  84M482      Harlem Success Academy Charter School 5   \n",
       "1074  84M483      New York French American Charter School   \n",
       "1075  84M483      New York French American Charter School   \n",
       "904   12X212                                     P.S. 212   \n",
       "1091  30Q212                                     P.S. 212   \n",
       "1409  27Q253                                     P.S. 253   \n",
       "1479  21K253                                     P.S. 253   \n",
       "\n",
       "                   School Type  Parent Response Rate  Teacher Response Rate  \\\n",
       "769              Middle School                  0.70                   1.00   \n",
       "770              Middle School                  0.70                   1.00   \n",
       "1651    Early Childhood School                  0.98                   1.00   \n",
       "1653    Early Childhood School                  0.98                   1.00   \n",
       "1074    Early Childhood School                  0.50                   0.62   \n",
       "1075    Early Childhood School                  0.50                   0.62   \n",
       "904   Elementary/Middle School                  0.33                   0.84   \n",
       "1091         Elementary School                  0.86                   0.64   \n",
       "1409         Elementary School                  0.70                   0.93   \n",
       "1479         Elementary School                  1.00                   0.96   \n",
       "\n",
       "      Student Response Rate  Total Safety and Respect Score  \\\n",
       "769                    0.96                             8.1   \n",
       "770                    0.96                             8.1   \n",
       "1651                    NaN                             8.4   \n",
       "1653                    NaN                             8.4   \n",
       "1074                    NaN                             7.1   \n",
       "1075                    NaN                             7.1   \n",
       "904                    0.99                             7.6   \n",
       "1091                    NaN                             8.5   \n",
       "1409                    NaN                             8.7   \n",
       "1479                    NaN                             9.3   \n",
       "\n",
       "      Total Communication Score  Total Engagement Score  \\\n",
       "769                         7.7                     7.6   \n",
       "770                         7.7                     7.6   \n",
       "1651                        7.8                     7.8   \n",
       "1653                        7.8                     7.8   \n",
       "1074                        6.4                     5.9   \n",
       "1075                        6.4                     5.9   \n",
       "904                         7.0                     7.5   \n",
       "1091                        7.4                     7.8   \n",
       "1409                        8.2                     8.4   \n",
       "1479                        8.8                     8.9   \n",
       "\n",
       "      Total Academic Expectations Score  \n",
       "769                                 8.5  \n",
       "770                                 8.5  \n",
       "1651                                8.5  \n",
       "1653                                8.5  \n",
       "1074                                6.1  \n",
       "1075                                6.1  \n",
       "904                                 7.9  \n",
       "1091                                8.0  \n",
       "1409                                8.5  \n",
       "1479                                9.0  "
      ]
     },
     "execution_count": 71,
     "metadata": {},
     "output_type": "execute_result"
    }
   ],
   "source": [
    "duplicated_rows = df[df.duplicated(subset=['School Name'], keep=False)]\n",
    "sorted_duplicated_rows = duplicated_rows.sort_values(by=['School Name'])\n",
    "sorted_duplicated_rows"
   ]
  },
  {
   "cell_type": "code",
   "execution_count": 72,
   "id": "48db439e",
   "metadata": {},
   "outputs": [
    {
     "data": {
      "text/plain": [
       "1666"
      ]
     },
     "execution_count": 72,
     "metadata": {},
     "output_type": "execute_result"
    }
   ],
   "source": [
    "df['School Name'].nunique()"
   ]
  },
  {
   "cell_type": "code",
   "execution_count": 73,
   "id": "58adba17",
   "metadata": {},
   "outputs": [
    {
     "data": {
      "text/plain": [
       "np.int64(1)"
      ]
     },
     "execution_count": 73,
     "metadata": {},
     "output_type": "execute_result"
    }
   ],
   "source": [
    "df['School Name'].isna().sum()"
   ]
  },
  {
   "cell_type": "code",
   "execution_count": 74,
   "id": "2124bd14",
   "metadata": {},
   "outputs": [
    {
     "name": "stdout",
     "output_type": "stream",
     "text": [
      " عدد أنواع المدارس الفريدة المشاركة في الاستبيان: 9\n"
     ]
    }
   ],
   "source": [
    "num_unique_schools_type = df['School Type'].dropna().nunique()\n",
    "print(f\" عدد أنواع المدارس الفريدة المشاركة في الاستبيان: {num_unique_schools_type}\")"
   ]
  },
  {
   "cell_type": "markdown",
   "id": "a36db3c8",
   "metadata": {},
   "source": [
    " استعراض أنواع المدارس وعدد مرات تكراره\n"
   ]
  },
  {
   "cell_type": "code",
   "execution_count": 75,
   "id": "3316647b",
   "metadata": {},
   "outputs": [
    {
     "data": {
      "text/plain": [
       "School Type\n",
       "Elementary School                617\n",
       "High School                      352\n",
       "Middle School                    293\n",
       "Elementary/Middle School         160\n",
       "Middle/High School                87\n",
       "Early Childhood School            83\n",
       "Transfer High School              49\n",
       "YABC                              22\n",
       "Elementary/Middle/High School      7\n",
       "NaN                                2\n",
       "Name: count, dtype: int64"
      ]
     },
     "execution_count": 75,
     "metadata": {},
     "output_type": "execute_result"
    }
   ],
   "source": [
    "df['School Type'].value_counts(dropna=False)"
   ]
  },
  {
   "cell_type": "code",
   "execution_count": 76,
   "id": "37ed7780",
   "metadata": {},
   "outputs": [
    {
     "data": {
      "image/png": "[encoded data removed]",
      "text/plain": [
       "<Figure size 1000x500 with 1 Axes>"
      ]
     },
     "metadata": {},
     "output_type": "display_data"
    }
   ],
   "source": [
    "df['School Type'].value_counts().plot(kind='bar', figsize=(10, 5), title='Distribution of school types')\n",
    "plt.xlabel(\"School type\")\n",
    "plt.ylabel(\"Number of School\")\n",
    "plt.tight_layout()\n",
    "plt.show()"
   ]
  },
  {
   "cell_type": "markdown",
   "id": "affffaf7",
   "metadata": {},
   "source": [
    "### العمل على الأعمدة الرقمية"
   ]
  },
  {
   "cell_type": "markdown",
   "id": "b7a33003",
   "metadata": {},
   "source": [
    "الأعمدة :\n",
    "- Parent Response Rate\n",
    "- Teacher Response Rate\n",
    "- Student Response Rate\n",
    "\n",
    "هذه الأعمدة تمثل نسبة المشاركة في الاستبيان لكل فئة"
   ]
  },
  {
   "cell_type": "code",
   "execution_count": 77,
   "id": "fa10b15a",
   "metadata": {},
   "outputs": [
    {
     "data": {
      "text/plain": [
       "count    1670.000000\n",
       "mean        0.563653\n",
       "std         0.250099\n",
       "min         0.010000\n",
       "25%         0.370000\n",
       "50%         0.570000\n",
       "75%         0.760000\n",
       "max         1.000000\n",
       "Name: Parent Response Rate, dtype: float64"
      ]
     },
     "execution_count": 77,
     "metadata": {},
     "output_type": "execute_result"
    }
   ],
   "source": [
    "df['Parent Response Rate'].describe()"
   ]
  },
  {
   "cell_type": "code",
   "execution_count": 78,
   "id": "40d45385",
   "metadata": {},
   "outputs": [
    {
     "data": {
      "text/plain": [
       "count    1671.000000\n",
       "mean        0.834201\n",
       "std         0.174279\n",
       "min         0.000000\n",
       "25%         0.750000\n",
       "50%         0.880000\n",
       "75%         0.970000\n",
       "max         1.000000\n",
       "Name: Teacher Response Rate, dtype: float64"
      ]
     },
     "execution_count": 78,
     "metadata": {},
     "output_type": "execute_result"
    }
   ],
   "source": [
    "df['Teacher Response Rate'].describe()"
   ]
  },
  {
   "cell_type": "code",
   "execution_count": 79,
   "id": "f51031cf",
   "metadata": {},
   "outputs": [
    {
     "data": {
      "text/plain": [
       "count    996.000000\n",
       "mean       0.844598\n",
       "std        0.163429\n",
       "min        0.000000\n",
       "25%        0.790000\n",
       "50%        0.900000\n",
       "75%        0.960000\n",
       "max        1.000000\n",
       "Name: Student Response Rate, dtype: float64"
      ]
     },
     "execution_count": 79,
     "metadata": {},
     "output_type": "execute_result"
    }
   ],
   "source": [
    "df['Student Response Rate'].describe()"
   ]
  },
  {
   "cell_type": "code",
   "execution_count": 80,
   "id": "f4718a0a",
   "metadata": {},
   "outputs": [
    {
     "data": {
      "text/plain": [
       "np.int64(676)"
      ]
     },
     "execution_count": 80,
     "metadata": {},
     "output_type": "execute_result"
    }
   ],
   "source": [
    "df['Student Response Rate'].isnull().sum()"
   ]
  },
  {
   "cell_type": "markdown",
   "id": "d481af20",
   "metadata": {},
   "source": [
    "كل واحد منها يمثل محور مختلف من الأداء\n",
    "- Safety → الأمان\n",
    "- Communication → التواصل\n",
    "- Engagement → التفاعل والمشاركة\n",
    "- Academic Expectations → التوقعات الدراسية"
   ]
  },
  {
   "cell_type": "markdown",
   "id": "a40af570",
   "metadata": {},
   "source": [
    "سؤال مهم : ليش قلت ان هي التقييمات هي من الاهل والطلاب والاساتذة\n",
    "ليش مو بس مجموعة وحدة \n",
    "\n",
    "##### رأي يحتمل الخطأ والصواب\n",
    "\n",
    "الأعمدة التي تحمل كلمة \"Total\" في أسمائها تشير غالبًا إلى تقييم مركب ناتج عن تجميع آراء فئات متعددة (مثل الطلاب، المعلمين، وأولياء الأمور).  \n",
    "عدم وجود أعمدة مخصصة لتقييم كل فئة يدعم هذا الاستنتاج.\n",
    "\n",
    "وبالتالي نفترض مبدئيًا أن هذه التقييمات تمثل وجهة نظر المجتمع المدرسي ككل، على أن يتم التحقق من ذلك لاحقًا إذا توفر وصف البيانات أو ملف metadata."
   ]
  },
  {
   "cell_type": "code",
   "execution_count": 81,
   "id": "919ad1ab",
   "metadata": {},
   "outputs": [
    {
     "data": {
      "text/plain": [
       "count    1671.000000\n",
       "mean        7.850688\n",
       "std         0.745597\n",
       "min         4.700000\n",
       "25%         7.300000\n",
       "50%         7.900000\n",
       "75%         8.400000\n",
       "max         9.600000\n",
       "Name: Total Safety and Respect Score, dtype: float64"
      ]
     },
     "execution_count": 81,
     "metadata": {},
     "output_type": "execute_result"
    }
   ],
   "source": [
    "df['Total Safety and Respect Score'].describe()"
   ]
  },
  {
   "cell_type": "code",
   "execution_count": 82,
   "id": "ae81e36d",
   "metadata": {},
   "outputs": [
    {
     "data": {
      "text/plain": [
       "count    1671.000000\n",
       "mean        7.879473\n",
       "std         0.625298\n",
       "min         5.300000\n",
       "25%         7.500000\n",
       "50%         7.900000\n",
       "75%         8.300000\n",
       "max         9.500000\n",
       "Name: Total Academic Expectations Score, dtype: float64"
      ]
     },
     "execution_count": 82,
     "metadata": {},
     "output_type": "execute_result"
    }
   ],
   "source": [
    "df['Total Academic Expectations Score'].describe()"
   ]
  },
  {
   "cell_type": "code",
   "execution_count": 83,
   "id": "b3c969c0",
   "metadata": {},
   "outputs": [
    {
     "data": {
      "text/plain": [
       "count    1671.000000\n",
       "mean        7.300180\n",
       "std         0.697785\n",
       "min         4.700000\n",
       "25%         6.800000\n",
       "50%         7.300000\n",
       "75%         7.800000\n",
       "max         9.200000\n",
       "Name: Total Communication Score, dtype: float64"
      ]
     },
     "execution_count": 83,
     "metadata": {},
     "output_type": "execute_result"
    }
   ],
   "source": [
    "df['Total Communication Score'].describe()"
   ]
  },
  {
   "cell_type": "code",
   "execution_count": 84,
   "id": "3d732d09",
   "metadata": {},
   "outputs": [
    {
     "data": {
      "text/plain": [
       "count    1671.000000\n",
       "mean        7.300180\n",
       "std         0.697785\n",
       "min         4.700000\n",
       "25%         6.800000\n",
       "50%         7.300000\n",
       "75%         7.800000\n",
       "max         9.200000\n",
       "Name: Total Communication Score, dtype: float64"
      ]
     },
     "execution_count": 84,
     "metadata": {},
     "output_type": "execute_result"
    }
   ],
   "source": [
    "df['Total Communication Score'].describe()"
   ]
  },
  {
   "cell_type": "markdown",
   "id": "b6362fae",
   "metadata": {},
   "source": [
    "### عملية تنظيف وتنظيم البيانات"
   ]
  },
  {
   "cell_type": "markdown",
   "id": "ed011185",
   "metadata": {},
   "source": [
    "إنشاء نسخة احتياطية من البيانات عليها يتم التعديل"
   ]
  },
  {
   "cell_type": "code",
   "execution_count": 85,
   "id": "1de1cfdf",
   "metadata": {},
   "outputs": [],
   "source": [
    "dftemp = df.copy()"
   ]
  },
  {
   "cell_type": "markdown",
   "id": "7f204fbc",
   "metadata": {},
   "source": [
    "### المعلومات المستنتجة من التحليل السابق\n",
    "-   عدد القيم الفارغة في كل عمود\n",
    "    - student response rete : 676\n",
    "    - school type : 1\n",
    "    - school name : 1\n",
    "- عدد الاسطر المكررة \n",
    "    - اسم المدرسة : 10 اسطر مكررين ، كل سطرين تابعين لمدرسة واحدة\n",
    "    - يوجد مدرستين تكرر السطر الذي يحتوى على اسمهم لكن القيم في الاعمدة الاخرى متغيرة"
   ]
  },
  {
   "cell_type": "code",
   "execution_count": 86,
   "id": "7b59dac7",
   "metadata": {},
   "outputs": [],
   "source": [
    "dftemp.drop_duplicates(inplace=True)"
   ]
  },
  {
   "cell_type": "code",
   "execution_count": 87,
   "id": "371b828d",
   "metadata": {},
   "outputs": [
    {
     "data": {
      "text/plain": [
       "(1669, 10)"
      ]
     },
     "execution_count": 87,
     "metadata": {},
     "output_type": "execute_result"
    }
   ],
   "source": [
    "dftemp.shape"
   ]
  },
  {
   "cell_type": "code",
   "execution_count": 88,
   "id": "4a91efd7",
   "metadata": {},
   "outputs": [
    {
     "data": {
      "application/vnd.microsoft.datawrangler.viewer.v0+json": {
       "columns": [
        {
         "name": "index",
         "rawType": "int64",
         "type": "integer"
        },
        {
         "name": "DBN",
         "rawType": "object",
         "type": "string"
        },
        {
         "name": "School Name",
         "rawType": "object",
         "type": "string"
        },
        {
         "name": "School Type",
         "rawType": "object",
         "type": "string"
        },
        {
         "name": "Parent Response Rate",
         "rawType": "float64",
         "type": "float"
        },
        {
         "name": "Teacher Response Rate",
         "rawType": "float64",
         "type": "float"
        },
        {
         "name": "Student Response Rate",
         "rawType": "float64",
         "type": "float"
        },
        {
         "name": "Total Safety and Respect Score",
         "rawType": "float64",
         "type": "float"
        },
        {
         "name": "Total Communication Score",
         "rawType": "float64",
         "type": "float"
        },
        {
         "name": "Total Engagement Score",
         "rawType": "float64",
         "type": "float"
        },
        {
         "name": "Total Academic Expectations Score",
         "rawType": "float64",
         "type": "float"
        }
       ],
       "conversionMethod": "pd.DataFrame",
       "ref": "7383c031-471f-415a-a5e8-b0eadf491707",
       "rows": [
        [
         "904",
         "12X212",
         "P.S. 212",
         "Elementary/Middle School",
         "0.33",
         "0.84",
         "0.99",
         "7.6",
         "7.0",
         "7.5",
         "7.9"
        ],
        [
         "1091",
         "30Q212",
         "P.S. 212",
         "Elementary School",
         "0.86",
         "0.64",
         null,
         "8.5",
         "7.4",
         "7.8",
         "8.0"
        ],
        [
         "1409",
         "27Q253",
         "P.S. 253",
         "Elementary School",
         "0.7",
         "0.93",
         null,
         "8.7",
         "8.2",
         "8.4",
         "8.5"
        ],
        [
         "1479",
         "21K253",
         "P.S. 253",
         "Elementary School",
         "1.0",
         "0.96",
         null,
         "9.3",
         "8.8",
         "8.9",
         "9.0"
        ]
       ],
       "shape": {
        "columns": 10,
        "rows": 4
       }
      },
      "text/html": [
       "<div>\n",
       "<style scoped>\n",
       "    .dataframe tbody tr th:only-of-type {\n",
       "        vertical-align: middle;\n",
       "    }\n",
       "\n",
       "    .dataframe tbody tr th {\n",
       "        vertical-align: top;\n",
       "    }\n",
       "\n",
       "    .dataframe thead th {\n",
       "        text-align: right;\n",
       "    }\n",
       "</style>\n",
       "<table border=\"1\" class=\"dataframe\">\n",
       "  <thead>\n",
       "    <tr style=\"text-align: right;\">\n",
       "      <th></th>\n",
       "      <th>DBN</th>\n",
       "      <th>School Name</th>\n",
       "      <th>School Type</th>\n",
       "      <th>Parent Response Rate</th>\n",
       "      <th>Teacher Response Rate</th>\n",
       "      <th>Student Response Rate</th>\n",
       "      <th>Total Safety and Respect Score</th>\n",
       "      <th>Total Communication Score</th>\n",
       "      <th>Total Engagement Score</th>\n",
       "      <th>Total Academic Expectations Score</th>\n",
       "    </tr>\n",
       "  </thead>\n",
       "  <tbody>\n",
       "    <tr>\n",
       "      <th>904</th>\n",
       "      <td>12X212</td>\n",
       "      <td>P.S. 212</td>\n",
       "      <td>Elementary/Middle School</td>\n",
       "      <td>0.33</td>\n",
       "      <td>0.84</td>\n",
       "      <td>0.99</td>\n",
       "      <td>7.6</td>\n",
       "      <td>7.0</td>\n",
       "      <td>7.5</td>\n",
       "      <td>7.9</td>\n",
       "    </tr>\n",
       "    <tr>\n",
       "      <th>1091</th>\n",
       "      <td>30Q212</td>\n",
       "      <td>P.S. 212</td>\n",
       "      <td>Elementary School</td>\n",
       "      <td>0.86</td>\n",
       "      <td>0.64</td>\n",
       "      <td>NaN</td>\n",
       "      <td>8.5</td>\n",
       "      <td>7.4</td>\n",
       "      <td>7.8</td>\n",
       "      <td>8.0</td>\n",
       "    </tr>\n",
       "    <tr>\n",
       "      <th>1409</th>\n",
       "      <td>27Q253</td>\n",
       "      <td>P.S. 253</td>\n",
       "      <td>Elementary School</td>\n",
       "      <td>0.70</td>\n",
       "      <td>0.93</td>\n",
       "      <td>NaN</td>\n",
       "      <td>8.7</td>\n",
       "      <td>8.2</td>\n",
       "      <td>8.4</td>\n",
       "      <td>8.5</td>\n",
       "    </tr>\n",
       "    <tr>\n",
       "      <th>1479</th>\n",
       "      <td>21K253</td>\n",
       "      <td>P.S. 253</td>\n",
       "      <td>Elementary School</td>\n",
       "      <td>1.00</td>\n",
       "      <td>0.96</td>\n",
       "      <td>NaN</td>\n",
       "      <td>9.3</td>\n",
       "      <td>8.8</td>\n",
       "      <td>8.9</td>\n",
       "      <td>9.0</td>\n",
       "    </tr>\n",
       "  </tbody>\n",
       "</table>\n",
       "</div>"
      ],
      "text/plain": [
       "         DBN School Name               School Type  Parent Response Rate  \\\n",
       "904   12X212    P.S. 212  Elementary/Middle School                  0.33   \n",
       "1091  30Q212    P.S. 212         Elementary School                  0.86   \n",
       "1409  27Q253    P.S. 253         Elementary School                  0.70   \n",
       "1479  21K253    P.S. 253         Elementary School                  1.00   \n",
       "\n",
       "      Teacher Response Rate  Student Response Rate  \\\n",
       "904                    0.84                   0.99   \n",
       "1091                   0.64                    NaN   \n",
       "1409                   0.93                    NaN   \n",
       "1479                   0.96                    NaN   \n",
       "\n",
       "      Total Safety and Respect Score  Total Communication Score  \\\n",
       "904                              7.6                        7.0   \n",
       "1091                             8.5                        7.4   \n",
       "1409                             8.7                        8.2   \n",
       "1479                             9.3                        8.8   \n",
       "\n",
       "      Total Engagement Score  Total Academic Expectations Score  \n",
       "904                      7.5                                7.9  \n",
       "1091                     7.8                                8.0  \n",
       "1409                     8.4                                8.5  \n",
       "1479                     8.9                                9.0  "
      ]
     },
     "execution_count": 88,
     "metadata": {},
     "output_type": "execute_result"
    }
   ],
   "source": [
    "duplicated_rows = dftemp[dftemp.duplicated(subset=['School Name'], keep=False)]\n",
    "sorted_duplicated_rows = duplicated_rows.sort_values(by=['School Name'])\n",
    "sorted_duplicated_rows"
   ]
  },
  {
   "cell_type": "markdown",
   "id": "e72b61c5",
   "metadata": {},
   "source": [
    "الهدف هو دمج الاسطر المتطابقة من حيث اسم المدرسة ومختلفة بالقيم الاخرى ، ذلك عن طريق الmean"
   ]
  },
  {
   "cell_type": "code",
   "execution_count": 89,
   "id": "14774b74",
   "metadata": {},
   "outputs": [],
   "source": [
    "numeric_cols = [\n",
    "    'Parent Response Rate',\n",
    "    'Teacher Response Rate',\n",
    "    'Student Response Rate',\n",
    "    'Total Safety and Respect Score',\n",
    "    'Total Communication Score',\n",
    "    'Total Engagement Score',\n",
    "    'Total Academic Expectations Score'\n",
    "]\n",
    "\n",
    "base_cols = ['School Name', 'School Type']\n",
    "merged_df = dftemp.groupby('School Name', as_index=False)[numeric_cols].mean()\n",
    "school_type = dftemp.drop_duplicates('School Name')[['School Name', 'School Type']]\n",
    "merged_df = merged_df.merge(school_type, on='School Name', how='left')"
   ]
  },
  {
   "cell_type": "code",
   "execution_count": 90,
   "id": "66ffd757",
   "metadata": {},
   "outputs": [
    {
     "data": {
      "application/vnd.microsoft.datawrangler.viewer.v0+json": {
       "columns": [
        {
         "name": "index",
         "rawType": "int64",
         "type": "integer"
        },
        {
         "name": "School Name",
         "rawType": "object",
         "type": "string"
        },
        {
         "name": "Parent Response Rate",
         "rawType": "float64",
         "type": "float"
        },
        {
         "name": "Teacher Response Rate",
         "rawType": "float64",
         "type": "float"
        },
        {
         "name": "Student Response Rate",
         "rawType": "float64",
         "type": "float"
        },
        {
         "name": "Total Safety and Respect Score",
         "rawType": "float64",
         "type": "float"
        },
        {
         "name": "Total Communication Score",
         "rawType": "float64",
         "type": "float"
        },
        {
         "name": "Total Engagement Score",
         "rawType": "float64",
         "type": "float"
        },
        {
         "name": "Total Academic Expectations Score",
         "rawType": "float64",
         "type": "float"
        },
        {
         "name": "School Type",
         "rawType": "object",
         "type": "string"
        }
       ],
       "conversionMethod": "pd.DataFrame",
       "ref": "d5133d25-ad0a-4d06-ab78-c4f5426fb42e",
       "rows": [],
       "shape": {
        "columns": 9,
        "rows": 0
       }
      },
      "text/html": [
       "<div>\n",
       "<style scoped>\n",
       "    .dataframe tbody tr th:only-of-type {\n",
       "        vertical-align: middle;\n",
       "    }\n",
       "\n",
       "    .dataframe tbody tr th {\n",
       "        vertical-align: top;\n",
       "    }\n",
       "\n",
       "    .dataframe thead th {\n",
       "        text-align: right;\n",
       "    }\n",
       "</style>\n",
       "<table border=\"1\" class=\"dataframe\">\n",
       "  <thead>\n",
       "    <tr style=\"text-align: right;\">\n",
       "      <th></th>\n",
       "      <th>School Name</th>\n",
       "      <th>Parent Response Rate</th>\n",
       "      <th>Teacher Response Rate</th>\n",
       "      <th>Student Response Rate</th>\n",
       "      <th>Total Safety and Respect Score</th>\n",
       "      <th>Total Communication Score</th>\n",
       "      <th>Total Engagement Score</th>\n",
       "      <th>Total Academic Expectations Score</th>\n",
       "      <th>School Type</th>\n",
       "    </tr>\n",
       "  </thead>\n",
       "  <tbody>\n",
       "  </tbody>\n",
       "</table>\n",
       "</div>"
      ],
      "text/plain": [
       "Empty DataFrame\n",
       "Columns: [School Name, Parent Response Rate, Teacher Response Rate, Student Response Rate, Total Safety and Respect Score, Total Communication Score, Total Engagement Score, Total Academic Expectations Score, School Type]\n",
       "Index: []"
      ]
     },
     "execution_count": 90,
     "metadata": {},
     "output_type": "execute_result"
    }
   ],
   "source": [
    "duplicated_rows = merged_df[merged_df.duplicated(subset=['School Name'], keep=False)]\n",
    "sorted_duplicated_rows = duplicated_rows.sort_values(by=['School Name'])\n",
    "sorted_duplicated_rows"
   ]
  },
  {
   "cell_type": "code",
   "execution_count": 91,
   "id": "2cb1fb56",
   "metadata": {},
   "outputs": [
    {
     "data": {
      "application/vnd.microsoft.datawrangler.viewer.v0+json": {
       "columns": [
        {
         "name": "index",
         "rawType": "int64",
         "type": "integer"
        },
        {
         "name": "School Name",
         "rawType": "object",
         "type": "string"
        },
        {
         "name": "Parent Response Rate",
         "rawType": "float64",
         "type": "float"
        },
        {
         "name": "Teacher Response Rate",
         "rawType": "float64",
         "type": "float"
        },
        {
         "name": "Student Response Rate",
         "rawType": "float64",
         "type": "float"
        },
        {
         "name": "Total Safety and Respect Score",
         "rawType": "float64",
         "type": "float"
        },
        {
         "name": "Total Communication Score",
         "rawType": "float64",
         "type": "float"
        },
        {
         "name": "Total Engagement Score",
         "rawType": "float64",
         "type": "float"
        },
        {
         "name": "Total Academic Expectations Score",
         "rawType": "float64",
         "type": "float"
        },
        {
         "name": "School Type",
         "rawType": "object",
         "type": "string"
        }
       ],
       "conversionMethod": "pd.DataFrame",
       "ref": "2c32da6f-06ff-4e5e-8bbf-60f37f21a180",
       "rows": [
        [
         "0",
         "47 The American Sign Language And English Secondar",
         "0.48",
         "0.71",
         "0.46",
         "8.0",
         "6.7",
         "7.4",
         "7.4",
         "High School"
        ],
        [
         "1",
         "A. Philip Randolph Campus High School",
         "0.09",
         "0.97",
         "0.71",
         "6.5",
         "6.3",
         "6.2",
         "6.8",
         "High School"
        ],
        [
         "2",
         "Abraham Lincoln High School",
         "0.12",
         "0.91",
         "0.76",
         "7.6",
         "7.0",
         "7.5",
         "7.8",
         "High School"
        ],
        [
         "3",
         "Abraham Lincoln Yabc",
         "0.17",
         "1.0",
         "0.28",
         "8.6",
         "7.9",
         "8.2",
         "8.3",
         "YABC"
        ],
        [
         "4",
         "Academic Leadership Charter School",
         "0.92",
         "1.0",
         null,
         "8.8",
         "8.5",
         "8.5",
         "8.9",
         "Early Childhood School"
        ],
        [
         "5",
         "Academy For Careers In Television And Film",
         "0.66",
         "1.0",
         "0.97",
         "8.3",
         "8.1",
         "8.3",
         "8.6",
         "High School"
        ],
        [
         "6",
         "Academy For College Preparation And Career Explora",
         "0.13",
         "0.9",
         "0.83",
         "6.4",
         "6.4",
         "6.5",
         "6.9",
         "Middle/High School"
        ],
        [
         "7",
         "Academy For Conservation And The Environment",
         "0.41",
         "1.0",
         "0.86",
         "6.8",
         "6.8",
         "6.8",
         "7.1",
         "High School"
        ],
        [
         "8",
         "Academy For Environmental Leadership",
         "0.47",
         "0.92",
         "0.92",
         "7.3",
         "6.7",
         "7.2",
         "7.6",
         "High School"
        ],
        [
         "9",
         "Academy For Health Careers",
         "0.28",
         "1.0",
         "0.86",
         "7.3",
         "6.8",
         "6.9",
         "7.5",
         "High School"
        ],
        [
         "10",
         "Academy For Language And Technology",
         "0.85",
         "0.96",
         "0.93",
         "8.0",
         "7.1",
         "7.5",
         "8.0",
         "High School"
        ],
        [
         "11",
         "Academy For New Americans",
         "0.99",
         "1.0",
         "0.95",
         "9.4",
         "8.6",
         "9.0",
         "9.2",
         "Middle School"
        ],
        [
         "12",
         "Academy For Personal Leadership And Excellence",
         "0.74",
         "0.88",
         "0.97",
         "7.8",
         "7.2",
         "7.2",
         "7.8",
         "Middle School"
        ],
        [
         "13",
         "Academy For Scholarship And Entrepreneurship: A Co",
         "0.33",
         "0.76",
         "0.8",
         "6.5",
         "6.0",
         "6.1",
         "6.6",
         "Middle/High School"
        ],
        [
         "14",
         "Academy For Social Action: A College Board School",
         "0.12",
         "0.67",
         "0.62",
         "5.5",
         "5.1",
         "5.3",
         "5.8",
         "Middle/High School"
        ],
        [
         "15",
         "Academy For Young Writers",
         "0.16",
         "0.96",
         "0.8",
         "7.5",
         "6.9",
         "7.3",
         "7.8",
         "High School"
        ],
        [
         "16",
         "Academy Of American Studies",
         "0.4",
         "0.9",
         "0.97",
         "7.7",
         "7.0",
         "7.3",
         "7.8",
         "High School"
        ],
        [
         "17",
         "Academy Of Applied Mathematics And Technology",
         "0.41",
         "1.0",
         "0.91",
         "8.8",
         "8.1",
         "8.5",
         "8.8",
         "Middle School"
        ],
        [
         "18",
         "Academy Of Business And Community Development",
         "0.32",
         "0.71",
         "0.83",
         "6.7",
         "5.8",
         "6.1",
         "6.3",
         "Middle/High School"
        ],
        [
         "19",
         "Academy Of Environmental Science Secondary High Sc",
         "0.74",
         "1.0",
         "0.71",
         "7.2",
         "6.8",
         "7.1",
         "7.3",
         "High School"
        ]
       ],
       "shape": {
        "columns": 9,
        "rows": 20
       }
      },
      "text/html": [
       "<div>\n",
       "<style scoped>\n",
       "    .dataframe tbody tr th:only-of-type {\n",
       "        vertical-align: middle;\n",
       "    }\n",
       "\n",
       "    .dataframe tbody tr th {\n",
       "        vertical-align: top;\n",
       "    }\n",
       "\n",
       "    .dataframe thead th {\n",
       "        text-align: right;\n",
       "    }\n",
       "</style>\n",
       "<table border=\"1\" class=\"dataframe\">\n",
       "  <thead>\n",
       "    <tr style=\"text-align: right;\">\n",
       "      <th></th>\n",
       "      <th>School Name</th>\n",
       "      <th>Parent Response Rate</th>\n",
       "      <th>Teacher Response Rate</th>\n",
       "      <th>Student Response Rate</th>\n",
       "      <th>Total Safety and Respect Score</th>\n",
       "      <th>Total Communication Score</th>\n",
       "      <th>Total Engagement Score</th>\n",
       "      <th>Total Academic Expectations Score</th>\n",
       "      <th>School Type</th>\n",
       "    </tr>\n",
       "  </thead>\n",
       "  <tbody>\n",
       "    <tr>\n",
       "      <th>0</th>\n",
       "      <td>47 The American Sign Language And English Seco...</td>\n",
       "      <td>0.48</td>\n",
       "      <td>0.71</td>\n",
       "      <td>0.46</td>\n",
       "      <td>8.0</td>\n",
       "      <td>6.7</td>\n",
       "      <td>7.4</td>\n",
       "      <td>7.4</td>\n",
       "      <td>High School</td>\n",
       "    </tr>\n",
       "    <tr>\n",
       "      <th>1</th>\n",
       "      <td>A. Philip Randolph Campus High School</td>\n",
       "      <td>0.09</td>\n",
       "      <td>0.97</td>\n",
       "      <td>0.71</td>\n",
       "      <td>6.5</td>\n",
       "      <td>6.3</td>\n",
       "      <td>6.2</td>\n",
       "      <td>6.8</td>\n",
       "      <td>High School</td>\n",
       "    </tr>\n",
       "    <tr>\n",
       "      <th>2</th>\n",
       "      <td>Abraham Lincoln High School</td>\n",
       "      <td>0.12</td>\n",
       "      <td>0.91</td>\n",
       "      <td>0.76</td>\n",
       "      <td>7.6</td>\n",
       "      <td>7.0</td>\n",
       "      <td>7.5</td>\n",
       "      <td>7.8</td>\n",
       "      <td>High School</td>\n",
       "    </tr>\n",
       "    <tr>\n",
       "      <th>3</th>\n",
       "      <td>Abraham Lincoln Yabc</td>\n",
       "      <td>0.17</td>\n",
       "      <td>1.00</td>\n",
       "      <td>0.28</td>\n",
       "      <td>8.6</td>\n",
       "      <td>7.9</td>\n",
       "      <td>8.2</td>\n",
       "      <td>8.3</td>\n",
       "      <td>YABC</td>\n",
       "    </tr>\n",
       "    <tr>\n",
       "      <th>4</th>\n",
       "      <td>Academic Leadership Charter School</td>\n",
       "      <td>0.92</td>\n",
       "      <td>1.00</td>\n",
       "      <td>NaN</td>\n",
       "      <td>8.8</td>\n",
       "      <td>8.5</td>\n",
       "      <td>8.5</td>\n",
       "      <td>8.9</td>\n",
       "      <td>Early Childhood School</td>\n",
       "    </tr>\n",
       "    <tr>\n",
       "      <th>5</th>\n",
       "      <td>Academy For Careers In Television And Film</td>\n",
       "      <td>0.66</td>\n",
       "      <td>1.00</td>\n",
       "      <td>0.97</td>\n",
       "      <td>8.3</td>\n",
       "      <td>8.1</td>\n",
       "      <td>8.3</td>\n",
       "      <td>8.6</td>\n",
       "      <td>High School</td>\n",
       "    </tr>\n",
       "    <tr>\n",
       "      <th>6</th>\n",
       "      <td>Academy For College Preparation And Career Exp...</td>\n",
       "      <td>0.13</td>\n",
       "      <td>0.90</td>\n",
       "      <td>0.83</td>\n",
       "      <td>6.4</td>\n",
       "      <td>6.4</td>\n",
       "      <td>6.5</td>\n",
       "      <td>6.9</td>\n",
       "      <td>Middle/High School</td>\n",
       "    </tr>\n",
       "    <tr>\n",
       "      <th>7</th>\n",
       "      <td>Academy For Conservation And The Environment</td>\n",
       "      <td>0.41</td>\n",
       "      <td>1.00</td>\n",
       "      <td>0.86</td>\n",
       "      <td>6.8</td>\n",
       "      <td>6.8</td>\n",
       "      <td>6.8</td>\n",
       "      <td>7.1</td>\n",
       "      <td>High School</td>\n",
       "    </tr>\n",
       "    <tr>\n",
       "      <th>8</th>\n",
       "      <td>Academy For Environmental Leadership</td>\n",
       "      <td>0.47</td>\n",
       "      <td>0.92</td>\n",
       "      <td>0.92</td>\n",
       "      <td>7.3</td>\n",
       "      <td>6.7</td>\n",
       "      <td>7.2</td>\n",
       "      <td>7.6</td>\n",
       "      <td>High School</td>\n",
       "    </tr>\n",
       "    <tr>\n",
       "      <th>9</th>\n",
       "      <td>Academy For Health Careers</td>\n",
       "      <td>0.28</td>\n",
       "      <td>1.00</td>\n",
       "      <td>0.86</td>\n",
       "      <td>7.3</td>\n",
       "      <td>6.8</td>\n",
       "      <td>6.9</td>\n",
       "      <td>7.5</td>\n",
       "      <td>High School</td>\n",
       "    </tr>\n",
       "    <tr>\n",
       "      <th>10</th>\n",
       "      <td>Academy For Language And Technology</td>\n",
       "      <td>0.85</td>\n",
       "      <td>0.96</td>\n",
       "      <td>0.93</td>\n",
       "      <td>8.0</td>\n",
       "      <td>7.1</td>\n",
       "      <td>7.5</td>\n",
       "      <td>8.0</td>\n",
       "      <td>High School</td>\n",
       "    </tr>\n",
       "    <tr>\n",
       "      <th>11</th>\n",
       "      <td>Academy For New Americans</td>\n",
       "      <td>0.99</td>\n",
       "      <td>1.00</td>\n",
       "      <td>0.95</td>\n",
       "      <td>9.4</td>\n",
       "      <td>8.6</td>\n",
       "      <td>9.0</td>\n",
       "      <td>9.2</td>\n",
       "      <td>Middle School</td>\n",
       "    </tr>\n",
       "    <tr>\n",
       "      <th>12</th>\n",
       "      <td>Academy For Personal Leadership And Excellence</td>\n",
       "      <td>0.74</td>\n",
       "      <td>0.88</td>\n",
       "      <td>0.97</td>\n",
       "      <td>7.8</td>\n",
       "      <td>7.2</td>\n",
       "      <td>7.2</td>\n",
       "      <td>7.8</td>\n",
       "      <td>Middle School</td>\n",
       "    </tr>\n",
       "    <tr>\n",
       "      <th>13</th>\n",
       "      <td>Academy For Scholarship And Entrepreneurship: ...</td>\n",
       "      <td>0.33</td>\n",
       "      <td>0.76</td>\n",
       "      <td>0.80</td>\n",
       "      <td>6.5</td>\n",
       "      <td>6.0</td>\n",
       "      <td>6.1</td>\n",
       "      <td>6.6</td>\n",
       "      <td>Middle/High School</td>\n",
       "    </tr>\n",
       "    <tr>\n",
       "      <th>14</th>\n",
       "      <td>Academy For Social Action: A College Board School</td>\n",
       "      <td>0.12</td>\n",
       "      <td>0.67</td>\n",
       "      <td>0.62</td>\n",
       "      <td>5.5</td>\n",
       "      <td>5.1</td>\n",
       "      <td>5.3</td>\n",
       "      <td>5.8</td>\n",
       "      <td>Middle/High School</td>\n",
       "    </tr>\n",
       "    <tr>\n",
       "      <th>15</th>\n",
       "      <td>Academy For Young Writers</td>\n",
       "      <td>0.16</td>\n",
       "      <td>0.96</td>\n",
       "      <td>0.80</td>\n",
       "      <td>7.5</td>\n",
       "      <td>6.9</td>\n",
       "      <td>7.3</td>\n",
       "      <td>7.8</td>\n",
       "      <td>High School</td>\n",
       "    </tr>\n",
       "    <tr>\n",
       "      <th>16</th>\n",
       "      <td>Academy Of American Studies</td>\n",
       "      <td>0.40</td>\n",
       "      <td>0.90</td>\n",
       "      <td>0.97</td>\n",
       "      <td>7.7</td>\n",
       "      <td>7.0</td>\n",
       "      <td>7.3</td>\n",
       "      <td>7.8</td>\n",
       "      <td>High School</td>\n",
       "    </tr>\n",
       "    <tr>\n",
       "      <th>17</th>\n",
       "      <td>Academy Of Applied Mathematics And Technology</td>\n",
       "      <td>0.41</td>\n",
       "      <td>1.00</td>\n",
       "      <td>0.91</td>\n",
       "      <td>8.8</td>\n",
       "      <td>8.1</td>\n",
       "      <td>8.5</td>\n",
       "      <td>8.8</td>\n",
       "      <td>Middle School</td>\n",
       "    </tr>\n",
       "    <tr>\n",
       "      <th>18</th>\n",
       "      <td>Academy Of Business And Community Development</td>\n",
       "      <td>0.32</td>\n",
       "      <td>0.71</td>\n",
       "      <td>0.83</td>\n",
       "      <td>6.7</td>\n",
       "      <td>5.8</td>\n",
       "      <td>6.1</td>\n",
       "      <td>6.3</td>\n",
       "      <td>Middle/High School</td>\n",
       "    </tr>\n",
       "    <tr>\n",
       "      <th>19</th>\n",
       "      <td>Academy Of Environmental Science Secondary Hig...</td>\n",
       "      <td>0.74</td>\n",
       "      <td>1.00</td>\n",
       "      <td>0.71</td>\n",
       "      <td>7.2</td>\n",
       "      <td>6.8</td>\n",
       "      <td>7.1</td>\n",
       "      <td>7.3</td>\n",
       "      <td>High School</td>\n",
       "    </tr>\n",
       "  </tbody>\n",
       "</table>\n",
       "</div>"
      ],
      "text/plain": [
       "                                          School Name  Parent Response Rate  \\\n",
       "0   47 The American Sign Language And English Seco...                  0.48   \n",
       "1               A. Philip Randolph Campus High School                  0.09   \n",
       "2                         Abraham Lincoln High School                  0.12   \n",
       "3                                Abraham Lincoln Yabc                  0.17   \n",
       "4                  Academic Leadership Charter School                  0.92   \n",
       "5          Academy For Careers In Television And Film                  0.66   \n",
       "6   Academy For College Preparation And Career Exp...                  0.13   \n",
       "7        Academy For Conservation And The Environment                  0.41   \n",
       "8                Academy For Environmental Leadership                  0.47   \n",
       "9                          Academy For Health Careers                  0.28   \n",
       "10                Academy For Language And Technology                  0.85   \n",
       "11                          Academy For New Americans                  0.99   \n",
       "12     Academy For Personal Leadership And Excellence                  0.74   \n",
       "13  Academy For Scholarship And Entrepreneurship: ...                  0.33   \n",
       "14  Academy For Social Action: A College Board School                  0.12   \n",
       "15                          Academy For Young Writers                  0.16   \n",
       "16                        Academy Of American Studies                  0.40   \n",
       "17      Academy Of Applied Mathematics And Technology                  0.41   \n",
       "18      Academy Of Business And Community Development                  0.32   \n",
       "19  Academy Of Environmental Science Secondary Hig...                  0.74   \n",
       "\n",
       "    Teacher Response Rate  Student Response Rate  \\\n",
       "0                    0.71                   0.46   \n",
       "1                    0.97                   0.71   \n",
       "2                    0.91                   0.76   \n",
       "3                    1.00                   0.28   \n",
       "4                    1.00                    NaN   \n",
       "5                    1.00                   0.97   \n",
       "6                    0.90                   0.83   \n",
       "7                    1.00                   0.86   \n",
       "8                    0.92                   0.92   \n",
       "9                    1.00                   0.86   \n",
       "10                   0.96                   0.93   \n",
       "11                   1.00                   0.95   \n",
       "12                   0.88                   0.97   \n",
       "13                   0.76                   0.80   \n",
       "14                   0.67                   0.62   \n",
       "15                   0.96                   0.80   \n",
       "16                   0.90                   0.97   \n",
       "17                   1.00                   0.91   \n",
       "18                   0.71                   0.83   \n",
       "19                   1.00                   0.71   \n",
       "\n",
       "    Total Safety and Respect Score  Total Communication Score  \\\n",
       "0                              8.0                        6.7   \n",
       "1                              6.5                        6.3   \n",
       "2                              7.6                        7.0   \n",
       "3                              8.6                        7.9   \n",
       "4                              8.8                        8.5   \n",
       "5                              8.3                        8.1   \n",
       "6                              6.4                        6.4   \n",
       "7                              6.8                        6.8   \n",
       "8                              7.3                        6.7   \n",
       "9                              7.3                        6.8   \n",
       "10                             8.0                        7.1   \n",
       "11                             9.4                        8.6   \n",
       "12                             7.8                        7.2   \n",
       "13                             6.5                        6.0   \n",
       "14                             5.5                        5.1   \n",
       "15                             7.5                        6.9   \n",
       "16                             7.7                        7.0   \n",
       "17                             8.8                        8.1   \n",
       "18                             6.7                        5.8   \n",
       "19                             7.2                        6.8   \n",
       "\n",
       "    Total Engagement Score  Total Academic Expectations Score  \\\n",
       "0                      7.4                                7.4   \n",
       "1                      6.2                                6.8   \n",
       "2                      7.5                                7.8   \n",
       "3                      8.2                                8.3   \n",
       "4                      8.5                                8.9   \n",
       "5                      8.3                                8.6   \n",
       "6                      6.5                                6.9   \n",
       "7                      6.8                                7.1   \n",
       "8                      7.2                                7.6   \n",
       "9                      6.9                                7.5   \n",
       "10                     7.5                                8.0   \n",
       "11                     9.0                                9.2   \n",
       "12                     7.2                                7.8   \n",
       "13                     6.1                                6.6   \n",
       "14                     5.3                                5.8   \n",
       "15                     7.3                                7.8   \n",
       "16                     7.3                                7.8   \n",
       "17                     8.5                                8.8   \n",
       "18                     6.1                                6.3   \n",
       "19                     7.1                                7.3   \n",
       "\n",
       "               School Type  \n",
       "0              High School  \n",
       "1              High School  \n",
       "2              High School  \n",
       "3                     YABC  \n",
       "4   Early Childhood School  \n",
       "5              High School  \n",
       "6       Middle/High School  \n",
       "7              High School  \n",
       "8              High School  \n",
       "9              High School  \n",
       "10             High School  \n",
       "11           Middle School  \n",
       "12           Middle School  \n",
       "13      Middle/High School  \n",
       "14      Middle/High School  \n",
       "15             High School  \n",
       "16             High School  \n",
       "17           Middle School  \n",
       "18      Middle/High School  \n",
       "19             High School  "
      ]
     },
     "execution_count": 91,
     "metadata": {},
     "output_type": "execute_result"
    }
   ],
   "source": [
    "merged_df.head(20)"
   ]
  },
  {
   "cell_type": "code",
   "execution_count": 92,
   "id": "8b80b0a4",
   "metadata": {},
   "outputs": [
    {
     "name": "stdout",
     "output_type": "stream",
     "text": [
      "عدد القيم المفقودة: 672\n",
      "النسبة المئوية للقيم المفقودة: 40.34%\n"
     ]
    }
   ],
   "source": [
    "missing_count = merged_df['Student Response Rate'].isna().sum()\n",
    "total_rows = len(merged_df)\n",
    "missing_percent = (missing_count / total_rows) * 100\n",
    "\n",
    "print(f\"عدد القيم المفقودة: {missing_count}\")\n",
    "print(f\"النسبة المئوية للقيم المفقودة: {missing_percent:.2f}%\")"
   ]
  },
  {
   "cell_type": "code",
   "execution_count": 93,
   "id": "23f7972c",
   "metadata": {},
   "outputs": [
    {
     "name": "stdout",
     "output_type": "stream",
     "text": [
      "عدد القيم المفقودة: 1\n",
      "النسبة المئوية للقيم المفقودة: 0.06%\n"
     ]
    }
   ],
   "source": [
    "missing_count = merged_df['Teacher Response Rate'].isna().sum()\n",
    "total_rows = len(merged_df)\n",
    "missing_percent = (missing_count / total_rows) * 100\n",
    "\n",
    "print(f\"عدد القيم المفقودة: {missing_count}\")\n",
    "print(f\"النسبة المئوية للقيم المفقودة: {missing_percent:.2f}%\")"
   ]
  },
  {
   "cell_type": "code",
   "execution_count": 94,
   "id": "d280ee58",
   "metadata": {},
   "outputs": [
    {
     "name": "stdout",
     "output_type": "stream",
     "text": [
      "عدد القيم المفقودة: 1\n",
      "النسبة المئوية للقيم المفقودة: 0.06%\n"
     ]
    }
   ],
   "source": [
    "missing_count = merged_df['Parent Response Rate'].isna().sum()\n",
    "total_rows = len(merged_df)\n",
    "missing_percent = (missing_count / total_rows) * 100\n",
    "\n",
    "print(f\"عدد القيم المفقودة: {missing_count}\")\n",
    "print(f\"النسبة المئوية للقيم المفقودة: {missing_percent:.2f}%\")"
   ]
  },
  {
   "cell_type": "markdown",
   "id": "fc5c9587",
   "metadata": {},
   "source": [
    "للتأكد هل سوف اقوم بحذف سطرين من الجدول ام سوف اقوم بحذف سطر واحد "
   ]
  },
  {
   "cell_type": "code",
   "execution_count": 95,
   "id": "38512074",
   "metadata": {},
   "outputs": [
    {
     "data": {
      "application/vnd.microsoft.datawrangler.viewer.v0+json": {
       "columns": [
        {
         "name": "index",
         "rawType": "int64",
         "type": "integer"
        },
        {
         "name": "School Name",
         "rawType": "object",
         "type": "string"
        },
        {
         "name": "Parent Response Rate",
         "rawType": "float64",
         "type": "float"
        },
        {
         "name": "Teacher Response Rate",
         "rawType": "float64",
         "type": "float"
        },
        {
         "name": "Student Response Rate",
         "rawType": "float64",
         "type": "float"
        },
        {
         "name": "Total Safety and Respect Score",
         "rawType": "float64",
         "type": "float"
        },
        {
         "name": "Total Communication Score",
         "rawType": "float64",
         "type": "float"
        },
        {
         "name": "Total Engagement Score",
         "rawType": "float64",
         "type": "float"
        },
        {
         "name": "Total Academic Expectations Score",
         "rawType": "float64",
         "type": "float"
        },
        {
         "name": "School Type",
         "rawType": "object",
         "type": "unknown"
        }
       ],
       "conversionMethod": "pd.DataFrame",
       "ref": "f2556abf-bb70-49db-9b78-d39291f4c117",
       "rows": [
        [
         "1665",
         "locationname",
         null,
         null,
         null,
         null,
         null,
         null,
         null,
         null
        ]
       ],
       "shape": {
        "columns": 9,
        "rows": 1
       }
      },
      "text/html": [
       "<div>\n",
       "<style scoped>\n",
       "    .dataframe tbody tr th:only-of-type {\n",
       "        vertical-align: middle;\n",
       "    }\n",
       "\n",
       "    .dataframe tbody tr th {\n",
       "        vertical-align: top;\n",
       "    }\n",
       "\n",
       "    .dataframe thead th {\n",
       "        text-align: right;\n",
       "    }\n",
       "</style>\n",
       "<table border=\"1\" class=\"dataframe\">\n",
       "  <thead>\n",
       "    <tr style=\"text-align: right;\">\n",
       "      <th></th>\n",
       "      <th>School Name</th>\n",
       "      <th>Parent Response Rate</th>\n",
       "      <th>Teacher Response Rate</th>\n",
       "      <th>Student Response Rate</th>\n",
       "      <th>Total Safety and Respect Score</th>\n",
       "      <th>Total Communication Score</th>\n",
       "      <th>Total Engagement Score</th>\n",
       "      <th>Total Academic Expectations Score</th>\n",
       "      <th>School Type</th>\n",
       "    </tr>\n",
       "  </thead>\n",
       "  <tbody>\n",
       "    <tr>\n",
       "      <th>1665</th>\n",
       "      <td>locationname</td>\n",
       "      <td>NaN</td>\n",
       "      <td>NaN</td>\n",
       "      <td>NaN</td>\n",
       "      <td>NaN</td>\n",
       "      <td>NaN</td>\n",
       "      <td>NaN</td>\n",
       "      <td>NaN</td>\n",
       "      <td>NaN</td>\n",
       "    </tr>\n",
       "  </tbody>\n",
       "</table>\n",
       "</div>"
      ],
      "text/plain": [
       "       School Name  Parent Response Rate  Teacher Response Rate  \\\n",
       "1665  locationname                   NaN                    NaN   \n",
       "\n",
       "      Student Response Rate  Total Safety and Respect Score  \\\n",
       "1665                    NaN                             NaN   \n",
       "\n",
       "      Total Communication Score  Total Engagement Score  \\\n",
       "1665                        NaN                     NaN   \n",
       "\n",
       "      Total Academic Expectations Score School Type  \n",
       "1665                                NaN         NaN  "
      ]
     },
     "execution_count": 95,
     "metadata": {},
     "output_type": "execute_result"
    }
   ],
   "source": [
    "merged_df[\n",
    "    merged_df['Parent Response Rate'].isna() | merged_df['Teacher Response Rate'].isna()\n",
    "]"
   ]
  },
  {
   "cell_type": "markdown",
   "id": "baf09151",
   "metadata": {},
   "source": [
    " بما أنه لدي سطر واحد يحتوى على قيم فارغة في كل الحقول فهذا يعني ان المدرسة لم تشارك اساسا في الاستبيان فليس له ضرورة في التحليل"
   ]
  },
  {
   "cell_type": "code",
   "execution_count": 96,
   "id": "18a62118",
   "metadata": {},
   "outputs": [],
   "source": [
    "merged_df = merged_df.dropna(subset=['Parent Response Rate', 'Teacher Response Rate'])"
   ]
  },
  {
   "cell_type": "markdown",
   "id": "e55afbb8",
   "metadata": {},
   "source": [
    "### مناقشة فكرة حذف الاسطر المكررة \n",
    "لدي العديد من الخيارات يجب ان افكر بها\n",
    "   - حذف الأسطر التي يكون فيها القيمة null \n",
    "   - الاحتفاظ بالقيم المفقودة كما هي (Null)\n",
    "   - التعويض ب 0\n",
    "   - التعويض بـ المتوسط/الوسيط\n",
    "\n",
    "خيار ان اقوم بحذف البيانات مستبعد ، وذلك لان حذف ٤٠ بالمية من البيانات خسارة في التحليل وضعف باتخاذ القرار، لانه فقط عمود واحد الذي يفقد للقيم وليس كل الاعمدة\n",
    "\n",
    "الاحتفاظ بها كما هي وذلك في حال كان العمود غير ضروري للتحليل، وذلك ايضا مستبعد لان عمود عدد الطلاب المشاركين يسبب ضياع في التحليل\n",
    "\n",
    "بقي لدي خيارين\n",
    "اما ملأها ب 0 او وضعها بمتوسط القيم\n",
    "\n",
    "\n"
   ]
  },
  {
   "cell_type": "code",
   "execution_count": 97,
   "id": "5d8b1ae8",
   "metadata": {},
   "outputs": [
    {
     "data": {
      "image/png": "[encoded data removed]",
      "text/plain": [
       "<Figure size 1000x600 with 1 Axes>"
      ]
     },
     "metadata": {},
     "output_type": "display_data"
    }
   ],
   "source": [
    "missing_by_type = df[df[\"Student Response Rate\"].isna()].groupby(\"School Type\").size()\n",
    "plt.figure(figsize=(10, 6))\n",
    "missing_by_type.sort_values().plot(kind='barh', color='skyblue')\n",
    "plt.title(\"Number of Missing Values in 'Student Response Rate' by School Type\")\n",
    "plt.xlabel(\"number of missing value\")\n",
    "plt.ylabel(\"School type\")\n",
    "plt.grid(axis='x', linestyle='--', alpha=0.7)\n",
    "plt.tight_layout()\n",
    "plt.show()"
   ]
  },
  {
   "cell_type": "code",
   "execution_count": 98,
   "id": "032a1b31",
   "metadata": {},
   "outputs": [
    {
     "data": {
      "text/plain": [
       "count    994.000000\n",
       "mean       0.845332\n",
       "std        0.161340\n",
       "min        0.000000\n",
       "25%        0.790000\n",
       "50%        0.900000\n",
       "75%        0.960000\n",
       "max        1.000000\n",
       "Name: Student Response Rate, dtype: float64"
      ]
     },
     "execution_count": 98,
     "metadata": {},
     "output_type": "execute_result"
    }
   ],
   "source": [
    "merged_df['Student Response Rate'].describe()"
   ]
  },
  {
   "cell_type": "code",
   "execution_count": 99,
   "id": "0bf2e62e",
   "metadata": {},
   "outputs": [],
   "source": [
    "# merged_df['Student Response Rate'] = merged_df['Student Response Rate'].fillna(0)"
   ]
  },
  {
   "cell_type": "code",
   "execution_count": 100,
   "id": "d95686af",
   "metadata": {},
   "outputs": [
    {
     "data": {
      "text/plain": [
       "Parent Response Rate     1665\n",
       "Teacher Response Rate    1665\n",
       "Student Response Rate     994\n",
       "dtype: int64"
      ]
     },
     "execution_count": 100,
     "metadata": {},
     "output_type": "execute_result"
    }
   ],
   "source": [
    "merged_df[['Parent Response Rate', 'Teacher Response Rate', 'Student Response Rate']].notna().sum()"
   ]
  },
  {
   "cell_type": "code",
   "execution_count": 101,
   "id": "b0074c93",
   "metadata": {},
   "outputs": [
    {
     "data": {
      "text/plain": [
       "(1665, 9)"
      ]
     },
     "execution_count": 101,
     "metadata": {},
     "output_type": "execute_result"
    }
   ],
   "source": [
    "merged_df.shape"
   ]
  },
  {
   "cell_type": "code",
   "execution_count": 102,
   "id": "de462920",
   "metadata": {},
   "outputs": [
    {
     "data": {
      "application/vnd.microsoft.datawrangler.viewer.v0+json": {
       "columns": [
        {
         "name": "index",
         "rawType": "int64",
         "type": "integer"
        },
        {
         "name": "School Name",
         "rawType": "object",
         "type": "string"
        },
        {
         "name": "Parent Response Rate",
         "rawType": "float64",
         "type": "float"
        },
        {
         "name": "Teacher Response Rate",
         "rawType": "float64",
         "type": "float"
        },
        {
         "name": "Student Response Rate",
         "rawType": "float64",
         "type": "float"
        },
        {
         "name": "Total Safety and Respect Score",
         "rawType": "float64",
         "type": "float"
        },
        {
         "name": "Total Communication Score",
         "rawType": "float64",
         "type": "float"
        },
        {
         "name": "Total Engagement Score",
         "rawType": "float64",
         "type": "float"
        },
        {
         "name": "Total Academic Expectations Score",
         "rawType": "float64",
         "type": "float"
        },
        {
         "name": "School Type",
         "rawType": "object",
         "type": "string"
        }
       ],
       "conversionMethod": "pd.DataFrame",
       "ref": "13d57b58-e2f6-4996-9924-b4d14e5adf66",
       "rows": [],
       "shape": {
        "columns": 9,
        "rows": 0
       }
      },
      "text/html": [
       "<div>\n",
       "<style scoped>\n",
       "    .dataframe tbody tr th:only-of-type {\n",
       "        vertical-align: middle;\n",
       "    }\n",
       "\n",
       "    .dataframe tbody tr th {\n",
       "        vertical-align: top;\n",
       "    }\n",
       "\n",
       "    .dataframe thead th {\n",
       "        text-align: right;\n",
       "    }\n",
       "</style>\n",
       "<table border=\"1\" class=\"dataframe\">\n",
       "  <thead>\n",
       "    <tr style=\"text-align: right;\">\n",
       "      <th></th>\n",
       "      <th>School Name</th>\n",
       "      <th>Parent Response Rate</th>\n",
       "      <th>Teacher Response Rate</th>\n",
       "      <th>Student Response Rate</th>\n",
       "      <th>Total Safety and Respect Score</th>\n",
       "      <th>Total Communication Score</th>\n",
       "      <th>Total Engagement Score</th>\n",
       "      <th>Total Academic Expectations Score</th>\n",
       "      <th>School Type</th>\n",
       "    </tr>\n",
       "  </thead>\n",
       "  <tbody>\n",
       "  </tbody>\n",
       "</table>\n",
       "</div>"
      ],
      "text/plain": [
       "Empty DataFrame\n",
       "Columns: [School Name, Parent Response Rate, Teacher Response Rate, Student Response Rate, Total Safety and Respect Score, Total Communication Score, Total Engagement Score, Total Academic Expectations Score, School Type]\n",
       "Index: []"
      ]
     },
     "execution_count": 102,
     "metadata": {},
     "output_type": "execute_result"
    }
   ],
   "source": [
    "merged_df[\n",
    "    merged_df['Parent Response Rate'].isna() | merged_df['Teacher Response Rate'].isna()\n",
    "]"
   ]
  },
  {
   "cell_type": "markdown",
   "id": "d2eeb31b",
   "metadata": {},
   "source": [
    "# Phase 2 : Deep analysis"
   ]
  },
  {
   "cell_type": "markdown",
   "id": "f77f3873",
   "metadata": {},
   "source": [
    " 1. تحليل استجابة المشاركين\n",
    "- نسب المشاركة حسب الفئات (أهل، طلاب، معلمين)\n",
    "- مقارنة نسب الاستجابة بين أنواع المدارس\n",
    "- المدارس التي تعاني من ضعف المشاركة"
   ]
  },
  {
   "cell_type": "code",
   "execution_count": 103,
   "id": "c82ae2d7",
   "metadata": {},
   "outputs": [
    {
     "name": "stdout",
     "output_type": "stream",
     "text": [
      " وصف إحصائي لنسب الاستجابة:\n",
      "\n"
     ]
    },
    {
     "data": {
      "application/vnd.microsoft.datawrangler.viewer.v0+json": {
       "columns": [
        {
         "name": "index",
         "rawType": "object",
         "type": "string"
        },
        {
         "name": "Parent Response Rate",
         "rawType": "float64",
         "type": "float"
        },
        {
         "name": "Teacher Response Rate",
         "rawType": "float64",
         "type": "float"
        },
        {
         "name": "Student Response Rate",
         "rawType": "float64",
         "type": "float"
        }
       ],
       "conversionMethod": "pd.DataFrame",
       "ref": "d072c8f7-c1bd-4dd5-a452-6b6376170c28",
       "rows": [
        [
         "count",
         "166500.0",
         "166500.0",
         "99400.0"
        ],
        [
         "mean",
         "56.00000000000001",
         "83.0",
         "85.0"
        ],
        [
         "std",
         "25.0",
         "17.0",
         "16.0"
        ],
        [
         "min",
         "1.0",
         "0.0",
         "0.0"
        ],
        [
         "25%",
         "37.0",
         "75.0",
         "79.0"
        ],
        [
         "50%",
         "56.99999999999999",
         "88.0",
         "90.0"
        ],
        [
         "75%",
         "76.0",
         "97.0",
         "96.0"
        ],
        [
         "max",
         "100.0",
         "100.0",
         "100.0"
        ]
       ],
       "shape": {
        "columns": 3,
        "rows": 8
       }
      },
      "text/html": [
       "<div>\n",
       "<style scoped>\n",
       "    .dataframe tbody tr th:only-of-type {\n",
       "        vertical-align: middle;\n",
       "    }\n",
       "\n",
       "    .dataframe tbody tr th {\n",
       "        vertical-align: top;\n",
       "    }\n",
       "\n",
       "    .dataframe thead th {\n",
       "        text-align: right;\n",
       "    }\n",
       "</style>\n",
       "<table border=\"1\" class=\"dataframe\">\n",
       "  <thead>\n",
       "    <tr style=\"text-align: right;\">\n",
       "      <th></th>\n",
       "      <th>Parent Response Rate</th>\n",
       "      <th>Teacher Response Rate</th>\n",
       "      <th>Student Response Rate</th>\n",
       "    </tr>\n",
       "  </thead>\n",
       "  <tbody>\n",
       "    <tr>\n",
       "      <th>count</th>\n",
       "      <td>166500.0</td>\n",
       "      <td>166500.0</td>\n",
       "      <td>99400.0</td>\n",
       "    </tr>\n",
       "    <tr>\n",
       "      <th>mean</th>\n",
       "      <td>56.0</td>\n",
       "      <td>83.0</td>\n",
       "      <td>85.0</td>\n",
       "    </tr>\n",
       "    <tr>\n",
       "      <th>std</th>\n",
       "      <td>25.0</td>\n",
       "      <td>17.0</td>\n",
       "      <td>16.0</td>\n",
       "    </tr>\n",
       "    <tr>\n",
       "      <th>min</th>\n",
       "      <td>1.0</td>\n",
       "      <td>0.0</td>\n",
       "      <td>0.0</td>\n",
       "    </tr>\n",
       "    <tr>\n",
       "      <th>25%</th>\n",
       "      <td>37.0</td>\n",
       "      <td>75.0</td>\n",
       "      <td>79.0</td>\n",
       "    </tr>\n",
       "    <tr>\n",
       "      <th>50%</th>\n",
       "      <td>57.0</td>\n",
       "      <td>88.0</td>\n",
       "      <td>90.0</td>\n",
       "    </tr>\n",
       "    <tr>\n",
       "      <th>75%</th>\n",
       "      <td>76.0</td>\n",
       "      <td>97.0</td>\n",
       "      <td>96.0</td>\n",
       "    </tr>\n",
       "    <tr>\n",
       "      <th>max</th>\n",
       "      <td>100.0</td>\n",
       "      <td>100.0</td>\n",
       "      <td>100.0</td>\n",
       "    </tr>\n",
       "  </tbody>\n",
       "</table>\n",
       "</div>"
      ],
      "text/plain": [
       "       Parent Response Rate  Teacher Response Rate  Student Response Rate\n",
       "count              166500.0               166500.0                99400.0\n",
       "mean                   56.0                   83.0                   85.0\n",
       "std                    25.0                   17.0                   16.0\n",
       "min                     1.0                    0.0                    0.0\n",
       "25%                    37.0                   75.0                   79.0\n",
       "50%                    57.0                   88.0                   90.0\n",
       "75%                    76.0                   97.0                   96.0\n",
       "max                   100.0                  100.0                  100.0"
      ]
     },
     "execution_count": 103,
     "metadata": {},
     "output_type": "execute_result"
    }
   ],
   "source": [
    "response_summary_clean = merged_df[[\n",
    "    'Parent Response Rate', \n",
    "    'Teacher Response Rate', \n",
    "    'Student Response Rate'\n",
    "]].describe().round(2) * 100\n",
    "\n",
    "print(\" وصف إحصائي لنسب الاستجابة:\\n\")\n",
    "response_summary_clean"
   ]
  },
  {
   "cell_type": "code",
   "execution_count": 104,
   "id": "bfe67477",
   "metadata": {},
   "outputs": [
    {
     "name": "stdout",
     "output_type": "stream",
     "text": [
      "\n",
      "متوسط نسب الاستجابة حسب نوع المدرسة:\n",
      "\n"
     ]
    },
    {
     "data": {
      "application/vnd.microsoft.datawrangler.viewer.v0+json": {
       "columns": [
        {
         "name": "School Type",
         "rawType": "object",
         "type": "string"
        },
        {
         "name": "Parent Response Rate",
         "rawType": "float64",
         "type": "float"
        },
        {
         "name": "Teacher Response Rate",
         "rawType": "float64",
         "type": "float"
        },
        {
         "name": "Student Response Rate",
         "rawType": "float64",
         "type": "float"
        }
       ],
       "conversionMethod": "pd.DataFrame",
       "ref": "e12125b2-425d-442b-898c-0dbb036969d1",
       "rows": [
        [
         "Elementary School",
         "68.0",
         "82.0",
         "95.0"
        ],
        [
         "Elementary/Middle School",
         "61.0",
         "82.0",
         "94.0"
        ],
        [
         "Elementary/Middle/High School",
         "55.00000000000001",
         "76.0",
         "92.0"
        ],
        [
         "Middle School",
         "59.0",
         "84.0",
         "91.0"
        ],
        [
         "Middle/High School",
         "40.0",
         "80.0",
         "84.0"
        ],
        [
         "High School",
         "35.0",
         "84.0",
         "77.0"
        ],
        [
         "Transfer High School",
         "36.0",
         "90.0",
         "68.0"
        ],
        [
         "YABC",
         "26.0",
         "81.0",
         "66.0"
        ],
        [
         "Early Childhood School",
         "76.0",
         "88.0",
         null
        ]
       ],
       "shape": {
        "columns": 3,
        "rows": 9
       }
      },
      "text/html": [
       "<div>\n",
       "<style scoped>\n",
       "    .dataframe tbody tr th:only-of-type {\n",
       "        vertical-align: middle;\n",
       "    }\n",
       "\n",
       "    .dataframe tbody tr th {\n",
       "        vertical-align: top;\n",
       "    }\n",
       "\n",
       "    .dataframe thead th {\n",
       "        text-align: right;\n",
       "    }\n",
       "</style>\n",
       "<table border=\"1\" class=\"dataframe\">\n",
       "  <thead>\n",
       "    <tr style=\"text-align: right;\">\n",
       "      <th></th>\n",
       "      <th>Parent Response Rate</th>\n",
       "      <th>Teacher Response Rate</th>\n",
       "      <th>Student Response Rate</th>\n",
       "    </tr>\n",
       "    <tr>\n",
       "      <th>School Type</th>\n",
       "      <th></th>\n",
       "      <th></th>\n",
       "      <th></th>\n",
       "    </tr>\n",
       "  </thead>\n",
       "  <tbody>\n",
       "    <tr>\n",
       "      <th>Elementary School</th>\n",
       "      <td>68.0</td>\n",
       "      <td>82.0</td>\n",
       "      <td>95.0</td>\n",
       "    </tr>\n",
       "    <tr>\n",
       "      <th>Elementary/Middle School</th>\n",
       "      <td>61.0</td>\n",
       "      <td>82.0</td>\n",
       "      <td>94.0</td>\n",
       "    </tr>\n",
       "    <tr>\n",
       "      <th>Elementary/Middle/High School</th>\n",
       "      <td>55.0</td>\n",
       "      <td>76.0</td>\n",
       "      <td>92.0</td>\n",
       "    </tr>\n",
       "    <tr>\n",
       "      <th>Middle School</th>\n",
       "      <td>59.0</td>\n",
       "      <td>84.0</td>\n",
       "      <td>91.0</td>\n",
       "    </tr>\n",
       "    <tr>\n",
       "      <th>Middle/High School</th>\n",
       "      <td>40.0</td>\n",
       "      <td>80.0</td>\n",
       "      <td>84.0</td>\n",
       "    </tr>\n",
       "    <tr>\n",
       "      <th>High School</th>\n",
       "      <td>35.0</td>\n",
       "      <td>84.0</td>\n",
       "      <td>77.0</td>\n",
       "    </tr>\n",
       "    <tr>\n",
       "      <th>Transfer High School</th>\n",
       "      <td>36.0</td>\n",
       "      <td>90.0</td>\n",
       "      <td>68.0</td>\n",
       "    </tr>\n",
       "    <tr>\n",
       "      <th>YABC</th>\n",
       "      <td>26.0</td>\n",
       "      <td>81.0</td>\n",
       "      <td>66.0</td>\n",
       "    </tr>\n",
       "    <tr>\n",
       "      <th>Early Childhood School</th>\n",
       "      <td>76.0</td>\n",
       "      <td>88.0</td>\n",
       "      <td>NaN</td>\n",
       "    </tr>\n",
       "  </tbody>\n",
       "</table>\n",
       "</div>"
      ],
      "text/plain": [
       "                               Parent Response Rate  Teacher Response Rate  \\\n",
       "School Type                                                                  \n",
       "Elementary School                              68.0                   82.0   \n",
       "Elementary/Middle School                       61.0                   82.0   \n",
       "Elementary/Middle/High School                  55.0                   76.0   \n",
       "Middle School                                  59.0                   84.0   \n",
       "Middle/High School                             40.0                   80.0   \n",
       "High School                                    35.0                   84.0   \n",
       "Transfer High School                           36.0                   90.0   \n",
       "YABC                                           26.0                   81.0   \n",
       "Early Childhood School                         76.0                   88.0   \n",
       "\n",
       "                               Student Response Rate  \n",
       "School Type                                           \n",
       "Elementary School                               95.0  \n",
       "Elementary/Middle School                        94.0  \n",
       "Elementary/Middle/High School                   92.0  \n",
       "Middle School                                   91.0  \n",
       "Middle/High School                              84.0  \n",
       "High School                                     77.0  \n",
       "Transfer High School                            68.0  \n",
       "YABC                                            66.0  \n",
       "Early Childhood School                           NaN  "
      ]
     },
     "execution_count": 104,
     "metadata": {},
     "output_type": "execute_result"
    }
   ],
   "source": [
    "response_by_school_type_clean = merged_df.groupby('School Type')[[\n",
    "    'Parent Response Rate', \n",
    "    'Teacher Response Rate', \n",
    "    'Student Response Rate'\n",
    "]].mean().round(2).sort_values(by='Student Response Rate', ascending=False) * 100\n",
    "\n",
    "print(\"\\nمتوسط نسب الاستجابة حسب نوع المدرسة:\\n\")\n",
    "response_by_school_type_clean"
   ]
  },
  {
   "cell_type": "markdown",
   "id": "7bc0fb0b",
   "metadata": {},
   "source": [
    "المدارس التي تعاني من ضعف استجابة اولياء الامور"
   ]
  },
  {
   "cell_type": "code",
   "execution_count": 105,
   "id": "135459e3",
   "metadata": {},
   "outputs": [
    {
     "name": "stdout",
     "output_type": "stream",
     "text": [
      "📉 المدارس التي تعاني من ضعف مشاركة أولياء الأمور:\n",
      "\n"
     ]
    },
    {
     "data": {
      "text/plain": [
       "300"
      ]
     },
     "execution_count": 105,
     "metadata": {},
     "output_type": "execute_result"
    }
   ],
   "source": [
    "low_threshold = 0.3\n",
    "low_parent_response = merged_df[\n",
    "    merged_df['Parent Response Rate'] < low_threshold\n",
    "][[\n",
    "    'School Name',\n",
    "    'School Type',\n",
    "    'Parent Response Rate'\n",
    "]]\n",
    "\n",
    "low_parent_response[\"Parent Response Rate (%)\"] = (low_parent_response[\"Parent Response Rate\"] * 100).round(1)\n",
    "\n",
    "low_parent_response = low_parent_response.drop(columns=[\"Parent Response Rate\"])\n",
    "\n",
    "low_parent_response = low_parent_response.sort_values(by=\"Parent Response Rate (%)\")\n",
    "\n",
    "# عرض النتائج\n",
    "print(\"📉 المدارس التي تعاني من ضعف مشاركة أولياء الأمور:\\n\")\n",
    "len(low_parent_response)"
   ]
  },
  {
   "cell_type": "code",
   "execution_count": 106,
   "id": "e1fca7d7",
   "metadata": {},
   "outputs": [
    {
     "name": "stdout",
     "output_type": "stream",
     "text": [
      "عدد المدارس التي تعاني من ضعف مشاركة أولياء الأمور: 300\n",
      "\n",
      " توزيع أنواع المدارس التي تعاني من ضعف مشاركة أولياء الأمور:\n",
      "\n"
     ]
    },
    {
     "data": {
      "text/plain": [
       "School Type\n",
       "High School                 174\n",
       "Middle School                32\n",
       "Transfer High School         25\n",
       "Middle/High School           25\n",
       "Elementary School            19\n",
       "YABC                         14\n",
       "Elementary/Middle School     10\n",
       "Early Childhood School        1\n",
       "Name: count, dtype: int64"
      ]
     },
     "execution_count": 106,
     "metadata": {},
     "output_type": "execute_result"
    }
   ],
   "source": [
    "low_threshold = 0.3\n",
    "low_parent_response = merged_df[\n",
    "    merged_df['Parent Response Rate'] < low_threshold\n",
    "][[\n",
    "    'School Name',\n",
    "    'School Type',\n",
    "    'Parent Response Rate'\n",
    "]]\n",
    "\n",
    "low_parent_response[\"Parent Response Rate (%)\"] = (low_parent_response[\"Parent Response Rate\"] * 100).round(1)\n",
    "\n",
    "low_parent_response = low_parent_response.drop(columns=[\"Parent Response Rate\"])\n",
    "\n",
    "low_parent_response = low_parent_response.sort_values(by=\"Parent Response Rate (%)\")\n",
    "print(\"عدد المدارس التي تعاني من ضعف مشاركة أولياء الأمور:\", len(low_parent_response))\n",
    "\n",
    "school_types_counts = low_parent_response[\"School Type\"].value_counts()\n",
    "print(\"\\n توزيع أنواع المدارس التي تعاني من ضعف مشاركة أولياء الأمور:\\n\")\n",
    "school_types_counts"
   ]
  },
  {
   "cell_type": "markdown",
   "id": "9bb020a8",
   "metadata": {},
   "source": [
    "المدارس التي تعاني من ضعف مشاركةالاساتذة"
   ]
  },
  {
   "cell_type": "code",
   "execution_count": 107,
   "id": "2e294e15",
   "metadata": {},
   "outputs": [
    {
     "data": {
      "text/plain": [
       "21"
      ]
     },
     "execution_count": 107,
     "metadata": {},
     "output_type": "execute_result"
    }
   ],
   "source": [
    "low_threshold = 0.3\n",
    "\n",
    "low_teacher_response = merged_df[\n",
    "    merged_df['Teacher Response Rate'] < low_threshold\n",
    "][[\n",
    "    'School Name',\n",
    "    'School Type',\n",
    "    'Teacher Response Rate'\n",
    "]]\n",
    "\n",
    "low_teacher_response[\"Teacher Response Rate (%)\"] = (low_teacher_response[\"Teacher Response Rate\"] * 100).round(1)\n",
    "low_teacher_response = low_teacher_response.drop(columns=[\"Teacher Response Rate\"])\n",
    "low_teacher_response = low_teacher_response.sort_values(by=\"Teacher Response Rate (%)\")\n",
    "\n",
    "len(low_teacher_response)"
   ]
  },
  {
   "cell_type": "code",
   "execution_count": 108,
   "id": "e6f4f90a",
   "metadata": {},
   "outputs": [
    {
     "name": "stdout",
     "output_type": "stream",
     "text": [
      "عدد المدارس التي تعاني من ضعف تواصل الأساتذة: 21\n",
      "\n",
      " أنواع المدارس التي تعاني من ضعف تواصل الأساتذة:\n",
      "\n"
     ]
    },
    {
     "data": {
      "text/plain": [
       "School Type\n",
       "Elementary School                7\n",
       "Middle School                    5\n",
       "High School                      4\n",
       "Elementary/Middle School         3\n",
       "Middle/High School               1\n",
       "Elementary/Middle/High School    1\n",
       "Name: count, dtype: int64"
      ]
     },
     "execution_count": 108,
     "metadata": {},
     "output_type": "execute_result"
    }
   ],
   "source": [
    "low_threshold = 0.3\n",
    "\n",
    "low_teacher_response = merged_df[\n",
    "    merged_df['Teacher Response Rate'] < low_threshold\n",
    "][[\n",
    "    'School Name',\n",
    "    'School Type',\n",
    "    'Teacher Response Rate'\n",
    "]]\n",
    "\n",
    "low_teacher_response[\"Teacher Response Rate (%)\"] = (low_teacher_response[\"Teacher Response Rate\"] * 100).round(1)\n",
    "\n",
    "low_teacher_response = low_teacher_response.drop(columns=[\"Teacher Response Rate\"])\n",
    "\n",
    "low_teacher_response = low_teacher_response.sort_values(by=\"Teacher Response Rate (%)\")\n",
    "\n",
    "\n",
    "print(\"عدد المدارس التي تعاني من ضعف تواصل الأساتذة:\", len(low_teacher_response))\n",
    "\n",
    "\n",
    "school_types_counts = low_teacher_response[\"School Type\"].value_counts()\n",
    "print(\"\\n أنواع المدارس التي تعاني من ضعف تواصل الأساتذة:\\n\")\n",
    "school_types_counts"
   ]
  },
  {
   "cell_type": "markdown",
   "id": "30ad87b5",
   "metadata": {},
   "source": [
    "المدارس التي تعاني من ضعف مشاركة الطلاب"
   ]
  },
  {
   "cell_type": "code",
   "execution_count": 109,
   "id": "7051dc4e",
   "metadata": {},
   "outputs": [
    {
     "data": {
      "text/plain": [
       "16"
      ]
     },
     "execution_count": 109,
     "metadata": {},
     "output_type": "execute_result"
    }
   ],
   "source": [
    "low_threshold = 0.3\n",
    "\n",
    "low_student_response = merged_df[\n",
    "    merged_df['Student Response Rate'] < low_threshold\n",
    "][[\n",
    "    'School Name',\n",
    "    'School Type',\n",
    "    'Student Response Rate'\n",
    "]]\n",
    "\n",
    "low_student_response[\"Student Response Rate (%)\"] = (low_student_response[\"Student Response Rate\"] * 100).round(1)\n",
    "low_student_response = low_student_response.drop(columns=[\"Student Response Rate\"])\n",
    "low_student_response = low_student_response.sort_values(by=\"Student Response Rate (%)\")\n",
    "\n",
    "len(low_student_response)"
   ]
  },
  {
   "cell_type": "markdown",
   "id": "eadea001",
   "metadata": {},
   "source": [
    "المدارس التي تعاني من ضعف عام في المشاركة من كل الاطراف"
   ]
  },
  {
   "cell_type": "code",
   "execution_count": 110,
   "id": "e4b7e7cf",
   "metadata": {},
   "outputs": [
    {
     "data": {
      "application/vnd.microsoft.datawrangler.viewer.v0+json": {
       "columns": [
        {
         "name": "index",
         "rawType": "int64",
         "type": "integer"
        },
        {
         "name": "School Name",
         "rawType": "object",
         "type": "string"
        },
        {
         "name": "School Type",
         "rawType": "object",
         "type": "string"
        },
        {
         "name": "Parent Response Rate",
         "rawType": "float64",
         "type": "float"
        },
        {
         "name": "Teacher Response Rate",
         "rawType": "float64",
         "type": "float"
        },
        {
         "name": "Student Response Rate",
         "rawType": "float64",
         "type": "float"
        }
       ],
       "conversionMethod": "pd.DataFrame",
       "ref": "9bab0797-3a36-41d6-a855-a083cf82b760",
       "rows": [
        [
         "0",
         "New Day Academy",
         "Middle/High School",
         "0.11",
         "0.0",
         "0.0"
        ],
        [
         "4",
         "August Martin High School",
         "High School",
         "0.17",
         "0.02",
         "0.13"
        ],
        [
         "10",
         "The Urban Assembly Institute For New Technologies",
         "Middle School",
         "0.01",
         "0.23",
         "0.27"
        ]
       ],
       "shape": {
        "columns": 5,
        "rows": 3
       }
      },
      "text/html": [
       "<div>\n",
       "<style scoped>\n",
       "    .dataframe tbody tr th:only-of-type {\n",
       "        vertical-align: middle;\n",
       "    }\n",
       "\n",
       "    .dataframe tbody tr th {\n",
       "        vertical-align: top;\n",
       "    }\n",
       "\n",
       "    .dataframe thead th {\n",
       "        text-align: right;\n",
       "    }\n",
       "</style>\n",
       "<table border=\"1\" class=\"dataframe\">\n",
       "  <thead>\n",
       "    <tr style=\"text-align: right;\">\n",
       "      <th></th>\n",
       "      <th>School Name</th>\n",
       "      <th>School Type</th>\n",
       "      <th>Parent Response Rate</th>\n",
       "      <th>Teacher Response Rate</th>\n",
       "      <th>Student Response Rate</th>\n",
       "    </tr>\n",
       "  </thead>\n",
       "  <tbody>\n",
       "    <tr>\n",
       "      <th>0</th>\n",
       "      <td>New Day Academy</td>\n",
       "      <td>Middle/High School</td>\n",
       "      <td>0.11</td>\n",
       "      <td>0.00</td>\n",
       "      <td>0.00</td>\n",
       "    </tr>\n",
       "    <tr>\n",
       "      <th>4</th>\n",
       "      <td>August Martin High School</td>\n",
       "      <td>High School</td>\n",
       "      <td>0.17</td>\n",
       "      <td>0.02</td>\n",
       "      <td>0.13</td>\n",
       "    </tr>\n",
       "    <tr>\n",
       "      <th>10</th>\n",
       "      <td>The Urban Assembly Institute For New Technologies</td>\n",
       "      <td>Middle School</td>\n",
       "      <td>0.01</td>\n",
       "      <td>0.23</td>\n",
       "      <td>0.27</td>\n",
       "    </tr>\n",
       "  </tbody>\n",
       "</table>\n",
       "</div>"
      ],
      "text/plain": [
       "                                          School Name         School Type  \\\n",
       "0                                     New Day Academy  Middle/High School   \n",
       "4                           August Martin High School         High School   \n",
       "10  The Urban Assembly Institute For New Technologies       Middle School   \n",
       "\n",
       "    Parent Response Rate  Teacher Response Rate  Student Response Rate  \n",
       "0                   0.11                   0.00                   0.00  \n",
       "4                   0.17                   0.02                   0.13  \n",
       "10                  0.01                   0.23                   0.27  "
      ]
     },
     "execution_count": 110,
     "metadata": {},
     "output_type": "execute_result"
    }
   ],
   "source": [
    "low_threshold = 0.3\n",
    "\n",
    "filtered = df[\n",
    "        (df['Parent Response Rate'] < low_threshold) &\n",
    "        (df['Teacher Response Rate'] < low_threshold) &\n",
    "        (df['Student Response Rate'] < low_threshold)\n",
    "    ][[\n",
    "        'School Name', 'School Type',\n",
    "        'Parent Response Rate',\n",
    "        'Teacher Response Rate',\n",
    "        'Student Response Rate'\n",
    "    ]].round(2).sort_values(by='Student Response Rate')\n",
    "filtered"
   ]
  },
  {
   "cell_type": "code",
   "execution_count": 111,
   "id": "26b2f90f",
   "metadata": {},
   "outputs": [
    {
     "name": "stdout",
     "output_type": "stream",
     "text": [
      "أنواع المدارس مرتبة حسب استجابة من الطلاب:\n",
      "\n"
     ]
    },
    {
     "data": {
      "application/vnd.microsoft.datawrangler.viewer.v0+json": {
       "columns": [
        {
         "name": "index",
         "rawType": "int64",
         "type": "integer"
        },
        {
         "name": "School Type",
         "rawType": "object",
         "type": "string"
        },
        {
         "name": "Student Response Rate (%)",
         "rawType": "float64",
         "type": "float"
        }
       ],
       "conversionMethod": "pd.DataFrame",
       "ref": "0192c96e-f127-42fc-b79e-f2a2a3ade279",
       "rows": [
        [
         "8",
         "YABC",
         "65.9"
        ],
        [
         "7",
         "Transfer High School",
         "68.1"
        ],
        [
         "4",
         "High School",
         "77.5"
        ],
        [
         "6",
         "Middle/High School",
         "84.0"
        ],
        [
         "5",
         "Middle School",
         "91.2"
        ],
        [
         "3",
         "Elementary/Middle/High School",
         "91.6"
        ],
        [
         "2",
         "Elementary/Middle School",
         "93.8"
        ],
        [
         "1",
         "Elementary School",
         "94.6"
        ],
        [
         "0",
         "Early Childhood School",
         null
        ]
       ],
       "shape": {
        "columns": 2,
        "rows": 9
       }
      },
      "text/html": [
       "<div>\n",
       "<style scoped>\n",
       "    .dataframe tbody tr th:only-of-type {\n",
       "        vertical-align: middle;\n",
       "    }\n",
       "\n",
       "    .dataframe tbody tr th {\n",
       "        vertical-align: top;\n",
       "    }\n",
       "\n",
       "    .dataframe thead th {\n",
       "        text-align: right;\n",
       "    }\n",
       "</style>\n",
       "<table border=\"1\" class=\"dataframe\">\n",
       "  <thead>\n",
       "    <tr style=\"text-align: right;\">\n",
       "      <th></th>\n",
       "      <th>School Type</th>\n",
       "      <th>Student Response Rate (%)</th>\n",
       "    </tr>\n",
       "  </thead>\n",
       "  <tbody>\n",
       "    <tr>\n",
       "      <th>8</th>\n",
       "      <td>YABC</td>\n",
       "      <td>65.9</td>\n",
       "    </tr>\n",
       "    <tr>\n",
       "      <th>7</th>\n",
       "      <td>Transfer High School</td>\n",
       "      <td>68.1</td>\n",
       "    </tr>\n",
       "    <tr>\n",
       "      <th>4</th>\n",
       "      <td>High School</td>\n",
       "      <td>77.5</td>\n",
       "    </tr>\n",
       "    <tr>\n",
       "      <th>6</th>\n",
       "      <td>Middle/High School</td>\n",
       "      <td>84.0</td>\n",
       "    </tr>\n",
       "    <tr>\n",
       "      <th>5</th>\n",
       "      <td>Middle School</td>\n",
       "      <td>91.2</td>\n",
       "    </tr>\n",
       "    <tr>\n",
       "      <th>3</th>\n",
       "      <td>Elementary/Middle/High School</td>\n",
       "      <td>91.6</td>\n",
       "    </tr>\n",
       "    <tr>\n",
       "      <th>2</th>\n",
       "      <td>Elementary/Middle School</td>\n",
       "      <td>93.8</td>\n",
       "    </tr>\n",
       "    <tr>\n",
       "      <th>1</th>\n",
       "      <td>Elementary School</td>\n",
       "      <td>94.6</td>\n",
       "    </tr>\n",
       "    <tr>\n",
       "      <th>0</th>\n",
       "      <td>Early Childhood School</td>\n",
       "      <td>NaN</td>\n",
       "    </tr>\n",
       "  </tbody>\n",
       "</table>\n",
       "</div>"
      ],
      "text/plain": [
       "                     School Type  Student Response Rate (%)\n",
       "8                           YABC                       65.9\n",
       "7           Transfer High School                       68.1\n",
       "4                    High School                       77.5\n",
       "6             Middle/High School                       84.0\n",
       "5                  Middle School                       91.2\n",
       "3  Elementary/Middle/High School                       91.6\n",
       "2       Elementary/Middle School                       93.8\n",
       "1              Elementary School                       94.6\n",
       "0         Early Childhood School                        NaN"
      ]
     },
     "execution_count": 111,
     "metadata": {},
     "output_type": "execute_result"
    }
   ],
   "source": [
    "low_student_by_type = df.groupby(\"School Type\")[\"Student Response Rate\"].mean().reset_index()\n",
    "\n",
    "low_student_by_type[\"Student Response Rate (%)\"] = (low_student_by_type[\"Student Response Rate\"] * 100).round(1)\n",
    "low_student_by_type = low_student_by_type.drop(columns=[\"Student Response Rate\"])\n",
    "low_student_by_type = low_student_by_type.sort_values(by=\"Student Response Rate (%)\")\n",
    "\n",
    "print(\"أنواع المدارس مرتبة حسب استجابة من الطلاب:\\n\")\n",
    "low_student_by_type"
   ]
  },
  {
   "cell_type": "markdown",
   "id": "29a2183d",
   "metadata": {},
   "source": [
    " 2. تحليل جودة الأداء حسب محاور التقييم\n",
    "- توزيع كل محور من محاور التقييم الأربعة (Safety, Communication, Engagement, Academic)\n",
    "- اكتشاف المدارس ذات الأداء المنخفض جدًا أو المرتفع جدًا"
   ]
  },
  {
   "cell_type": "code",
   "execution_count": 112,
   "id": "31ec08f3",
   "metadata": {},
   "outputs": [
    {
     "name": "stdout",
     "output_type": "stream",
     "text": [
      " توزيع مؤشرات التقييم:\n",
      "\n"
     ]
    },
    {
     "data": {
      "application/vnd.microsoft.datawrangler.viewer.v0+json": {
       "columns": [
        {
         "name": "index",
         "rawType": "object",
         "type": "string"
        },
        {
         "name": "Total Safety and Respect Score",
         "rawType": "float64",
         "type": "float"
        },
        {
         "name": "Total Communication Score",
         "rawType": "float64",
         "type": "float"
        },
        {
         "name": "Total Engagement Score",
         "rawType": "float64",
         "type": "float"
        },
        {
         "name": "Total Academic Expectations Score",
         "rawType": "float64",
         "type": "float"
        }
       ],
       "conversionMethod": "pd.DataFrame",
       "ref": "0c8cc535-665f-4e89-bdeb-fc0b3da17849",
       "rows": [
        [
         "count",
         "1665.0",
         "1665.0",
         "1665.0",
         "1665.0"
        ],
        [
         "mean",
         "7.85",
         "7.3",
         "7.58",
         "7.88"
        ],
        [
         "std",
         "0.75",
         "0.7",
         "0.66",
         "0.62"
        ],
        [
         "min",
         "4.7",
         "4.7",
         "4.8",
         "5.3"
        ],
        [
         "25%",
         "7.3",
         "6.8",
         "7.1",
         "7.5"
        ],
        [
         "50%",
         "7.9",
         "7.3",
         "7.6",
         "7.9"
        ],
        [
         "75%",
         "8.4",
         "7.8",
         "8.0",
         "8.3"
        ],
        [
         "max",
         "9.6",
         "9.2",
         "9.3",
         "9.5"
        ]
       ],
       "shape": {
        "columns": 4,
        "rows": 8
       }
      },
      "text/html": [
       "<div>\n",
       "<style scoped>\n",
       "    .dataframe tbody tr th:only-of-type {\n",
       "        vertical-align: middle;\n",
       "    }\n",
       "\n",
       "    .dataframe tbody tr th {\n",
       "        vertical-align: top;\n",
       "    }\n",
       "\n",
       "    .dataframe thead th {\n",
       "        text-align: right;\n",
       "    }\n",
       "</style>\n",
       "<table border=\"1\" class=\"dataframe\">\n",
       "  <thead>\n",
       "    <tr style=\"text-align: right;\">\n",
       "      <th></th>\n",
       "      <th>Total Safety and Respect Score</th>\n",
       "      <th>Total Communication Score</th>\n",
       "      <th>Total Engagement Score</th>\n",
       "      <th>Total Academic Expectations Score</th>\n",
       "    </tr>\n",
       "  </thead>\n",
       "  <tbody>\n",
       "    <tr>\n",
       "      <th>count</th>\n",
       "      <td>1665.00</td>\n",
       "      <td>1665.0</td>\n",
       "      <td>1665.00</td>\n",
       "      <td>1665.00</td>\n",
       "    </tr>\n",
       "    <tr>\n",
       "      <th>mean</th>\n",
       "      <td>7.85</td>\n",
       "      <td>7.3</td>\n",
       "      <td>7.58</td>\n",
       "      <td>7.88</td>\n",
       "    </tr>\n",
       "    <tr>\n",
       "      <th>std</th>\n",
       "      <td>0.75</td>\n",
       "      <td>0.7</td>\n",
       "      <td>0.66</td>\n",
       "      <td>0.62</td>\n",
       "    </tr>\n",
       "    <tr>\n",
       "      <th>min</th>\n",
       "      <td>4.70</td>\n",
       "      <td>4.7</td>\n",
       "      <td>4.80</td>\n",
       "      <td>5.30</td>\n",
       "    </tr>\n",
       "    <tr>\n",
       "      <th>25%</th>\n",
       "      <td>7.30</td>\n",
       "      <td>6.8</td>\n",
       "      <td>7.10</td>\n",
       "      <td>7.50</td>\n",
       "    </tr>\n",
       "    <tr>\n",
       "      <th>50%</th>\n",
       "      <td>7.90</td>\n",
       "      <td>7.3</td>\n",
       "      <td>7.60</td>\n",
       "      <td>7.90</td>\n",
       "    </tr>\n",
       "    <tr>\n",
       "      <th>75%</th>\n",
       "      <td>8.40</td>\n",
       "      <td>7.8</td>\n",
       "      <td>8.00</td>\n",
       "      <td>8.30</td>\n",
       "    </tr>\n",
       "    <tr>\n",
       "      <th>max</th>\n",
       "      <td>9.60</td>\n",
       "      <td>9.2</td>\n",
       "      <td>9.30</td>\n",
       "      <td>9.50</td>\n",
       "    </tr>\n",
       "  </tbody>\n",
       "</table>\n",
       "</div>"
      ],
      "text/plain": [
       "       Total Safety and Respect Score  Total Communication Score  \\\n",
       "count                         1665.00                     1665.0   \n",
       "mean                             7.85                        7.3   \n",
       "std                              0.75                        0.7   \n",
       "min                              4.70                        4.7   \n",
       "25%                              7.30                        6.8   \n",
       "50%                              7.90                        7.3   \n",
       "75%                              8.40                        7.8   \n",
       "max                              9.60                        9.2   \n",
       "\n",
       "       Total Engagement Score  Total Academic Expectations Score  \n",
       "count                 1665.00                            1665.00  \n",
       "mean                     7.58                               7.88  \n",
       "std                      0.66                               0.62  \n",
       "min                      4.80                               5.30  \n",
       "25%                      7.10                               7.50  \n",
       "50%                      7.60                               7.90  \n",
       "75%                      8.00                               8.30  \n",
       "max                      9.30                               9.50  "
      ]
     },
     "execution_count": 112,
     "metadata": {},
     "output_type": "execute_result"
    }
   ],
   "source": [
    "score_columns = [\n",
    "    'Total Safety and Respect Score',\n",
    "    'Total Communication Score',\n",
    "    'Total Engagement Score',\n",
    "    'Total Academic Expectations Score'\n",
    "]\n",
    "\n",
    "# إحصائيات وصفية لكل محور تقييم\n",
    "score_distribution = merged_df[score_columns].describe().round(2)\n",
    "\n",
    "print(\" توزيع مؤشرات التقييم:\\n\")\n",
    "score_distribution"
   ]
  },
  {
   "cell_type": "code",
   "execution_count": 113,
   "id": "9d8a2034",
   "metadata": {},
   "outputs": [
    {
     "name": "stdout",
     "output_type": "stream",
     "text": [
      "\n",
      " المدارس في أعلى 5% لـ Total Academic Expectations Score:\n",
      "\n"
     ]
    },
    {
     "data": {
      "application/vnd.microsoft.datawrangler.viewer.v0+json": {
       "columns": [
        {
         "name": "index",
         "rawType": "int64",
         "type": "integer"
        },
        {
         "name": "School Name",
         "rawType": "object",
         "type": "string"
        },
        {
         "name": "School Type",
         "rawType": "object",
         "type": "string"
        },
        {
         "name": "Total Academic Expectations Score",
         "rawType": "float64",
         "type": "float"
        }
       ],
       "conversionMethod": "pd.DataFrame",
       "ref": "17fd2305-229c-4fca-a94d-3923e89196e7",
       "rows": [
        [
         "1527",
         "Teachers College Community School",
         "Early Childhood School",
         "9.5"
        ],
        [
         "1227",
         "P.S. 209",
         "Early Childhood School",
         "9.4"
        ],
        [
         "1468",
         "Riverton Street Charter School",
         "Elementary School",
         "9.3"
        ],
        [
         "1333",
         "P.S. 326",
         "Early Childhood School",
         "9.3"
        ],
        [
         "747",
         "P.S. 005 Huguenot",
         "Elementary School",
         "9.3"
        ],
        [
         "1533",
         "The Academy For Excellence Through The Arts",
         "Early Childhood School",
         "9.3"
        ],
        [
         "1434",
         "Ps 354",
         "Early Childhood School",
         "9.3"
        ],
        [
         "1608",
         "Urban Academy Laboratory High School",
         "Transfer High School",
         "9.3"
        ],
        [
         "588",
         "Leadership Preparatory Ocean Hill Charter School",
         "Early Childhood School",
         "9.2"
        ],
        [
         "813",
         "P.S. 029 Bardwell",
         "Elementary School",
         "9.2"
        ],
        [
         "11",
         "Academy For New Americans",
         "Middle School",
         "9.2"
        ],
        [
         "938",
         "P.S. 078",
         "Elementary School",
         "9.2"
        ],
        [
         "1660",
         "Young Scholars' Academy For Discovery And Explorat",
         "Elementary School",
         "9.2"
        ],
        [
         "1144",
         "P.S. 170",
         "Early Childhood School",
         "9.2"
        ],
        [
         "1372",
         "P.S. 8 Shirlee Solomon",
         "Elementary School",
         "9.2"
        ],
        [
         "1275",
         "P.S. 249 The Caton",
         "Early Childhood School",
         "9.2"
        ],
        [
         "1280",
         "P.S. 254",
         "Elementary School",
         "9.2"
        ],
        [
         "1284",
         "P.S. 257 John F. Hylan",
         "Elementary School",
         "9.2"
        ],
        [
         "1289",
         "P.S. 267",
         "Early Childhood School",
         "9.2"
        ],
        [
         "1330",
         "P.S. 319",
         "Early Childhood School",
         "9.2"
        ],
        [
         "1365",
         "P.S. 65 The Academy Of Innovative Learning",
         "Elementary School",
         "9.2"
        ],
        [
         "587",
         "Leadership Preparatory Brownsville Charter School",
         "Early Childhood School",
         "9.2"
        ],
        [
         "1353",
         "P.S. 380 John Wayne Elementary",
         "Elementary School",
         "9.2"
        ],
        [
         "1650",
         "Williamsburg Collegiate Charter School",
         "Middle School",
         "9.2"
        ],
        [
         "470",
         "Icahn Charter School 4",
         "Elementary School",
         "9.2"
        ],
        [
         "39",
         "All City Leadership Secondary School",
         "Middle/High School",
         "9.2"
        ],
        [
         "1633",
         "Voyages Preparatory",
         "Transfer High School",
         "9.2"
        ],
        [
         "129",
         "Bronx Success Academy Charter School 2",
         "Early Childhood School",
         "9.2"
        ],
        [
         "326",
         "Grant Avenue Elementary School",
         "Early Childhood School",
         "9.2"
        ],
        [
         "1023",
         "P.S. 113 Isaac Chauncey",
         "Elementary/Middle School",
         "9.1"
        ],
        [
         "261",
         "Excellence Girls Charter School",
         "Early Childhood School",
         "9.1"
        ],
        [
         "553",
         "John Adams Yabc",
         "YABC",
         "9.1"
        ],
        [
         "952",
         "P.S. 086 Kingsbridge Heights",
         "Elementary School",
         "9.1"
        ],
        [
         "471",
         "Icahn Charter School 5",
         "Early Childhood School",
         "9.1"
        ],
        [
         "1142",
         "P.S. 169 Bay Terrace",
         "Elementary School",
         "9.1"
        ],
        [
         "201",
         "Community Roots Charter School",
         "Elementary School",
         "9.1"
        ],
        [
         "315",
         "Girls Preparatory Charter School Of The Bronx",
         "Early Childhood School",
         "9.1"
        ],
        [
         "144",
         "Brooklyn East Collegiate Charter School",
         "Middle School",
         "9.1"
        ],
        [
         "1312",
         "P.S. 291",
         "Elementary School",
         "9.1"
        ],
        [
         "915",
         "P.S. 065",
         "Elementary School",
         "9.1"
        ],
        [
         "252",
         "Emma Lazarus High School",
         "Transfer High School",
         "9.1"
        ],
        [
         "723",
         "Ocean Hill Collegiate Charter School",
         "Middle School",
         "9.1"
        ],
        [
         "468",
         "Icahn Charter School 2",
         "Elementary School",
         "9.1"
        ],
        [
         "832",
         "P.S. 034 Oliver H. Perry",
         "Elementary School",
         "9.1"
        ],
        [
         "1359",
         "P.S. 452",
         "Early Childhood School",
         "9.1"
        ],
        [
         "712",
         "New York Center For Autism Charter School",
         "Elementary School",
         "9.1"
        ],
        [
         "759",
         "P.S. 009 Sarah Anderson",
         "Elementary School",
         "9.1"
        ],
        [
         "128",
         "Bronx Success Academy Charter School 1",
         "Early Childhood School",
         "9.0"
        ],
        [
         "1391",
         "P.S. X307 - Eames Place",
         "Elementary School",
         "9.0"
        ],
        [
         "159",
         "Brooklyn School Of Inquiry",
         "Early Childhood School",
         "9.0"
        ]
       ],
       "shape": {
        "columns": 3,
        "rows": 93
       }
      },
      "text/html": [
       "<div>\n",
       "<style scoped>\n",
       "    .dataframe tbody tr th:only-of-type {\n",
       "        vertical-align: middle;\n",
       "    }\n",
       "\n",
       "    .dataframe tbody tr th {\n",
       "        vertical-align: top;\n",
       "    }\n",
       "\n",
       "    .dataframe thead th {\n",
       "        text-align: right;\n",
       "    }\n",
       "</style>\n",
       "<table border=\"1\" class=\"dataframe\">\n",
       "  <thead>\n",
       "    <tr style=\"text-align: right;\">\n",
       "      <th></th>\n",
       "      <th>School Name</th>\n",
       "      <th>School Type</th>\n",
       "      <th>Total Academic Expectations Score</th>\n",
       "    </tr>\n",
       "  </thead>\n",
       "  <tbody>\n",
       "    <tr>\n",
       "      <th>1527</th>\n",
       "      <td>Teachers College Community School</td>\n",
       "      <td>Early Childhood School</td>\n",
       "      <td>9.5</td>\n",
       "    </tr>\n",
       "    <tr>\n",
       "      <th>1227</th>\n",
       "      <td>P.S. 209</td>\n",
       "      <td>Early Childhood School</td>\n",
       "      <td>9.4</td>\n",
       "    </tr>\n",
       "    <tr>\n",
       "      <th>1468</th>\n",
       "      <td>Riverton Street Charter School</td>\n",
       "      <td>Elementary School</td>\n",
       "      <td>9.3</td>\n",
       "    </tr>\n",
       "    <tr>\n",
       "      <th>1333</th>\n",
       "      <td>P.S. 326</td>\n",
       "      <td>Early Childhood School</td>\n",
       "      <td>9.3</td>\n",
       "    </tr>\n",
       "    <tr>\n",
       "      <th>747</th>\n",
       "      <td>P.S. 005 Huguenot</td>\n",
       "      <td>Elementary School</td>\n",
       "      <td>9.3</td>\n",
       "    </tr>\n",
       "    <tr>\n",
       "      <th>...</th>\n",
       "      <td>...</td>\n",
       "      <td>...</td>\n",
       "      <td>...</td>\n",
       "    </tr>\n",
       "    <tr>\n",
       "      <th>1053</th>\n",
       "      <td>P.S. 128 The Lorraine Tuzzo, Juniper Valley El...</td>\n",
       "      <td>Elementary/Middle School</td>\n",
       "      <td>8.9</td>\n",
       "    </tr>\n",
       "    <tr>\n",
       "      <th>1230</th>\n",
       "      <td>P.S. 21 Margaret Emery-Elm Park</td>\n",
       "      <td>Elementary School</td>\n",
       "      <td>8.9</td>\n",
       "    </tr>\n",
       "    <tr>\n",
       "      <th>1247</th>\n",
       "      <td>P.S. 221 The North Hills School</td>\n",
       "      <td>Elementary School</td>\n",
       "      <td>8.9</td>\n",
       "    </tr>\n",
       "    <tr>\n",
       "      <th>1272</th>\n",
       "      <td>P.S. 245</td>\n",
       "      <td>Elementary School</td>\n",
       "      <td>8.9</td>\n",
       "    </tr>\n",
       "    <tr>\n",
       "      <th>935</th>\n",
       "      <td>P.S. 076 A. Philip Randolph</td>\n",
       "      <td>Elementary/Middle School</td>\n",
       "      <td>8.9</td>\n",
       "    </tr>\n",
       "  </tbody>\n",
       "</table>\n",
       "<p>93 rows × 3 columns</p>\n",
       "</div>"
      ],
      "text/plain": [
       "                                            School Name  \\\n",
       "1527                  Teachers College Community School   \n",
       "1227                                           P.S. 209   \n",
       "1468                     Riverton Street Charter School   \n",
       "1333                                           P.S. 326   \n",
       "747                                   P.S. 005 Huguenot   \n",
       "...                                                 ...   \n",
       "1053  P.S. 128 The Lorraine Tuzzo, Juniper Valley El...   \n",
       "1230                    P.S. 21 Margaret Emery-Elm Park   \n",
       "1247                    P.S. 221 The North Hills School   \n",
       "1272                                           P.S. 245   \n",
       "935                         P.S. 076 A. Philip Randolph   \n",
       "\n",
       "                   School Type  Total Academic Expectations Score  \n",
       "1527    Early Childhood School                                9.5  \n",
       "1227    Early Childhood School                                9.4  \n",
       "1468         Elementary School                                9.3  \n",
       "1333    Early Childhood School                                9.3  \n",
       "747          Elementary School                                9.3  \n",
       "...                        ...                                ...  \n",
       "1053  Elementary/Middle School                                8.9  \n",
       "1230         Elementary School                                8.9  \n",
       "1247         Elementary School                                8.9  \n",
       "1272         Elementary School                                8.9  \n",
       "935   Elementary/Middle School                                8.9  \n",
       "\n",
       "[93 rows x 3 columns]"
      ]
     },
     "execution_count": 113,
     "metadata": {},
     "output_type": "execute_result"
    }
   ],
   "source": [
    "high_percentile = 0.95\n",
    "\n",
    "for col in score_columns:\n",
    "    high_thresh = merged_df[col].quantile(high_percentile)\n",
    "    top_schools = merged_df[merged_df[col] >= high_thresh][[\n",
    "        'School Name', 'School Type', col\n",
    "    ]].sort_values(by=col, ascending=False).round(2)\n",
    "print(f\"\\n المدارس في أعلى 5% لـ {col}:\\n\")\n",
    "top_schools"
   ]
  },
  {
   "cell_type": "code",
   "execution_count": 114,
   "id": "ceb15437",
   "metadata": {},
   "outputs": [
    {
     "name": "stdout",
     "output_type": "stream",
     "text": [
      "\n",
      " المدارس في أدنى 5% لـ Total Academic Expectations Score:\n",
      "\n"
     ]
    },
    {
     "data": {
      "application/vnd.microsoft.datawrangler.viewer.v0+json": {
       "columns": [
        {
         "name": "index",
         "rawType": "int64",
         "type": "integer"
        },
        {
         "name": "School Name",
         "rawType": "object",
         "type": "string"
        },
        {
         "name": "School Type",
         "rawType": "object",
         "type": "string"
        },
        {
         "name": "Total Academic Expectations Score",
         "rawType": "float64",
         "type": "float"
        }
       ],
       "conversionMethod": "pd.DataFrame",
       "ref": "8f42f126-77ee-4397-8805-d8e23a115e21",
       "rows": [
        [
         "1544",
         "The Brooklyn Academy Of Global Finance",
         "High School",
         "5.3"
        ],
        [
         "650",
         "Manhattan Theatre Lab High School",
         "High School",
         "5.5"
        ],
        [
         "14",
         "Academy For Social Action: A College Board School",
         "Middle/High School",
         "5.8"
        ],
        [
         "1450",
         "Queens Metropolitan High School",
         "High School",
         "6.0"
        ],
        [
         "856",
         "P.S. 044 David C. Farragut",
         "Elementary School",
         "6.1"
        ],
        [
         "716",
         "New York French American Charter School",
         "Early Childhood School",
         "6.1"
        ],
        [
         "59",
         "Banana Kelly High School",
         "High School",
         "6.1"
        ],
        [
         "163",
         "Brooklyn Theatre Arts High School",
         "High School",
         "6.1"
        ],
        [
         "1035",
         "P.S. 120 Queens",
         "Elementary School",
         "6.2"
        ],
        [
         "1654",
         "Women'S Academy Of Excellence",
         "High School",
         "6.2"
        ],
        [
         "1621",
         "Urban Assembly School For The Performing Arts",
         "High School",
         "6.2"
        ],
        [
         "529",
         "J.H.S. 216 George J. Ryan",
         "Middle School",
         "6.3"
        ],
        [
         "1109",
         "P.S. 154 Jonathan D. Hyatt",
         "Elementary School",
         "6.3"
        ],
        [
         "557",
         "John F. Kennedy High School",
         "High School",
         "6.3"
        ],
        [
         "1031",
         "P.S. 118 Lorraine Hansberry",
         "Elementary School",
         "6.3"
        ],
        [
         "693",
         "Murry Bergtraum High School For Business Careers",
         "High School",
         "6.3"
        ],
        [
         "25",
         "Academy Of The City Charter School",
         "Early Childhood School",
         "6.3"
        ],
        [
         "18",
         "Academy Of Business And Community Development",
         "Middle/High School",
         "6.3"
        ],
        [
         "876",
         "P.S. 050 Clara Barton",
         "Elementary School",
         "6.3"
        ],
        [
         "1102",
         "P.S. 152 Dyckman Valley",
         "Elementary School",
         "6.4"
        ],
        [
         "322",
         "Grace Dodge Career And Technical Education High Sc",
         "High School",
         "6.4"
        ],
        [
         "579",
         "Knowledge And Power Preparatory Academy Vii Middle",
         "Middle School",
         "6.4"
        ],
        [
         "1424",
         "Performance Conservatory High School",
         "High School",
         "6.4"
        ],
        [
         "1663",
         "Young Women'S Leadership School, Queens",
         "Middle/High School",
         "6.4"
        ],
        [
         "44",
         "Antonia Pantoja Preparatory Academy, A College Boa",
         "Middle/High School",
         "6.4"
        ],
        [
         "307",
         "Gateway School For Environmental Research And Tech",
         "High School",
         "6.4"
        ],
        [
         "101",
         "Bronx Early College Academy For Teaching & Learnin",
         "Middle/High School",
         "6.4"
        ],
        [
         "1574",
         "The Opportunity Charter School",
         "Middle/High School",
         "6.4"
        ],
        [
         "630",
         "M.S. 45/S.T.A.R.S. Prep Academy",
         "Middle School",
         "6.5"
        ],
        [
         "1078",
         "P.S. 139 Alexine A. Fenty",
         "Elementary School",
         "6.5"
        ],
        [
         "1606",
         "Upper School @ P.S. 25",
         "Middle School",
         "6.5"
        ],
        [
         "54",
         "Automotive High School",
         "High School",
         "6.5"
        ],
        [
         "696",
         "N.Y.C. Museum School",
         "High School",
         "6.5"
        ],
        [
         "719",
         "Norman Thomas High School",
         "High School",
         "6.5"
        ],
        [
         "476",
         "Innovate Manhattan Charter School",
         "Middle School",
         "6.5"
        ],
        [
         "1417",
         "Paul Robeson High School",
         "High School",
         "6.5"
        ],
        [
         "1475",
         "Samuel Gompers Career And Technical Education High",
         "High School",
         "6.5"
        ],
        [
         "385",
         "High School Of Arts And Technology",
         "High School",
         "6.5"
        ],
        [
         "1655",
         "World Academy For Total Community Health High Scho",
         "High School",
         "6.5"
        ],
        [
         "46",
         "Archimedes Academy For Math, Science And Technolog",
         "Middle/High School",
         "6.6"
        ],
        [
         "778",
         "P.S. 017 Henry David Thoreau",
         "Elementary School",
         "6.6"
        ],
        [
         "1049",
         "P.S. 127 Aerospace Science Magne",
         "Elementary/Middle School",
         "6.6"
        ],
        [
         "13",
         "Academy For Scholarship And Entrepreneurship: A Co",
         "Middle/High School",
         "6.6"
        ],
        [
         "676",
         "Monroe Academy For Business/Law",
         "High School",
         "6.6"
        ],
        [
         "1447",
         "Queens High School For Information, Research, And",
         "High School",
         "6.6"
        ],
        [
         "655",
         "Marta Valle High School",
         "High School",
         "6.6"
        ],
        [
         "68",
         "Beach Channel High School",
         "High School",
         "6.6"
        ],
        [
         "194",
         "Collaborative Academy Of Science, Technology, & La",
         "Middle School",
         "6.6"
        ],
        [
         "1170",
         "P.S. 184 Newport",
         "Elementary/Middle School",
         "6.6"
        ],
        [
         "447",
         "I.S. 296 - The Anna Gonzalez Community School",
         "Middle School",
         "6.6"
        ]
       ],
       "shape": {
        "columns": 3,
        "rows": 90
       }
      },
      "text/html": [
       "<div>\n",
       "<style scoped>\n",
       "    .dataframe tbody tr th:only-of-type {\n",
       "        vertical-align: middle;\n",
       "    }\n",
       "\n",
       "    .dataframe tbody tr th {\n",
       "        vertical-align: top;\n",
       "    }\n",
       "\n",
       "    .dataframe thead th {\n",
       "        text-align: right;\n",
       "    }\n",
       "</style>\n",
       "<table border=\"1\" class=\"dataframe\">\n",
       "  <thead>\n",
       "    <tr style=\"text-align: right;\">\n",
       "      <th></th>\n",
       "      <th>School Name</th>\n",
       "      <th>School Type</th>\n",
       "      <th>Total Academic Expectations Score</th>\n",
       "    </tr>\n",
       "  </thead>\n",
       "  <tbody>\n",
       "    <tr>\n",
       "      <th>1544</th>\n",
       "      <td>The Brooklyn Academy Of Global Finance</td>\n",
       "      <td>High School</td>\n",
       "      <td>5.3</td>\n",
       "    </tr>\n",
       "    <tr>\n",
       "      <th>650</th>\n",
       "      <td>Manhattan Theatre Lab High School</td>\n",
       "      <td>High School</td>\n",
       "      <td>5.5</td>\n",
       "    </tr>\n",
       "    <tr>\n",
       "      <th>14</th>\n",
       "      <td>Academy For Social Action: A College Board School</td>\n",
       "      <td>Middle/High School</td>\n",
       "      <td>5.8</td>\n",
       "    </tr>\n",
       "    <tr>\n",
       "      <th>1450</th>\n",
       "      <td>Queens Metropolitan High School</td>\n",
       "      <td>High School</td>\n",
       "      <td>6.0</td>\n",
       "    </tr>\n",
       "    <tr>\n",
       "      <th>856</th>\n",
       "      <td>P.S. 044 David C. Farragut</td>\n",
       "      <td>Elementary School</td>\n",
       "      <td>6.1</td>\n",
       "    </tr>\n",
       "    <tr>\n",
       "      <th>...</th>\n",
       "      <td>...</td>\n",
       "      <td>...</td>\n",
       "      <td>...</td>\n",
       "    </tr>\n",
       "    <tr>\n",
       "      <th>754</th>\n",
       "      <td>P.S. 007 Louis F. Simeone</td>\n",
       "      <td>Early Childhood School</td>\n",
       "      <td>6.8</td>\n",
       "    </tr>\n",
       "    <tr>\n",
       "      <th>1063</th>\n",
       "      <td>P.S. 132 Garret A. Morgan</td>\n",
       "      <td>Elementary School</td>\n",
       "      <td>6.8</td>\n",
       "    </tr>\n",
       "    <tr>\n",
       "      <th>956</th>\n",
       "      <td>P.S. 087 William Sherman</td>\n",
       "      <td>Elementary School</td>\n",
       "      <td>6.8</td>\n",
       "    </tr>\n",
       "    <tr>\n",
       "      <th>305</th>\n",
       "      <td>Freedom Academy High School</td>\n",
       "      <td>High School</td>\n",
       "      <td>6.8</td>\n",
       "    </tr>\n",
       "    <tr>\n",
       "      <th>1</th>\n",
       "      <td>A. Philip Randolph Campus High School</td>\n",
       "      <td>High School</td>\n",
       "      <td>6.8</td>\n",
       "    </tr>\n",
       "  </tbody>\n",
       "</table>\n",
       "<p>90 rows × 3 columns</p>\n",
       "</div>"
      ],
      "text/plain": [
       "                                            School Name  \\\n",
       "1544             The Brooklyn Academy Of Global Finance   \n",
       "650                   Manhattan Theatre Lab High School   \n",
       "14    Academy For Social Action: A College Board School   \n",
       "1450                    Queens Metropolitan High School   \n",
       "856                          P.S. 044 David C. Farragut   \n",
       "...                                                 ...   \n",
       "754                           P.S. 007 Louis F. Simeone   \n",
       "1063                          P.S. 132 Garret A. Morgan   \n",
       "956                            P.S. 087 William Sherman   \n",
       "305                         Freedom Academy High School   \n",
       "1                 A. Philip Randolph Campus High School   \n",
       "\n",
       "                 School Type  Total Academic Expectations Score  \n",
       "1544             High School                                5.3  \n",
       "650              High School                                5.5  \n",
       "14        Middle/High School                                5.8  \n",
       "1450             High School                                6.0  \n",
       "856        Elementary School                                6.1  \n",
       "...                      ...                                ...  \n",
       "754   Early Childhood School                                6.8  \n",
       "1063       Elementary School                                6.8  \n",
       "956        Elementary School                                6.8  \n",
       "305              High School                                6.8  \n",
       "1                High School                                6.8  \n",
       "\n",
       "[90 rows x 3 columns]"
      ]
     },
     "execution_count": 114,
     "metadata": {},
     "output_type": "execute_result"
    }
   ],
   "source": [
    "low_percentile = 0.05\n",
    "\n",
    "for col in score_columns:\n",
    "    low_thresh = merged_df[col].quantile(low_percentile)\n",
    "    bottom_schools = merged_df[merged_df[col] <= low_thresh][[\n",
    "        'School Name', 'School Type', col\n",
    "    ]].sort_values(by=col).round(2)\n",
    "\n",
    "print(f\"\\n المدارس في أدنى 5% لـ {col}:\\n\")\n",
    "bottom_schools"
   ]
  },
  {
   "cell_type": "code",
   "execution_count": 115,
   "id": "0c1f5be7",
   "metadata": {},
   "outputs": [
    {
     "name": "stdout",
     "output_type": "stream",
     "text": [
      " متوسطات مؤشرات التقييم حسب نوع المدرسة:\n",
      "\n"
     ]
    },
    {
     "data": {
      "application/vnd.microsoft.datawrangler.viewer.v0+json": {
       "columns": [
        {
         "name": "School Type",
         "rawType": "object",
         "type": "string"
        },
        {
         "name": "Total Safety and Respect Score",
         "rawType": "float64",
         "type": "float"
        },
        {
         "name": "Total Communication Score",
         "rawType": "float64",
         "type": "float"
        },
        {
         "name": "Total Engagement Score",
         "rawType": "float64",
         "type": "float"
        },
        {
         "name": "Total Academic Expectations Score",
         "rawType": "float64",
         "type": "float"
        }
       ],
       "conversionMethod": "pd.DataFrame",
       "ref": "8e5be19b-9176-4cb2-830b-1a62ad007768",
       "rows": [
        [
         "Early Childhood School",
         "8.64",
         "8.03",
         "8.16",
         "8.39"
        ],
        [
         "Elementary School",
         "8.27",
         "7.64",
         "7.87",
         "8.05"
        ],
        [
         "Elementary/Middle School",
         "7.66",
         "7.25",
         "7.54",
         "7.96"
        ],
        [
         "Elementary/Middle/High School",
         "7.47",
         "6.86",
         "7.13",
         "7.51"
        ],
        [
         "High School",
         "7.39",
         "6.85",
         "7.16",
         "7.53"
        ],
        [
         "Middle School",
         "7.45",
         "7.07",
         "7.42",
         "7.8"
        ],
        [
         "Middle/High School",
         "7.4",
         "6.85",
         "7.12",
         "7.51"
        ],
        [
         "Transfer High School",
         "8.09",
         "7.24",
         "7.78",
         "8.04"
        ],
        [
         "YABC",
         "8.38",
         "7.7",
         "8.16",
         "8.37"
        ]
       ],
       "shape": {
        "columns": 4,
        "rows": 9
       }
      },
      "text/html": [
       "<div>\n",
       "<style scoped>\n",
       "    .dataframe tbody tr th:only-of-type {\n",
       "        vertical-align: middle;\n",
       "    }\n",
       "\n",
       "    .dataframe tbody tr th {\n",
       "        vertical-align: top;\n",
       "    }\n",
       "\n",
       "    .dataframe thead th {\n",
       "        text-align: right;\n",
       "    }\n",
       "</style>\n",
       "<table border=\"1\" class=\"dataframe\">\n",
       "  <thead>\n",
       "    <tr style=\"text-align: right;\">\n",
       "      <th></th>\n",
       "      <th>Total Safety and Respect Score</th>\n",
       "      <th>Total Communication Score</th>\n",
       "      <th>Total Engagement Score</th>\n",
       "      <th>Total Academic Expectations Score</th>\n",
       "    </tr>\n",
       "    <tr>\n",
       "      <th>School Type</th>\n",
       "      <th></th>\n",
       "      <th></th>\n",
       "      <th></th>\n",
       "      <th></th>\n",
       "    </tr>\n",
       "  </thead>\n",
       "  <tbody>\n",
       "    <tr>\n",
       "      <th>Early Childhood School</th>\n",
       "      <td>8.64</td>\n",
       "      <td>8.03</td>\n",
       "      <td>8.16</td>\n",
       "      <td>8.39</td>\n",
       "    </tr>\n",
       "    <tr>\n",
       "      <th>Elementary School</th>\n",
       "      <td>8.27</td>\n",
       "      <td>7.64</td>\n",
       "      <td>7.87</td>\n",
       "      <td>8.05</td>\n",
       "    </tr>\n",
       "    <tr>\n",
       "      <th>Elementary/Middle School</th>\n",
       "      <td>7.66</td>\n",
       "      <td>7.25</td>\n",
       "      <td>7.54</td>\n",
       "      <td>7.96</td>\n",
       "    </tr>\n",
       "    <tr>\n",
       "      <th>Elementary/Middle/High School</th>\n",
       "      <td>7.47</td>\n",
       "      <td>6.86</td>\n",
       "      <td>7.13</td>\n",
       "      <td>7.51</td>\n",
       "    </tr>\n",
       "    <tr>\n",
       "      <th>High School</th>\n",
       "      <td>7.39</td>\n",
       "      <td>6.85</td>\n",
       "      <td>7.16</td>\n",
       "      <td>7.53</td>\n",
       "    </tr>\n",
       "    <tr>\n",
       "      <th>Middle School</th>\n",
       "      <td>7.45</td>\n",
       "      <td>7.07</td>\n",
       "      <td>7.42</td>\n",
       "      <td>7.80</td>\n",
       "    </tr>\n",
       "    <tr>\n",
       "      <th>Middle/High School</th>\n",
       "      <td>7.40</td>\n",
       "      <td>6.85</td>\n",
       "      <td>7.12</td>\n",
       "      <td>7.51</td>\n",
       "    </tr>\n",
       "    <tr>\n",
       "      <th>Transfer High School</th>\n",
       "      <td>8.09</td>\n",
       "      <td>7.24</td>\n",
       "      <td>7.78</td>\n",
       "      <td>8.04</td>\n",
       "    </tr>\n",
       "    <tr>\n",
       "      <th>YABC</th>\n",
       "      <td>8.38</td>\n",
       "      <td>7.70</td>\n",
       "      <td>8.16</td>\n",
       "      <td>8.37</td>\n",
       "    </tr>\n",
       "  </tbody>\n",
       "</table>\n",
       "</div>"
      ],
      "text/plain": [
       "                               Total Safety and Respect Score  \\\n",
       "School Type                                                     \n",
       "Early Childhood School                                   8.64   \n",
       "Elementary School                                        8.27   \n",
       "Elementary/Middle School                                 7.66   \n",
       "Elementary/Middle/High School                            7.47   \n",
       "High School                                              7.39   \n",
       "Middle School                                            7.45   \n",
       "Middle/High School                                       7.40   \n",
       "Transfer High School                                     8.09   \n",
       "YABC                                                     8.38   \n",
       "\n",
       "                               Total Communication Score  \\\n",
       "School Type                                                \n",
       "Early Childhood School                              8.03   \n",
       "Elementary School                                   7.64   \n",
       "Elementary/Middle School                            7.25   \n",
       "Elementary/Middle/High School                       6.86   \n",
       "High School                                         6.85   \n",
       "Middle School                                       7.07   \n",
       "Middle/High School                                  6.85   \n",
       "Transfer High School                                7.24   \n",
       "YABC                                                7.70   \n",
       "\n",
       "                               Total Engagement Score  \\\n",
       "School Type                                             \n",
       "Early Childhood School                           8.16   \n",
       "Elementary School                                7.87   \n",
       "Elementary/Middle School                         7.54   \n",
       "Elementary/Middle/High School                    7.13   \n",
       "High School                                      7.16   \n",
       "Middle School                                    7.42   \n",
       "Middle/High School                               7.12   \n",
       "Transfer High School                             7.78   \n",
       "YABC                                             8.16   \n",
       "\n",
       "                               Total Academic Expectations Score  \n",
       "School Type                                                       \n",
       "Early Childhood School                                      8.39  \n",
       "Elementary School                                           8.05  \n",
       "Elementary/Middle School                                    7.96  \n",
       "Elementary/Middle/High School                               7.51  \n",
       "High School                                                 7.53  \n",
       "Middle School                                               7.80  \n",
       "Middle/High School                                          7.51  \n",
       "Transfer High School                                        8.04  \n",
       "YABC                                                        8.37  "
      ]
     },
     "execution_count": 115,
     "metadata": {},
     "output_type": "execute_result"
    }
   ],
   "source": [
    "score_columns = [\n",
    "    'Total Safety and Respect Score',\n",
    "    'Total Communication Score',\n",
    "    'Total Engagement Score',\n",
    "    'Total Academic Expectations Score'\n",
    "]\n",
    "\n",
    "scores_by_type = merged_df.groupby('School Type')[score_columns].mean().round(2)\n",
    "\n",
    "print(\" متوسطات مؤشرات التقييم حسب نوع المدرسة:\\n\")\n",
    "scores_by_type"
   ]
  },
  {
   "cell_type": "markdown",
   "id": "0263b4d9",
   "metadata": {},
   "source": [
    " 3. العلاقات بين الاستجابة والتقييم\n",
    "- هل هناك علاقة بين نسبة الاستجابة وارتفاع/انخفاض التقييمات؟\n",
    "- أي فئة تؤثر أكثر في التقييم (هل استجابة الأهل تعني تقييم تواصل أفضل؟)"
   ]
  },
  {
   "cell_type": "markdown",
   "id": "9b980df4",
   "metadata": {},
   "source": [
    " تحليل الارتباط بين نسب الاستجابة ومحاور التقييم"
   ]
  },
  {
   "cell_type": "code",
   "execution_count": 116,
   "id": "3276ac2a",
   "metadata": {},
   "outputs": [
    {
     "name": "stdout",
     "output_type": "stream",
     "text": [
      " مصفوفة الارتباط بين نسب الاستجابة والتقييمات:\n",
      "\n"
     ]
    },
    {
     "data": {
      "application/vnd.microsoft.datawrangler.viewer.v0+json": {
       "columns": [
        {
         "name": "index",
         "rawType": "object",
         "type": "string"
        },
        {
         "name": "Parent Response Rate",
         "rawType": "float64",
         "type": "float"
        },
        {
         "name": "Teacher Response Rate",
         "rawType": "float64",
         "type": "float"
        },
        {
         "name": "Student Response Rate",
         "rawType": "float64",
         "type": "float"
        },
        {
         "name": "Total Safety and Respect Score",
         "rawType": "float64",
         "type": "float"
        },
        {
         "name": "Total Communication Score",
         "rawType": "float64",
         "type": "float"
        },
        {
         "name": "Total Engagement Score",
         "rawType": "float64",
         "type": "float"
        },
        {
         "name": "Total Academic Expectations Score",
         "rawType": "float64",
         "type": "float"
        }
       ],
       "conversionMethod": "pd.DataFrame",
       "ref": "28f25fc7-2daf-480a-90cc-a370d3f068c2",
       "rows": [
        [
         "Parent Response Rate",
         "1.0",
         "0.31",
         "0.55",
         "0.5",
         "0.48",
         "0.46",
         "0.42"
        ],
        [
         "Teacher Response Rate",
         "0.31",
         "1.0",
         "0.26",
         "0.22",
         "0.27",
         "0.27",
         "0.28"
        ],
        [
         "Student Response Rate",
         "0.55",
         "0.26",
         "1.0",
         "0.23",
         "0.22",
         "0.2",
         "0.26"
        ],
        [
         "Total Safety and Respect Score",
         "0.5",
         "0.22",
         "0.23",
         "1.0",
         "0.85",
         "0.88",
         "0.84"
        ],
        [
         "Total Communication Score",
         "0.48",
         "0.27",
         "0.22",
         "0.85",
         "1.0",
         "0.95",
         "0.93"
        ],
        [
         "Total Engagement Score",
         "0.46",
         "0.27",
         "0.2",
         "0.88",
         "0.95",
         "1.0",
         "0.95"
        ],
        [
         "Total Academic Expectations Score",
         "0.42",
         "0.28",
         "0.26",
         "0.84",
         "0.93",
         "0.95",
         "1.0"
        ]
       ],
       "shape": {
        "columns": 7,
        "rows": 7
       }
      },
      "text/html": [
       "<div>\n",
       "<style scoped>\n",
       "    .dataframe tbody tr th:only-of-type {\n",
       "        vertical-align: middle;\n",
       "    }\n",
       "\n",
       "    .dataframe tbody tr th {\n",
       "        vertical-align: top;\n",
       "    }\n",
       "\n",
       "    .dataframe thead th {\n",
       "        text-align: right;\n",
       "    }\n",
       "</style>\n",
       "<table border=\"1\" class=\"dataframe\">\n",
       "  <thead>\n",
       "    <tr style=\"text-align: right;\">\n",
       "      <th></th>\n",
       "      <th>Parent Response Rate</th>\n",
       "      <th>Teacher Response Rate</th>\n",
       "      <th>Student Response Rate</th>\n",
       "      <th>Total Safety and Respect Score</th>\n",
       "      <th>Total Communication Score</th>\n",
       "      <th>Total Engagement Score</th>\n",
       "      <th>Total Academic Expectations Score</th>\n",
       "    </tr>\n",
       "  </thead>\n",
       "  <tbody>\n",
       "    <tr>\n",
       "      <th>Parent Response Rate</th>\n",
       "      <td>1.00</td>\n",
       "      <td>0.31</td>\n",
       "      <td>0.55</td>\n",
       "      <td>0.50</td>\n",
       "      <td>0.48</td>\n",
       "      <td>0.46</td>\n",
       "      <td>0.42</td>\n",
       "    </tr>\n",
       "    <tr>\n",
       "      <th>Teacher Response Rate</th>\n",
       "      <td>0.31</td>\n",
       "      <td>1.00</td>\n",
       "      <td>0.26</td>\n",
       "      <td>0.22</td>\n",
       "      <td>0.27</td>\n",
       "      <td>0.27</td>\n",
       "      <td>0.28</td>\n",
       "    </tr>\n",
       "    <tr>\n",
       "      <th>Student Response Rate</th>\n",
       "      <td>0.55</td>\n",
       "      <td>0.26</td>\n",
       "      <td>1.00</td>\n",
       "      <td>0.23</td>\n",
       "      <td>0.22</td>\n",
       "      <td>0.20</td>\n",
       "      <td>0.26</td>\n",
       "    </tr>\n",
       "    <tr>\n",
       "      <th>Total Safety and Respect Score</th>\n",
       "      <td>0.50</td>\n",
       "      <td>0.22</td>\n",
       "      <td>0.23</td>\n",
       "      <td>1.00</td>\n",
       "      <td>0.85</td>\n",
       "      <td>0.88</td>\n",
       "      <td>0.84</td>\n",
       "    </tr>\n",
       "    <tr>\n",
       "      <th>Total Communication Score</th>\n",
       "      <td>0.48</td>\n",
       "      <td>0.27</td>\n",
       "      <td>0.22</td>\n",
       "      <td>0.85</td>\n",
       "      <td>1.00</td>\n",
       "      <td>0.95</td>\n",
       "      <td>0.93</td>\n",
       "    </tr>\n",
       "    <tr>\n",
       "      <th>Total Engagement Score</th>\n",
       "      <td>0.46</td>\n",
       "      <td>0.27</td>\n",
       "      <td>0.20</td>\n",
       "      <td>0.88</td>\n",
       "      <td>0.95</td>\n",
       "      <td>1.00</td>\n",
       "      <td>0.95</td>\n",
       "    </tr>\n",
       "    <tr>\n",
       "      <th>Total Academic Expectations Score</th>\n",
       "      <td>0.42</td>\n",
       "      <td>0.28</td>\n",
       "      <td>0.26</td>\n",
       "      <td>0.84</td>\n",
       "      <td>0.93</td>\n",
       "      <td>0.95</td>\n",
       "      <td>1.00</td>\n",
       "    </tr>\n",
       "  </tbody>\n",
       "</table>\n",
       "</div>"
      ],
      "text/plain": [
       "                                   Parent Response Rate  \\\n",
       "Parent Response Rate                               1.00   \n",
       "Teacher Response Rate                              0.31   \n",
       "Student Response Rate                              0.55   \n",
       "Total Safety and Respect Score                     0.50   \n",
       "Total Communication Score                          0.48   \n",
       "Total Engagement Score                             0.46   \n",
       "Total Academic Expectations Score                  0.42   \n",
       "\n",
       "                                   Teacher Response Rate  \\\n",
       "Parent Response Rate                                0.31   \n",
       "Teacher Response Rate                               1.00   \n",
       "Student Response Rate                               0.26   \n",
       "Total Safety and Respect Score                      0.22   \n",
       "Total Communication Score                           0.27   \n",
       "Total Engagement Score                              0.27   \n",
       "Total Academic Expectations Score                   0.28   \n",
       "\n",
       "                                   Student Response Rate  \\\n",
       "Parent Response Rate                                0.55   \n",
       "Teacher Response Rate                               0.26   \n",
       "Student Response Rate                               1.00   \n",
       "Total Safety and Respect Score                      0.23   \n",
       "Total Communication Score                           0.22   \n",
       "Total Engagement Score                              0.20   \n",
       "Total Academic Expectations Score                   0.26   \n",
       "\n",
       "                                   Total Safety and Respect Score  \\\n",
       "Parent Response Rate                                         0.50   \n",
       "Teacher Response Rate                                        0.22   \n",
       "Student Response Rate                                        0.23   \n",
       "Total Safety and Respect Score                               1.00   \n",
       "Total Communication Score                                    0.85   \n",
       "Total Engagement Score                                       0.88   \n",
       "Total Academic Expectations Score                            0.84   \n",
       "\n",
       "                                   Total Communication Score  \\\n",
       "Parent Response Rate                                    0.48   \n",
       "Teacher Response Rate                                   0.27   \n",
       "Student Response Rate                                   0.22   \n",
       "Total Safety and Respect Score                          0.85   \n",
       "Total Communication Score                               1.00   \n",
       "Total Engagement Score                                  0.95   \n",
       "Total Academic Expectations Score                       0.93   \n",
       "\n",
       "                                   Total Engagement Score  \\\n",
       "Parent Response Rate                                 0.46   \n",
       "Teacher Response Rate                                0.27   \n",
       "Student Response Rate                                0.20   \n",
       "Total Safety and Respect Score                       0.88   \n",
       "Total Communication Score                            0.95   \n",
       "Total Engagement Score                               1.00   \n",
       "Total Academic Expectations Score                    0.95   \n",
       "\n",
       "                                   Total Academic Expectations Score  \n",
       "Parent Response Rate                                            0.42  \n",
       "Teacher Response Rate                                           0.28  \n",
       "Student Response Rate                                           0.26  \n",
       "Total Safety and Respect Score                                  0.84  \n",
       "Total Communication Score                                       0.93  \n",
       "Total Engagement Score                                          0.95  \n",
       "Total Academic Expectations Score                               1.00  "
      ]
     },
     "execution_count": 116,
     "metadata": {},
     "output_type": "execute_result"
    }
   ],
   "source": [
    "columns_to_analyze = [\n",
    "    'Parent Response Rate',\n",
    "    'Teacher Response Rate',\n",
    "    'Student Response Rate',\n",
    "    'Total Safety and Respect Score',\n",
    "    'Total Communication Score',\n",
    "    'Total Engagement Score',\n",
    "    'Total Academic Expectations Score'\n",
    "]\n",
    "\n",
    "# استخراج مصفوفة الارتباط (Correlation Matrix)\n",
    "correlation_matrix = merged_df[columns_to_analyze].corr().round(2)\n",
    "\n",
    "print(\" مصفوفة الارتباط بين نسب الاستجابة والتقييمات:\\n\")\n",
    "correlation_matrix"
   ]
  },
  {
   "cell_type": "code",
   "execution_count": 117,
   "id": "514a7377",
   "metadata": {},
   "outputs": [
    {
     "name": "stderr",
     "output_type": "stream",
     "text": [
      "/var/folders/64/nvt4hqls53bc_mc9h52l7rnm0000gn/T/ipykernel_34623/1334077759.py:7: UserWarning: Glyph 128202 (\\N{BAR CHART}) missing from font(s) Arial.\n",
      "  plt.tight_layout()\n",
      "/Users/ahmad/PyCharmMiscProject/.venv/lib/python3.13/site-packages/IPython/core/pylabtools.py:170: UserWarning: Glyph 128202 (\\N{BAR CHART}) missing from font(s) Arial.\n",
      "  fig.canvas.print_figure(bytes_io, **kw)\n"
     ]
    },
    {
     "data": {
      "image/png": "[encoded data removed]",
      "text/plain": [
       "<Figure size 1000x800 with 2 Axes>"
      ]
     },
     "metadata": {},
     "output_type": "display_data"
    }
   ],
   "source": [
    "plt.figure(figsize=(10, 8))\n",
    "sns.heatmap(correlation_matrix, annot=True, cmap='coolwarm', center=0, linewidths=0.5)\n",
    "\n",
    "plt.title(\"📊 مصفوفة الارتباط بين نسب الاستجابة والتقييمات\", fontsize=14)\n",
    "plt.xticks(rotation=45, ha='right')\n",
    "plt.yticks(rotation=0)\n",
    "plt.tight_layout()\n",
    "plt.show()"
   ]
  },
  {
   "cell_type": "markdown",
   "id": "57990819",
   "metadata": {},
   "source": [
    " 4. تحليل حسب نوع المدرسة (School Type)\n",
    "- أداء كل نوع مدرسة في كل محور\n",
    "- من الأفضل ومن الأسوأ حسب البيانات؟\n",
    "- هل المدارس الابتدائية أعلى تفاعلًا؟ هل الثانوية أكثر أمانًا؟"
   ]
  },
  {
   "cell_type": "markdown",
   "id": "7c7489d4",
   "metadata": {},
   "source": [
    "أداء كل نوع مدرسة في كل محور"
   ]
  },
  {
   "cell_type": "code",
   "execution_count": 118,
   "id": "cfe689f3",
   "metadata": {},
   "outputs": [
    {
     "name": "stdout",
     "output_type": "stream",
     "text": [
      " متوسط مؤشرات الأداء حسب نوع المدرسة:\n",
      "\n"
     ]
    },
    {
     "data": {
      "application/vnd.microsoft.datawrangler.viewer.v0+json": {
       "columns": [
        {
         "name": "School Type",
         "rawType": "object",
         "type": "string"
        },
        {
         "name": "Total Safety and Respect Score",
         "rawType": "float64",
         "type": "float"
        },
        {
         "name": "Total Communication Score",
         "rawType": "float64",
         "type": "float"
        },
        {
         "name": "Total Engagement Score",
         "rawType": "float64",
         "type": "float"
        },
        {
         "name": "Total Academic Expectations Score",
         "rawType": "float64",
         "type": "float"
        }
       ],
       "conversionMethod": "pd.DataFrame",
       "ref": "d2d65f27-3c81-48e5-96da-65177ec87b28",
       "rows": [
        [
         "Early Childhood School",
         "8.64",
         "8.03",
         "8.16",
         "8.39"
        ],
        [
         "Elementary School",
         "8.27",
         "7.64",
         "7.87",
         "8.05"
        ],
        [
         "Elementary/Middle School",
         "7.66",
         "7.25",
         "7.54",
         "7.96"
        ],
        [
         "Elementary/Middle/High School",
         "7.47",
         "6.86",
         "7.13",
         "7.51"
        ],
        [
         "High School",
         "7.39",
         "6.85",
         "7.16",
         "7.53"
        ],
        [
         "Middle School",
         "7.45",
         "7.07",
         "7.42",
         "7.8"
        ],
        [
         "Middle/High School",
         "7.4",
         "6.85",
         "7.12",
         "7.51"
        ],
        [
         "Transfer High School",
         "8.09",
         "7.24",
         "7.78",
         "8.04"
        ],
        [
         "YABC",
         "8.38",
         "7.7",
         "8.16",
         "8.37"
        ]
       ],
       "shape": {
        "columns": 4,
        "rows": 9
       }
      },
      "text/html": [
       "<div>\n",
       "<style scoped>\n",
       "    .dataframe tbody tr th:only-of-type {\n",
       "        vertical-align: middle;\n",
       "    }\n",
       "\n",
       "    .dataframe tbody tr th {\n",
       "        vertical-align: top;\n",
       "    }\n",
       "\n",
       "    .dataframe thead th {\n",
       "        text-align: right;\n",
       "    }\n",
       "</style>\n",
       "<table border=\"1\" class=\"dataframe\">\n",
       "  <thead>\n",
       "    <tr style=\"text-align: right;\">\n",
       "      <th></th>\n",
       "      <th>Total Safety and Respect Score</th>\n",
       "      <th>Total Communication Score</th>\n",
       "      <th>Total Engagement Score</th>\n",
       "      <th>Total Academic Expectations Score</th>\n",
       "    </tr>\n",
       "    <tr>\n",
       "      <th>School Type</th>\n",
       "      <th></th>\n",
       "      <th></th>\n",
       "      <th></th>\n",
       "      <th></th>\n",
       "    </tr>\n",
       "  </thead>\n",
       "  <tbody>\n",
       "    <tr>\n",
       "      <th>Early Childhood School</th>\n",
       "      <td>8.64</td>\n",
       "      <td>8.03</td>\n",
       "      <td>8.16</td>\n",
       "      <td>8.39</td>\n",
       "    </tr>\n",
       "    <tr>\n",
       "      <th>Elementary School</th>\n",
       "      <td>8.27</td>\n",
       "      <td>7.64</td>\n",
       "      <td>7.87</td>\n",
       "      <td>8.05</td>\n",
       "    </tr>\n",
       "    <tr>\n",
       "      <th>Elementary/Middle School</th>\n",
       "      <td>7.66</td>\n",
       "      <td>7.25</td>\n",
       "      <td>7.54</td>\n",
       "      <td>7.96</td>\n",
       "    </tr>\n",
       "    <tr>\n",
       "      <th>Elementary/Middle/High School</th>\n",
       "      <td>7.47</td>\n",
       "      <td>6.86</td>\n",
       "      <td>7.13</td>\n",
       "      <td>7.51</td>\n",
       "    </tr>\n",
       "    <tr>\n",
       "      <th>High School</th>\n",
       "      <td>7.39</td>\n",
       "      <td>6.85</td>\n",
       "      <td>7.16</td>\n",
       "      <td>7.53</td>\n",
       "    </tr>\n",
       "    <tr>\n",
       "      <th>Middle School</th>\n",
       "      <td>7.45</td>\n",
       "      <td>7.07</td>\n",
       "      <td>7.42</td>\n",
       "      <td>7.80</td>\n",
       "    </tr>\n",
       "    <tr>\n",
       "      <th>Middle/High School</th>\n",
       "      <td>7.40</td>\n",
       "      <td>6.85</td>\n",
       "      <td>7.12</td>\n",
       "      <td>7.51</td>\n",
       "    </tr>\n",
       "    <tr>\n",
       "      <th>Transfer High School</th>\n",
       "      <td>8.09</td>\n",
       "      <td>7.24</td>\n",
       "      <td>7.78</td>\n",
       "      <td>8.04</td>\n",
       "    </tr>\n",
       "    <tr>\n",
       "      <th>YABC</th>\n",
       "      <td>8.38</td>\n",
       "      <td>7.70</td>\n",
       "      <td>8.16</td>\n",
       "      <td>8.37</td>\n",
       "    </tr>\n",
       "  </tbody>\n",
       "</table>\n",
       "</div>"
      ],
      "text/plain": [
       "                               Total Safety and Respect Score  \\\n",
       "School Type                                                     \n",
       "Early Childhood School                                   8.64   \n",
       "Elementary School                                        8.27   \n",
       "Elementary/Middle School                                 7.66   \n",
       "Elementary/Middle/High School                            7.47   \n",
       "High School                                              7.39   \n",
       "Middle School                                            7.45   \n",
       "Middle/High School                                       7.40   \n",
       "Transfer High School                                     8.09   \n",
       "YABC                                                     8.38   \n",
       "\n",
       "                               Total Communication Score  \\\n",
       "School Type                                                \n",
       "Early Childhood School                              8.03   \n",
       "Elementary School                                   7.64   \n",
       "Elementary/Middle School                            7.25   \n",
       "Elementary/Middle/High School                       6.86   \n",
       "High School                                         6.85   \n",
       "Middle School                                       7.07   \n",
       "Middle/High School                                  6.85   \n",
       "Transfer High School                                7.24   \n",
       "YABC                                                7.70   \n",
       "\n",
       "                               Total Engagement Score  \\\n",
       "School Type                                             \n",
       "Early Childhood School                           8.16   \n",
       "Elementary School                                7.87   \n",
       "Elementary/Middle School                         7.54   \n",
       "Elementary/Middle/High School                    7.13   \n",
       "High School                                      7.16   \n",
       "Middle School                                    7.42   \n",
       "Middle/High School                               7.12   \n",
       "Transfer High School                             7.78   \n",
       "YABC                                             8.16   \n",
       "\n",
       "                               Total Academic Expectations Score  \n",
       "School Type                                                       \n",
       "Early Childhood School                                      8.39  \n",
       "Elementary School                                           8.05  \n",
       "Elementary/Middle School                                    7.96  \n",
       "Elementary/Middle/High School                               7.51  \n",
       "High School                                                 7.53  \n",
       "Middle School                                               7.80  \n",
       "Middle/High School                                          7.51  \n",
       "Transfer High School                                        8.04  \n",
       "YABC                                                        8.37  "
      ]
     },
     "execution_count": 118,
     "metadata": {},
     "output_type": "execute_result"
    }
   ],
   "source": [
    "score_columns = [\n",
    "    'Total Safety and Respect Score',\n",
    "    'Total Communication Score',\n",
    "    'Total Engagement Score',\n",
    "    'Total Academic Expectations Score'\n",
    "]\n",
    "\n",
    "avg_scores_by_type = merged_df.groupby('School Type')[score_columns].mean().round(2)\n",
    "\n",
    "print(\" متوسط مؤشرات الأداء حسب نوع المدرسة:\\n\")\n",
    "avg_scores_by_type"
   ]
  },
  {
   "cell_type": "code",
   "execution_count": 119,
   "id": "fe10afc6",
   "metadata": {},
   "outputs": [
    {
     "data": {
      "text/plain": [
       "<Figure size 1200x600 with 0 Axes>"
      ]
     },
     "metadata": {},
     "output_type": "display_data"
    },
    {
     "data": {
      "image/png": "[encoded data removed]",
      "text/plain": [
       "<Figure size 1200x600 with 1 Axes>"
      ]
     },
     "metadata": {},
     "output_type": "display_data"
    }
   ],
   "source": [
    "plt.figure(figsize=(12, 6))\n",
    "avg_scores_by_type.plot(\n",
    "    kind='bar',\n",
    "    figsize=(12, 6),\n",
    "    width=0.8,\n",
    "    colormap='Set2',\n",
    "    edgecolor='black'\n",
    ")\n",
    "\n",
    "plt.title(\"Average Performance Scores by School Type\", fontsize=14)\n",
    "plt.xlabel(\"School Type\")\n",
    "plt.ylabel(\"Average Score\")\n",
    "plt.xticks(rotation=45, ha='right')\n",
    "plt.grid(axis='y', linestyle='--', alpha=0.6)\n",
    "plt.legend(title=\"Performance Indicator\", loc='upper right')\n",
    "plt.tight_layout()\n",
    "plt.show()"
   ]
  },
  {
   "cell_type": "markdown",
   "id": "f57c8cb0",
   "metadata": {},
   "source": [
    "من الأفضل ومن الأسوأ حسب البيانات (ترتيب)"
   ]
  },
  {
   "cell_type": "code",
   "execution_count": 120,
   "id": "52d24026",
   "metadata": {},
   "outputs": [
    {
     "name": "stdout",
     "output_type": "stream",
     "text": [
      "\n",
      " ترتيب أنواع المدارس حسب Total Safety and Respect Score:\n",
      "\n",
      "                               Total Safety and Respect Score\n",
      "School Type                                                  \n",
      "Early Childhood School                                   8.64\n",
      "YABC                                                     8.38\n",
      "Elementary School                                        8.27\n",
      "Transfer High School                                     8.09\n",
      "Elementary/Middle School                                 7.66\n",
      "Elementary/Middle/High School                            7.47\n",
      "Middle School                                            7.45\n",
      "Middle/High School                                       7.40\n",
      "High School                                              7.39\n",
      "\n",
      " ترتيب أنواع المدارس حسب Total Communication Score:\n",
      "\n",
      "                               Total Communication Score\n",
      "School Type                                             \n",
      "Early Childhood School                              8.03\n",
      "YABC                                                7.70\n",
      "Elementary School                                   7.64\n",
      "Elementary/Middle School                            7.25\n",
      "Transfer High School                                7.24\n",
      "Middle School                                       7.07\n",
      "Elementary/Middle/High School                       6.86\n",
      "High School                                         6.85\n",
      "Middle/High School                                  6.85\n",
      "\n",
      " ترتيب أنواع المدارس حسب Total Engagement Score:\n",
      "\n",
      "                               Total Engagement Score\n",
      "School Type                                          \n",
      "Early Childhood School                           8.16\n",
      "YABC                                             8.16\n",
      "Elementary School                                7.87\n",
      "Transfer High School                             7.78\n",
      "Elementary/Middle School                         7.54\n",
      "Middle School                                    7.42\n",
      "High School                                      7.16\n",
      "Elementary/Middle/High School                    7.13\n",
      "Middle/High School                               7.12\n",
      "\n",
      " ترتيب أنواع المدارس حسب Total Academic Expectations Score:\n",
      "\n",
      "                               Total Academic Expectations Score\n",
      "School Type                                                     \n",
      "Early Childhood School                                      8.39\n",
      "YABC                                                        8.37\n",
      "Elementary School                                           8.05\n",
      "Transfer High School                                        8.04\n",
      "Elementary/Middle School                                    7.96\n",
      "Middle School                                               7.80\n",
      "High School                                                 7.53\n",
      "Elementary/Middle/High School                               7.51\n",
      "Middle/High School                                          7.51\n"
     ]
    }
   ],
   "source": [
    "\n",
    "for col in score_columns:\n",
    "    sorted_scores = avg_scores_by_type.sort_values(by=col, ascending=False)\n",
    "    print(f\"\\n ترتيب أنواع المدارس حسب {col}:\\n\")\n",
    "    print(sorted_scores[[col]])"
   ]
  },
  {
   "cell_type": "markdown",
   "id": "18d4f444",
   "metadata": {},
   "source": [
    "تحليل مخصص: هل المدارس الابتدائية أكثر تفاعلًا؟ هل الثانوية أكثر أمانًا؟"
   ]
  },
  {
   "cell_type": "code",
   "execution_count": 121,
   "id": "b49982c9",
   "metadata": {},
   "outputs": [
    {
     "name": "stdout",
     "output_type": "stream",
     "text": [
      " مقارنة التفاعل والأمان بين الابتدائية والثانوية:\n",
      "\n"
     ]
    },
    {
     "data": {
      "application/vnd.microsoft.datawrangler.viewer.v0+json": {
       "columns": [
        {
         "name": "School Type",
         "rawType": "object",
         "type": "string"
        },
        {
         "name": "Total Safety and Respect Score",
         "rawType": "float64",
         "type": "float"
        },
        {
         "name": "Total Communication Score",
         "rawType": "float64",
         "type": "float"
        },
        {
         "name": "Total Engagement Score",
         "rawType": "float64",
         "type": "float"
        },
        {
         "name": "Total Academic Expectations Score",
         "rawType": "float64",
         "type": "float"
        }
       ],
       "conversionMethod": "pd.DataFrame",
       "ref": "5f0083cc-83a3-408f-8244-bbe8b36445ce",
       "rows": [
        [
         "Elementary School",
         "8.27",
         "7.64",
         "7.87",
         "8.05"
        ],
        [
         "High School",
         "7.39",
         "6.85",
         "7.16",
         "7.53"
        ]
       ],
       "shape": {
        "columns": 4,
        "rows": 2
       }
      },
      "text/html": [
       "<div>\n",
       "<style scoped>\n",
       "    .dataframe tbody tr th:only-of-type {\n",
       "        vertical-align: middle;\n",
       "    }\n",
       "\n",
       "    .dataframe tbody tr th {\n",
       "        vertical-align: top;\n",
       "    }\n",
       "\n",
       "    .dataframe thead th {\n",
       "        text-align: right;\n",
       "    }\n",
       "</style>\n",
       "<table border=\"1\" class=\"dataframe\">\n",
       "  <thead>\n",
       "    <tr style=\"text-align: right;\">\n",
       "      <th></th>\n",
       "      <th>Total Safety and Respect Score</th>\n",
       "      <th>Total Communication Score</th>\n",
       "      <th>Total Engagement Score</th>\n",
       "      <th>Total Academic Expectations Score</th>\n",
       "    </tr>\n",
       "    <tr>\n",
       "      <th>School Type</th>\n",
       "      <th></th>\n",
       "      <th></th>\n",
       "      <th></th>\n",
       "      <th></th>\n",
       "    </tr>\n",
       "  </thead>\n",
       "  <tbody>\n",
       "    <tr>\n",
       "      <th>Elementary School</th>\n",
       "      <td>8.27</td>\n",
       "      <td>7.64</td>\n",
       "      <td>7.87</td>\n",
       "      <td>8.05</td>\n",
       "    </tr>\n",
       "    <tr>\n",
       "      <th>High School</th>\n",
       "      <td>7.39</td>\n",
       "      <td>6.85</td>\n",
       "      <td>7.16</td>\n",
       "      <td>7.53</td>\n",
       "    </tr>\n",
       "  </tbody>\n",
       "</table>\n",
       "</div>"
      ],
      "text/plain": [
       "                   Total Safety and Respect Score  Total Communication Score  \\\n",
       "School Type                                                                    \n",
       "Elementary School                            8.27                       7.64   \n",
       "High School                                  7.39                       6.85   \n",
       "\n",
       "                   Total Engagement Score  Total Academic Expectations Score  \n",
       "School Type                                                                   \n",
       "Elementary School                    7.87                               8.05  \n",
       "High School                          7.16                               7.53  "
      ]
     },
     "execution_count": 121,
     "metadata": {},
     "output_type": "execute_result"
    }
   ],
   "source": [
    "elementary_vs_high = merged_df[\n",
    "    merged_df['School Type'].isin(['Elementary School', 'High School'])\n",
    "][[\n",
    "    'School Name', 'School Type',\n",
    "    'Total Safety and Respect Score',\n",
    "    'Total Communication Score',\n",
    "    'Total Engagement Score',\n",
    "    'Total Academic Expectations Score'\n",
    "]]\n",
    "\n",
    "\n",
    "elementary_high_avg = elementary_vs_high.groupby('School Type')[[\n",
    "    'Total Safety and Respect Score',\n",
    "    'Total Communication Score',\n",
    "    'Total Engagement Score',\n",
    "    'Total Academic Expectations Score'\n",
    "]].mean().round(2)\n",
    "\n",
    "print(\" مقارنة التفاعل والأمان بين الابتدائية والثانوية:\\n\")\n",
    "elementary_high_avg"
   ]
  },
  {
   "cell_type": "code",
   "execution_count": 122,
   "id": "9a328573",
   "metadata": {},
   "outputs": [
    {
     "name": "stdout",
     "output_type": "stream",
     "text": [
      " مقارنة أنواع المدارس حسب محاور التقييم:\n",
      "\n"
     ]
    },
    {
     "data": {
      "application/vnd.microsoft.datawrangler.viewer.v0+json": {
       "columns": [
        {
         "name": "index",
         "rawType": "int64",
         "type": "integer"
        },
        {
         "name": "محور التقييم",
         "rawType": "object",
         "type": "string"
        },
        {
         "name": "أعلى نوع مدرسة",
         "rawType": "object",
         "type": "string"
        },
        {
         "name": "القيمة العليا",
         "rawType": "float64",
         "type": "float"
        },
        {
         "name": "أقل نوع مدرسة",
         "rawType": "object",
         "type": "string"
        },
        {
         "name": "القيمة الدنيا",
         "rawType": "float64",
         "type": "float"
        }
       ],
       "conversionMethod": "pd.DataFrame",
       "ref": "34a794f7-70ee-4926-a62f-b50929da7960",
       "rows": [
        [
         "0",
         "الأمان",
         "Early Childhood School",
         "8.64",
         "High School",
         "7.39"
        ],
        [
         "1",
         "التفاعل",
         "Early Childhood School",
         "8.16",
         "Middle/High School",
         "7.12"
        ],
        [
         "2",
         "التواصل",
         "Early Childhood School",
         "8.03",
         "High School",
         "6.85"
        ],
        [
         "3",
         "التوقع الأكاديمي",
         "Early Childhood School",
         "8.39",
         "Elementary/Middle/High School",
         "7.51"
        ]
       ],
       "shape": {
        "columns": 5,
        "rows": 4
       }
      },
      "text/html": [
       "<div>\n",
       "<style scoped>\n",
       "    .dataframe tbody tr th:only-of-type {\n",
       "        vertical-align: middle;\n",
       "    }\n",
       "\n",
       "    .dataframe tbody tr th {\n",
       "        vertical-align: top;\n",
       "    }\n",
       "\n",
       "    .dataframe thead th {\n",
       "        text-align: right;\n",
       "    }\n",
       "</style>\n",
       "<table border=\"1\" class=\"dataframe\">\n",
       "  <thead>\n",
       "    <tr style=\"text-align: right;\">\n",
       "      <th></th>\n",
       "      <th>محور التقييم</th>\n",
       "      <th>أعلى نوع مدرسة</th>\n",
       "      <th>القيمة العليا</th>\n",
       "      <th>أقل نوع مدرسة</th>\n",
       "      <th>القيمة الدنيا</th>\n",
       "    </tr>\n",
       "  </thead>\n",
       "  <tbody>\n",
       "    <tr>\n",
       "      <th>0</th>\n",
       "      <td>الأمان</td>\n",
       "      <td>Early Childhood School</td>\n",
       "      <td>8.64</td>\n",
       "      <td>High School</td>\n",
       "      <td>7.39</td>\n",
       "    </tr>\n",
       "    <tr>\n",
       "      <th>1</th>\n",
       "      <td>التفاعل</td>\n",
       "      <td>Early Childhood School</td>\n",
       "      <td>8.16</td>\n",
       "      <td>Middle/High School</td>\n",
       "      <td>7.12</td>\n",
       "    </tr>\n",
       "    <tr>\n",
       "      <th>2</th>\n",
       "      <td>التواصل</td>\n",
       "      <td>Early Childhood School</td>\n",
       "      <td>8.03</td>\n",
       "      <td>High School</td>\n",
       "      <td>6.85</td>\n",
       "    </tr>\n",
       "    <tr>\n",
       "      <th>3</th>\n",
       "      <td>التوقع الأكاديمي</td>\n",
       "      <td>Early Childhood School</td>\n",
       "      <td>8.39</td>\n",
       "      <td>Elementary/Middle/High School</td>\n",
       "      <td>7.51</td>\n",
       "    </tr>\n",
       "  </tbody>\n",
       "</table>\n",
       "</div>"
      ],
      "text/plain": [
       "       محور التقييم          أعلى نوع مدرسة  القيمة العليا  \\\n",
       "0            الأمان  Early Childhood School           8.64   \n",
       "1           التفاعل  Early Childhood School           8.16   \n",
       "2           التواصل  Early Childhood School           8.03   \n",
       "3  التوقع الأكاديمي  Early Childhood School           8.39   \n",
       "\n",
       "                   أقل نوع مدرسة  القيمة الدنيا  \n",
       "0                    High School           7.39  \n",
       "1             Middle/High School           7.12  \n",
       "2                    High School           6.85  \n",
       "3  Elementary/Middle/High School           7.51  "
      ]
     },
     "execution_count": 122,
     "metadata": {},
     "output_type": "execute_result"
    }
   ],
   "source": [
    "score_columns = {\n",
    "    'Total Safety and Respect Score': 'الأمان',\n",
    "    'Total Engagement Score': 'التفاعل',\n",
    "    'Total Communication Score': 'التواصل',\n",
    "    'Total Academic Expectations Score': 'التوقع الأكاديمي'\n",
    "}\n",
    "\n",
    "grouped_scores = merged_df.groupby('School Type')[list(score_columns.keys())].mean().round(2)\n",
    "\n",
    "results = []\n",
    "\n",
    "for col, label in score_columns.items():\n",
    "    max_value = grouped_scores[col].max()\n",
    "    max_school_type = grouped_scores[grouped_scores[col] == max_value].index[0]\n",
    "    \n",
    "    min_value = grouped_scores[col].min()\n",
    "    min_school_type = grouped_scores[grouped_scores[col] == min_value].index[0]\n",
    "    \n",
    "    results.append({\n",
    "        'محور التقييم': label,\n",
    "        'أعلى نوع مدرسة': max_school_type,\n",
    "        'القيمة العليا': max_value,\n",
    "        'أقل نوع مدرسة': min_school_type,\n",
    "        'القيمة الدنيا': min_value\n",
    "    })\n",
    "\n",
    "comparison_df = pd.DataFrame(results)\n",
    "\n",
    "print(\" مقارنة أنواع المدارس حسب محاور التقييم:\\n\")\n",
    "comparison_df"
   ]
  },
  {
   "cell_type": "code",
   "execution_count": 123,
   "id": "6f094350",
   "metadata": {},
   "outputs": [
    {
     "name": "stderr",
     "output_type": "stream",
     "text": [
      "/var/folders/64/nvt4hqls53bc_mc9h52l7rnm0000gn/T/ipykernel_34623/3356943336.py:16: FutureWarning: The default of observed=False is deprecated and will be changed to True in a future version of pandas. Pass observed=False to retain current behavior or observed=True to adopt the future default and silence this warning.\n",
      "  performance_by_type = df.groupby(\"School Type\")[performance_cols].mean().reset_index()\n"
     ]
    },
    {
     "data": {
      "image/png": "[encoded data removed]",
      "text/plain": [
       "<Figure size 1200x600 with 1 Axes>"
      ]
     },
     "metadata": {},
     "output_type": "display_data"
    }
   ],
   "source": [
    "from pandas.api.types import CategoricalDtype\n",
    "order = [\n",
    "    \"Early Childhood School\", \"Elementary School\", \"Elementary/Middle School\",\n",
    "    \"Middle School\", \"Middle/High School\", \"High School\",\n",
    "    \"Transfer High School\", \"YABC\"\n",
    "]\n",
    "cat_type = CategoricalDtype(categories=order, ordered=True)\n",
    "df[\"School Type\"] = df[\"School Type\"].astype(cat_type)\n",
    "\n",
    "performance_cols = [\n",
    "    \"Total Safety and Respect Score\",\n",
    "    \"Total Communication Score\",\n",
    "    \"Total Engagement Score\",\n",
    "    \"Total Academic Expectations Score\"\n",
    "]\n",
    "performance_by_type = df.groupby(\"School Type\")[performance_cols].mean().reset_index()\n",
    "\n",
    "plt.figure(figsize=(12, 6))\n",
    "sns.set_style(\"whitegrid\")\n",
    "palette = sns.color_palette(\"Set2\")\n",
    "\n",
    "for i, col in enumerate(performance_cols):\n",
    "    # تحويل القيم إلى نسبة مئوية بضرب 10\n",
    "    y_vals = performance_by_type[col] * 10\n",
    "    plt.plot(performance_by_type[\"School Type\"], y_vals,\n",
    "             label=col, marker='o', linewidth=2.5, color=palette[i])\n",
    "    for x, y in zip(performance_by_type[\"School Type\"], y_vals):\n",
    "        plt.text(x, y + 0.5, f\"{y:.1f}%\", ha='center', fontsize=8)\n",
    "\n",
    "plt.xticks(rotation=45, ha=\"right\")\n",
    "plt.ylim(60, 100)  # ضبط حدود المحور الرأسي بالنسبة المئوية\n",
    "plt.title(\"متوسط مؤشرات الأداء لكل نوع مدرسة (بالنسبة المئوية)\", fontsize=14)\n",
    "plt.xlabel(\"نوع المدرسة\")\n",
    "plt.ylabel(\"التقييم (%)\")\n",
    "plt.legend(title=\"المؤشر\")\n",
    "plt.tight_layout()\n",
    "plt.show()"
   ]
  },
  {
   "cell_type": "code",
   "execution_count": 124,
   "id": "51333763",
   "metadata": {},
   "outputs": [
    {
     "name": "stderr",
     "output_type": "stream",
     "text": [
      "/var/folders/64/nvt4hqls53bc_mc9h52l7rnm0000gn/T/ipykernel_34623/542751293.py:19: FutureWarning: The default of observed=False is deprecated and will be changed to True in a future version of pandas. Pass observed=False to retain current behavior or observed=True to adopt the future default and silence this warning.\n",
      "  response_df = df.groupby(\"School Type\")[response_cols].mean().reset_index()\n",
      "/var/folders/64/nvt4hqls53bc_mc9h52l7rnm0000gn/T/ipykernel_34623/542751293.py:44: UserWarning: Glyph 128202 (\\N{BAR CHART}) missing from font(s) Arial.\n",
      "  plt.tight_layout()\n",
      "/Users/ahmad/PyCharmMiscProject/.venv/lib/python3.13/site-packages/IPython/core/pylabtools.py:170: UserWarning: Glyph 128202 (\\N{BAR CHART}) missing from font(s) Arial.\n",
      "  fig.canvas.print_figure(bytes_io, **kw)\n"
     ]
    },
    {
     "data": {
      "image/png": "[encoded data removed]",
      "text/plain": [
       "<Figure size 1200x600 with 1 Axes>"
      ]
     },
     "metadata": {},
     "output_type": "display_data"
    }
   ],
   "source": [
    "from pandas.api.types import CategoricalDtype\n",
    "\n",
    "order = [\n",
    "    \"Early Childhood School\", \"Elementary School\", \"Elementary/Middle School\",\n",
    "    \"Middle School\", \"Middle/High School\", \"High School\",\n",
    "    \"Transfer High School\", \"YABC\"\n",
    "]\n",
    "cat_type = CategoricalDtype(categories=order, ordered=True)\n",
    "df[\"School Type\"] = df[\"School Type\"].astype(cat_type)\n",
    "\n",
    "\n",
    "response_cols = [\n",
    "    \"Parent Response Rate\",\n",
    "    \"Teacher Response Rate\",\n",
    "    \"Student Response Rate\"\n",
    "]\n",
    "\n",
    "\n",
    "response_df = df.groupby(\"School Type\")[response_cols].mean().reset_index()\n",
    "response_df = response_df.sort_values(\"School Type\")  # حسب الترتيب المختار\n",
    "response_df_pct = response_df.copy()\n",
    "for col in response_cols:\n",
    "    response_df_pct[col] = (response_df_pct[col] * 100).round(1)\n",
    "\n",
    "\n",
    "plt.figure(figsize=(12, 6))\n",
    "sns.set_style(\"whitegrid\")\n",
    "colors = [\"#2a9d8f\", \"#264653\", \"#e76f51\"]\n",
    "\n",
    "for i, col in enumerate(response_cols):\n",
    "    plt.plot(response_df_pct[\"School Type\"], response_df_pct[col],\n",
    "             label=col.replace(\" Response Rate\", \"\"),\n",
    "             marker=\"o\", linewidth=2.5, color=colors[i])\n",
    "\n",
    "    for x, y in zip(response_df_pct[\"School Type\"], response_df_pct[col]):\n",
    "        plt.text(x, y + 1.5, f\"{y:.1f}%\", ha=\"center\", fontsize=8)\n",
    "\n",
    "plt.xticks(rotation=45, ha=\"right\")\n",
    "plt.ylim(0, response_df_pct[response_cols].max().max() + 10)\n",
    "plt.title(\"📊 مقارنة استجابة الأطراف حسب نوع المدرسة\", fontsize=14)\n",
    "plt.ylabel(\"نسبة الاستجابة (%)\")\n",
    "plt.xlabel(\"نوع المدرسة\")\n",
    "plt.legend(title=\"جهة الاستجابة\")\n",
    "plt.tight_layout()\n",
    "plt.grid(axis=\"y\")\n",
    "plt.show()"
   ]
  }
 ],
 "metadata": {
  "kernelspec": {
   "display_name": ".venv",
   "language": "python",
   "name": "python3"
  },
  "language_info": {
   "codemirror_mode": {
    "name": "ipython",
    "version": 3
   },
   "file_extension": ".py",
   "mimetype": "text/x-python",
   "name": "python",
   "nbconvert_exporter": "python",
   "pygments_lexer": "ipython3",
   "version": "3.13.0"
  }
 },
 "nbformat": 4,
 "nbformat_minor": 5
}
